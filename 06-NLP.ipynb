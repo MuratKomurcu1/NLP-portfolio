{
  "nbformat": 4,
  "nbformat_minor": 0,
  "metadata": {
    "colab": {
      "provenance": []
    },
    "kernelspec": {
      "name": "python3",
      "display_name": "Python 3"
    },
    "language_info": {
      "name": "python"
    }
  },
  "cells": [
    {
      "cell_type": "code",
      "source": [
        "!pip install transformers[sentencepiece] sumy"
      ],
      "metadata": {
        "colab": {
          "base_uri": "https://localhost:8080/"
        },
        "id": "OVGdWHDhDPJY",
        "outputId": "f414c27f-230a-467d-d310-8f94d877cf83"
      },
      "execution_count": null,
      "outputs": [
        {
          "output_type": "stream",
          "name": "stdout",
          "text": [
            "Requirement already satisfied: sumy in /usr/local/lib/python3.11/dist-packages (0.11.0)\n",
            "Requirement already satisfied: transformers[sentencepiece] in /usr/local/lib/python3.11/dist-packages (4.53.2)\n",
            "Requirement already satisfied: filelock in /usr/local/lib/python3.11/dist-packages (from transformers[sentencepiece]) (3.18.0)\n",
            "Requirement already satisfied: huggingface-hub<1.0,>=0.30.0 in /usr/local/lib/python3.11/dist-packages (from transformers[sentencepiece]) (0.33.4)\n",
            "Requirement already satisfied: numpy>=1.17 in /usr/local/lib/python3.11/dist-packages (from transformers[sentencepiece]) (2.0.2)\n",
            "Requirement already satisfied: packaging>=20.0 in /usr/local/lib/python3.11/dist-packages (from transformers[sentencepiece]) (25.0)\n",
            "Requirement already satisfied: pyyaml>=5.1 in /usr/local/lib/python3.11/dist-packages (from transformers[sentencepiece]) (6.0.2)\n",
            "Requirement already satisfied: regex!=2019.12.17 in /usr/local/lib/python3.11/dist-packages (from transformers[sentencepiece]) (2024.11.6)\n",
            "Requirement already satisfied: requests in /usr/local/lib/python3.11/dist-packages (from transformers[sentencepiece]) (2.32.3)\n",
            "Requirement already satisfied: tokenizers<0.22,>=0.21 in /usr/local/lib/python3.11/dist-packages (from transformers[sentencepiece]) (0.21.2)\n",
            "Requirement already satisfied: safetensors>=0.4.3 in /usr/local/lib/python3.11/dist-packages (from transformers[sentencepiece]) (0.5.3)\n",
            "Requirement already satisfied: tqdm>=4.27 in /usr/local/lib/python3.11/dist-packages (from transformers[sentencepiece]) (4.67.1)\n",
            "Requirement already satisfied: sentencepiece!=0.1.92,>=0.1.91 in /usr/local/lib/python3.11/dist-packages (from transformers[sentencepiece]) (0.2.0)\n",
            "Requirement already satisfied: protobuf in /usr/local/lib/python3.11/dist-packages (from transformers[sentencepiece]) (5.29.5)\n",
            "Requirement already satisfied: docopt<0.7,>=0.6.1 in /usr/local/lib/python3.11/dist-packages (from sumy) (0.6.2)\n",
            "Requirement already satisfied: breadability>=0.1.20 in /usr/local/lib/python3.11/dist-packages (from sumy) (0.1.20)\n",
            "Requirement already satisfied: pycountry>=18.2.23 in /usr/local/lib/python3.11/dist-packages (from sumy) (24.6.1)\n",
            "Requirement already satisfied: nltk>=3.0.2 in /usr/local/lib/python3.11/dist-packages (from sumy) (3.9.1)\n",
            "Requirement already satisfied: chardet in /usr/local/lib/python3.11/dist-packages (from breadability>=0.1.20->sumy) (5.2.0)\n",
            "Requirement already satisfied: lxml>=2.0 in /usr/local/lib/python3.11/dist-packages (from breadability>=0.1.20->sumy) (5.4.0)\n",
            "Requirement already satisfied: fsspec>=2023.5.0 in /usr/local/lib/python3.11/dist-packages (from huggingface-hub<1.0,>=0.30.0->transformers[sentencepiece]) (2025.3.2)\n",
            "Requirement already satisfied: typing-extensions>=3.7.4.3 in /usr/local/lib/python3.11/dist-packages (from huggingface-hub<1.0,>=0.30.0->transformers[sentencepiece]) (4.14.1)\n",
            "Requirement already satisfied: hf-xet<2.0.0,>=1.1.2 in /usr/local/lib/python3.11/dist-packages (from huggingface-hub<1.0,>=0.30.0->transformers[sentencepiece]) (1.1.5)\n",
            "Requirement already satisfied: click in /usr/local/lib/python3.11/dist-packages (from nltk>=3.0.2->sumy) (8.2.1)\n",
            "Requirement already satisfied: joblib in /usr/local/lib/python3.11/dist-packages (from nltk>=3.0.2->sumy) (1.5.1)\n",
            "Requirement already satisfied: charset-normalizer<4,>=2 in /usr/local/lib/python3.11/dist-packages (from requests->transformers[sentencepiece]) (3.4.2)\n",
            "Requirement already satisfied: idna<4,>=2.5 in /usr/local/lib/python3.11/dist-packages (from requests->transformers[sentencepiece]) (3.10)\n",
            "Requirement already satisfied: urllib3<3,>=1.21.1 in /usr/local/lib/python3.11/dist-packages (from requests->transformers[sentencepiece]) (2.4.0)\n",
            "Requirement already satisfied: certifi>=2017.4.17 in /usr/local/lib/python3.11/dist-packages (from requests->transformers[sentencepiece]) (2025.7.14)\n"
          ]
        }
      ]
    },
    {
      "cell_type": "code",
      "source": [
        "from transformers import pipeline\n",
        "import torch\n",
        "from sumy.parsers.plaintext import PlaintextParser\n",
        "from sumy.nlp.tokenizers import Tokenizer\n",
        "from sumy.summarizers.lex_rank import LexRankSummarizer\n"
      ],
      "metadata": {
        "id": "liB6BHThFl4U"
      },
      "execution_count": null,
      "outputs": []
    },
    {
      "cell_type": "code",
      "source": [
        "import nltk\n",
        "nltk.download('punkt_tab')"
      ],
      "metadata": {
        "colab": {
          "base_uri": "https://localhost:8080/"
        },
        "id": "qk73NlGxKfJA",
        "outputId": "c4b81c5d-357a-46ed-8ef9-e5faeca3ce03"
      },
      "execution_count": null,
      "outputs": [
        {
          "output_type": "stream",
          "name": "stderr",
          "text": [
            "[nltk_data] Downloading package punkt_tab to /root/nltk_data...\n",
            "[nltk_data]   Package punkt_tab is already up-to-date!\n"
          ]
        },
        {
          "output_type": "execute_result",
          "data": {
            "text/plain": [
              "True"
            ]
          },
          "metadata": {},
          "execution_count": 34
        }
      ]
    },
    {
      "cell_type": "code",
      "source": [
        "import nltk\n",
        "\n",
        "try:\n",
        "    nltk.data.find('tokenizers/punkt')\n",
        "except LookupError:\n",
        "\n",
        "    print(\"NLTK 'punkt' paketi bulunamadı, indiriliyor...\")\n",
        "    nltk.download('punkt')\n",
        "    print(\"İndirme tamamlandı.\")"
      ],
      "metadata": {
        "id": "5yv4nM0rIx01"
      },
      "execution_count": null,
      "outputs": []
    },
    {
      "cell_type": "markdown",
      "source": [],
      "metadata": {
        "id": "n9bsegiVD_0m"
      }
    },
    {
      "cell_type": "code",
      "source": [
        "text = \"\"\"\n",
        "Küresel iklim değişikliği, dünya genelinde sıcaklıkların artmasına ve hava olaylarının değişmesine yol açan önemli bir çevre sorunudur.\n",
        "Sanayi Devrimi'nden bu yana fosil yakıtların yoğun kullanımı, atmosferdeki sera gazı konsantrasyonlarını artırmıştır.\n",
        "Bu gazlar, güneşten gelen ısının atmosferde hapsolmasına neden olarak dünyanın ısınmasına yol açar.\n",
        "Artan sıcaklıklar buzulların erimesine, deniz seviyelerinin yükselmesine ve kuraklık, sel gibi ekstrem hava olaylarının artmasına neden olmaktadır.\n",
        "\n",
        "Bilim insanları, karbon salımını azaltmak için yenilenebilir enerji kaynaklarının kullanılmasını,\n",
        "enerji verimliliğinin artırılmasını ve ormanların korunmasını önermektedir. Ayrıca bireylerin günlük yaşamlarında enerji tasarrufu\n",
        "sağlamaları ve karbon ayak izlerini azaltmaları teşvik edilmektedir. Ancak küresel işbirliği olmadan bu sorunun üstesinden gelmek oldukça zordur.\n",
        "Hükümetlerin sera gazı emisyonlarını sınırlayan politikalar geliştirmesi gerekmektedir.\n",
        "\n",
        "Son yıllarda, iklim değişikliğinin ekonomik etkileri de giderek daha görünür hale gelmiştir. Tarım sektöründe verim kayıpları yaşanırken,\n",
        "sel ve fırtına gibi afetler altyapıya büyük zararlar vermektedir. Bu durum, ülkelerin ekonomik büyümesini ve gıda güvenliğini tehdit etmektedir.\n",
        "İklim değişikliğine karşı uyum sağlamak ve dirençli yapılar inşa etmek, yalnızca çevresel değil,\n",
        "aynı zamanda ekonomik sürdürülebilirlik açısından da kritik hale gelmiştir.\n",
        "\"\"\"\n"
      ],
      "metadata": {
        "id": "b8_AR7mCHWeq"
      },
      "execution_count": null,
      "outputs": []
    },
    {
      "cell_type": "code",
      "source": [
        "question1 = \"İklim değişikliğinin ekonomik etkileri nelerdir?\"\n",
        "question2 = \"Bilim insanları iklim değişikliğiyle mücadelede hangi yöntemleri öneriyor?\"\n",
        "\n",
        "print\n",
        "summarizer_pipeline = pipeline(\"summarization\", model=\"google/mt5-base\")\n",
        "\n",
        "prefixed_text = \"özetle: \" + text\n",
        "summary_abstractive = summarizer_pipeline(prefixed_text, max_length=100, min_length=25, do_sample=False)\n",
        "print(summary_abstractive[0]['summary_text'])\n",
        "print(\"-\" * 50)"
      ],
      "metadata": {
        "colab": {
          "base_uri": "https://localhost:8080/"
        },
        "id": "8y_CC4pzHaaL",
        "outputId": "fc1cea91-74af-4c9e-df55-a31f6c1a085e"
      },
      "execution_count": null,
      "outputs": [
        {
          "output_type": "stream",
          "name": "stderr",
          "text": [
            "/usr/local/lib/python3.11/dist-packages/transformers/convert_slow_tokenizer.py:564: UserWarning: The sentencepiece tokenizer that you are converting to a fast tokenizer uses the byte fallback option which is not implemented in the fast tokenizers. In practice this means that the fast version of the tokenizer can produce unknown tokens whereas the sentencepiece version would have converted these unknown tokens into a sequence of byte tokens matching the original piece of text.\n",
            "  warnings.warn(\n",
            "Device set to use cpu\n",
            "Both `max_new_tokens` (=256) and `max_length`(=100) seem to have been set. `max_new_tokens` will take precedence. Please refer to the documentation for more information. (https://huggingface.co/docs/transformers/main/en/main_classes/text_generation)\n"
          ]
        },
        {
          "output_type": "stream",
          "name": "stdout",
          "text": [
            "<extra_id_0> özetle: Küresel iklim değişik... <extra_id_1>, özet özetle: <extra_id_2>, özet:\n",
            "--------------------------------------------------\n"
          ]
        }
      ]
    },
    {
      "cell_type": "code",
      "source": [
        "print\n",
        "parser = PlaintextParser.from_string(text, Tokenizer(\"turkish\"))\n",
        "#metindeki her cümlenin ne kadar \"merkezi\" ve \"önemli\" olduğunu matematiksel olarak hesaplar.\n",
        "#Algoritmayı çalıştırır ve ondan, metnin tamamını en iyi temsil ettiğini düşündüğü en önemli 3 cümleyi seçmesini isteriz.\n",
        "summarizer_lex = LexRankSummarizer()\n",
        "summary_extractive = summarizer_lex(parser.document, 3)\n",
        "for sentence in summary_extractive:\n",
        "    print(str(sentence))\n",
        "print(\"-\" * 50)"
      ],
      "metadata": {
        "colab": {
          "base_uri": "https://localhost:8080/"
        },
        "id": "PyOEyceHH06x",
        "outputId": "09669b46-1fa4-49e4-a07d-c416c1dfb149"
      },
      "execution_count": null,
      "outputs": [
        {
          "output_type": "stream",
          "name": "stdout",
          "text": [
            "Küresel iklim değişikliği, dünya genelinde sıcaklıkların artmasına ve hava olaylarının değişmesine yol açan önemli bir çevre sorunudur.\n",
            "Sanayi Devrimi'nden bu yana fosil yakıtların yoğun kullanımı, atmosferdeki sera gazı konsantrasyonlarını artırmıştır.\n",
            "Bu gazlar, güneşten gelen ısının atmosferde hapsolmasına neden olarak dünyanın ısınmasına yol açar.\n",
            "--------------------------------------------------\n"
          ]
        }
      ]
    },
    {
      "cell_type": "code",
      "source": [
        "print\n",
        "qa_abstractive_pipeline = pipeline(\"text2text-generation\", model=\"google/mt5-base\")\n",
        "input_text1 = f\"soru: {question1} bağlam: {text}\"\n",
        "input_text2 = f\"soru: {question2} bağlam: {text}\"\n",
        "#Modeli çalıştırırız. Model, soruyu ve metni anlar, cevabı kendi içinde formüle eder ve yeni, özgün bir cevap cümlesi üretir.\n",
        "\n",
        "answer1_abs = qa_abstractive_pipeline(input_text1, max_length=50, min_length=10)\n",
        "answer2_abs = qa_abstractive_pipeline(input_text2, max_length=50, min_length=10)\n"
      ],
      "metadata": {
        "colab": {
          "base_uri": "https://localhost:8080/"
        },
        "id": "ecFMYb5fK8hH",
        "outputId": "b126df42-d389-4887-9dd0-2b617ce01d4f"
      },
      "execution_count": null,
      "outputs": [
        {
          "output_type": "stream",
          "name": "stderr",
          "text": [
            "Device set to use cpu\n",
            "Both `max_new_tokens` (=256) and `max_length`(=50) seem to have been set. `max_new_tokens` will take precedence. Please refer to the documentation for more information. (https://huggingface.co/docs/transformers/main/en/main_classes/text_generation)\n",
            "Both `max_new_tokens` (=256) and `max_length`(=50) seem to have been set. `max_new_tokens` will take precedence. Please refer to the documentation for more information. (https://huggingface.co/docs/transformers/main/en/main_classes/text_generation)\n"
          ]
        }
      ]
    },
    {
      "cell_type": "code",
      "source": [
        "print(f\"Soru 1: {question1}\")\n",
        "print(f\"Cevap 1: {answer1_abs[0]['generated_text']}\\n\")\n",
        "print(f\"Soru 2: {question2}\")\n",
        "print(f\"Cevap 2: {answer2_abs[0]['generated_text']}\")\n",
        "print(\"-\" * 50)"
      ],
      "metadata": {
        "colab": {
          "base_uri": "https://localhost:8080/"
        },
        "id": "reP9Gu2oLice",
        "outputId": "2b888e26-7c7c-461a-fdb6-decd2b5bb6d4"
      },
      "execution_count": null,
      "outputs": [
        {
          "output_type": "stream",
          "name": "stdout",
          "text": [
            "Soru 1: İklim değişikliğinin ekonomik etkileri nelerdir?\n",
            "Cevap 1: <extra_id_0>, iklim değişikliğinin ekonomik etkileri nelerdir?\n",
            "\n",
            "Soru 2: Bilim insanları iklim değişikliğiyle mücadelede hangi yöntemleri öneriyor?\n",
            "Cevap 2: <extra_id_0> Bilim insanları iklim değişikliğiyle mücadelede\n",
            "--------------------------------------------------\n"
          ]
        }
      ]
    },
    {
      "cell_type": "code",
      "source": [
        "print\n",
        "# Model: 'savasy/bert-base-turkish-squad' -> Ödev notlarında da önerilen, Türkçe SQuAD verisiyle eğitilmiş, bu görev için en iyi seçeneklerden biri.\n",
        "qa_extractive_pipeline = pipeline(\"question-answering\", model=\"savasy/bert-base-turkish-squad\")\n",
        "\n",
        "answer1_ext = qa_extractive_pipeline(question=question1, context=text)\n",
        "answer2_ext = qa_extractive_pipeline(question=question2, context=text)"
      ],
      "metadata": {
        "colab": {
          "base_uri": "https://localhost:8080/"
        },
        "id": "rtRrdHW3LlQB",
        "outputId": "ff4e867c-eaf5-48b2-ccc6-b9a5f8916251"
      },
      "execution_count": null,
      "outputs": [
        {
          "output_type": "stream",
          "name": "stderr",
          "text": [
            "Some weights of the model checkpoint at savasy/bert-base-turkish-squad were not used when initializing BertForQuestionAnswering: ['bert.pooler.dense.bias', 'bert.pooler.dense.weight']\n",
            "- This IS expected if you are initializing BertForQuestionAnswering from the checkpoint of a model trained on another task or with another architecture (e.g. initializing a BertForSequenceClassification model from a BertForPreTraining model).\n",
            "- This IS NOT expected if you are initializing BertForQuestionAnswering from the checkpoint of a model that you expect to be exactly identical (initializing a BertForSequenceClassification model from a BertForSequenceClassification model).\n",
            "Device set to use cpu\n"
          ]
        }
      ]
    },
    {
      "cell_type": "code",
      "source": [
        "print(f\"Soru 1: {question1}\")\n",
        "print(f\"Cevap 1: {answer1_ext['answer']}\\n\")\n",
        "print(f\"Soru 2: {question2}\")\n",
        "print(f\"Cevap 2: {answer2_ext['answer']}\")\n",
        "print(\"-\" * 50)"
      ],
      "metadata": {
        "colab": {
          "base_uri": "https://localhost:8080/"
        },
        "id": "adBTe8lNLzCt",
        "outputId": "72a3eadc-ac2f-4d86-9b20-4e02821f6291"
      },
      "execution_count": null,
      "outputs": [
        {
          "output_type": "stream",
          "name": "stdout",
          "text": [
            "Soru 1: İklim değişikliğinin ekonomik etkileri nelerdir?\n",
            "Cevap 1: iklim değişikliğinin ekonomik etkileri de giderek daha görünür hale gelmiştir.\n",
            "\n",
            "Soru 2: Bilim insanları iklim değişikliğiyle mücadelede hangi yöntemleri öneriyor?\n",
            "Cevap 2: yenilenebilir enerji kaynaklarının kullanılmasını,\n",
            "enerji verimliliğinin artırılmasını ve ormanların korunmasını\n",
            "--------------------------------------------------\n"
          ]
        }
      ]
    }
  ]
}