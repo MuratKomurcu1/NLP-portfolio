{
  "nbformat": 4,
  "nbformat_minor": 0,
  "metadata": {
    "colab": {
      "provenance": []
    },
    "kernelspec": {
      "name": "python3",
      "display_name": "Python 3"
    },
    "language_info": {
      "name": "python"
    }
  },
  "cells": [
    {
      "cell_type": "code",
      "execution_count": 1,
      "metadata": {
        "id": "oenBIhNVaKfA"
      },
      "outputs": [],
      "source": [
        "import pandas as pd\n",
        "import random\n",
        "from sklearn.model_selection import train_test_split\n",
        "from sklearn.feature_extraction.text import CountVectorizer, TfidfVectorizer\n",
        "from sklearn.naive_bayes import MultinomialNB\n",
        "from sklearn.linear_model import LogisticRegression\n",
        "from sklearn.svm import SVC\n",
        "from sklearn.pipeline import Pipeline\n",
        "from sklearn.metrics import accuracy_score"
      ]
    },
    {
      "cell_type": "code",
      "source": [
        "positive_reviews = [\n",
        "    \"I love this product! It works perfectly.\",\n",
        "    \"Amazing quality and super fast delivery!\",\n",
        "    \"Highly recommended, I will buy again.\",\n",
        "    \"Five stars, exceeded my expectations.\",\n",
        "    \"Great value for the price.\",\n",
        "    \"Very satisfied with this purchase.\",\n",
        "    \"Easy to use and very effective.\",\n",
        "    \"Excellent performance and build quality.\",\n",
        "    \"Superb customer service and fast shipping.\",\n",
        "    \"This is the best thing I've bought all year!\"\n",
        "]\n",
        "\n",
        "negative_reviews = [\n",
        "    \"Terrible product. Do not buy.\",\n",
        "    \"Very disappointed with the quality.\",\n",
        "    \"Stopped working after a week.\",\n",
        "    \"Not as described. Waste of money.\",\n",
        "    \"Poor build quality and slow shipping.\",\n",
        "    \"Would not recommend to anyone.\",\n",
        "    \"I regret buying this.\",\n",
        "    \"Broke on the first use.\",\n",
        "    \"Customer service was unhelpful.\",\n",
        "    \"It didn't work at all.\"\n",
        "]"
      ],
      "metadata": {
        "id": "-fCo7WrbaN0h"
      },
      "execution_count": 2,
      "outputs": []
    },
    {
      "cell_type": "code",
      "source": [
        "data = []\n",
        "for _ in range(50):\n",
        "    data.append({\"reviews\": random.choice(positive_reviews), \"label\": \"POSITIVE\"})\n",
        "for _ in range(50):\n",
        "    data.append({\"reviews\": random.choice(negative_reviews), \"label\": \"NEGATIVE\"})"
      ],
      "metadata": {
        "id": "k2OsdZZKaVqX"
      },
      "execution_count": 3,
      "outputs": []
    },
    {
      "cell_type": "code",
      "source": [
        "random.shuffle(data)"
      ],
      "metadata": {
        "id": "jBBOvo8LaZt3"
      },
      "execution_count": 4,
      "outputs": []
    },
    {
      "cell_type": "code",
      "source": [
        "df = pd.DataFrame(data)\n",
        "\n",
        "print(\"--- Verisetinin İlk 5 Satırı ---\")\n",
        "print(df.head())\n",
        "print(\"\\n\" + \"=\"*30 + \"\\n\")"
      ],
      "metadata": {
        "colab": {
          "base_uri": "https://localhost:8080/"
        },
        "id": "4SgZabvHabce",
        "outputId": "5dfe7da1-5322-413c-8bf1-8bef8602b11d"
      },
      "execution_count": 5,
      "outputs": [
        {
          "output_type": "stream",
          "name": "stdout",
          "text": [
            "--- Verisetinin İlk 5 Satırı ---\n",
            "                                      reviews     label\n",
            "0       Poor build quality and slow shipping.  NEGATIVE\n",
            "1           Not as described. Waste of money.  NEGATIVE\n",
            "2                       I regret buying this.  NEGATIVE\n",
            "3                      It didn't work at all.  NEGATIVE\n",
            "4  Superb customer service and fast shipping.  POSITIVE\n",
            "\n",
            "==============================\n",
            "\n"
          ]
        }
      ]
    },
    {
      "cell_type": "code",
      "source": [
        "# Metin etiketlerini (POSITIVE/NEGATIVE) sayısal değerlere dönüştürme (1/0)\n",
        "# Makine öğrenmesi modelleri sayısal verilerle çalışır.\n",
        "df['label_num'] = df['label'].map({'POSITIVE': 1, 'NEGATIVE': 0})"
      ],
      "metadata": {
        "id": "JBjMOkQ6ae-R"
      },
      "execution_count": 6,
      "outputs": []
    },
    {
      "cell_type": "code",
      "source": [
        "# Bağımsız (X) ve bağımlı (y) değişkenleri ayırma\n",
        "X = df['reviews']  # Özellikler (yorum metinleri)\n",
        "y = df['label_num']  # Hedef (duygu etiketleri)"
      ],
      "metadata": {
        "id": "etLNVCiTakgo"
      },
      "execution_count": 7,
      "outputs": []
    },
    {
      "cell_type": "code",
      "source": [
        "# Veriyi eğitim ve test setlerine ayırma\n",
        "# Verinin %80'i modeli eğitmek, %20'si ise test etmek için kullanılacak.\n",
        "# stratify=y, eğitim ve test setlerindeki pozitif/negatif oranının korunmasını sağlar.\n",
        "X_train, X_test, y_train, y_test = train_test_split(\n",
        "    X, y,\n",
        "    test_size=0.2,\n",
        "    random_state=42, # Sonuçların tekrarlanabilir olması için\n",
        "    stratify=y\n",
        ")"
      ],
      "metadata": {
        "id": "sNkN6VO7apDr"
      },
      "execution_count": 8,
      "outputs": []
    },
    {
      "cell_type": "code",
      "source": [
        "# Kullanılacak vektörleştiricileri tanımlama\n",
        "# Vektörleştiriciler, metinleri sayısal vektörlere dönüştürür.\n",
        "vectorizers = {\n",
        "    \"CountVectorizer\": CountVectorizer(), # Kelime sayımına göre vektörleştirme\n",
        "    \"TfidfVectorizer\": TfidfVectorizer()  # Kelime frekansı-ters belge frekansına göre vektörleştirme\n",
        "}\n",
        "\n",
        "# Kullanılacak sınıflandırma modellerini tanımlama\n",
        "models = {\n",
        "    \"Logistic Regression\": LogisticRegression(random_state=42),\n",
        "    \"Multinomial Naive Bayes\": MultinomialNB(),\n",
        "    \"Support Vector Classifier\": SVC(random_state=42)\n",
        "}"
      ],
      "metadata": {
        "id": "QvrehPgoaxRp"
      },
      "execution_count": 9,
      "outputs": []
    },
    {
      "cell_type": "code",
      "source": [
        "# Sonuçları saklamak için boş bir liste\n",
        "results = []\n",
        "# Eğitilmiş pipeline'ları saklamak için bir sözlük\n",
        "pipelines = {}\n",
        "\n",
        "print(\"--- Model Eğitimi ve Değerlendirmesi Başladı ---\\n\")"
      ],
      "metadata": {
        "colab": {
          "base_uri": "https://localhost:8080/"
        },
        "id": "BCGqg1Uha0mQ",
        "outputId": "4a793307-ade4-405d-c445-5b1054b08034"
      },
      "execution_count": 10,
      "outputs": [
        {
          "output_type": "stream",
          "name": "stdout",
          "text": [
            "--- Model Eğitimi ve Değerlendirmesi Başladı ---\n",
            "\n"
          ]
        }
      ]
    },
    {
      "cell_type": "code",
      "source": [
        "# Her bir vektörleştirici ve model kombinasyonunu denemek için döngü\n",
        "for vec_name, vectorizer in vectorizers.items():\n",
        "    for model_name, model in models.items():\n",
        "        # Pipeline: Veri işleme adımlarını (vektörleştirme) ve modeli birleştirir.\n",
        "        pipeline = Pipeline([\n",
        "            ('vectorizer', vectorizer),\n",
        "            ('classifier', model)\n",
        "        ])\n",
        "\n",
        "        # Modeli (pipeline'ı) eğitim verisiyle eğitme\n",
        "        pipeline.fit(X_train, y_train)\n",
        "\n",
        "        # Eğitilmiş pipeline'ı saklama\n",
        "        pipeline_name = f\"{vec_name}_{model_name}\"\n",
        "        pipelines[pipeline_name] = pipeline\n",
        "\n",
        "        # Test seti üzerinde tahmin yapma\n",
        "        y_pred = pipeline.predict(X_test)\n",
        "\n",
        "        # Modelin doğruluk skorunu hesaplama\n",
        "        accuracy = accuracy_score(y_test, y_pred)\n",
        "\n",
        "        # Sonuçları listeye ekleme\n",
        "        results.append({\n",
        "            \"Vektörleştirici\": vec_name,\n",
        "            \"Model\": model_name,\n",
        "            \"Doğruluk (%)\": accuracy * 100\n",
        "        })\n",
        "        print(f\"'{vec_name}' + '{model_name}' modeli eğitildi ve test edildi.\")\n",
        "\n",
        "print(\"\\n--- Model Performans Karşılaştırması ---\\n\")"
      ],
      "metadata": {
        "colab": {
          "base_uri": "https://localhost:8080/"
        },
        "id": "lO80UBoua5rI",
        "outputId": "a658b3c7-ebcf-4686-a2d3-09659b6b6e53"
      },
      "execution_count": 11,
      "outputs": [
        {
          "output_type": "stream",
          "name": "stdout",
          "text": [
            "'CountVectorizer' + 'Logistic Regression' modeli eğitildi ve test edildi.\n",
            "'CountVectorizer' + 'Multinomial Naive Bayes' modeli eğitildi ve test edildi.\n",
            "'CountVectorizer' + 'Support Vector Classifier' modeli eğitildi ve test edildi.\n",
            "'TfidfVectorizer' + 'Logistic Regression' modeli eğitildi ve test edildi.\n",
            "'TfidfVectorizer' + 'Multinomial Naive Bayes' modeli eğitildi ve test edildi.\n",
            "'TfidfVectorizer' + 'Support Vector Classifier' modeli eğitildi ve test edildi.\n",
            "\n",
            "--- Model Performans Karşılaştırması ---\n",
            "\n"
          ]
        }
      ]
    },
    {
      "cell_type": "code",
      "source": [
        "# Sonuçları DataFrame olarak düzenleme ve doğruluk oranına göre sıralama\n",
        "results_df = pd.DataFrame(results).sort_values(by=\"Doğruluk (%)\", ascending=False).reset_index(drop=True)\n",
        "print(results_df.to_string())\n",
        "print(\"\\n\" + \"=\"*30 + \"\\n\")\n",
        "\n",
        "\n",
        "örnek_cümle = \"The product is not good, it was a total waste of money.\"\n",
        "\n",
        "print(f\"Örnek Cümle: '{örnek_cümle}'\\n\")\n",
        "\n",
        "# Tüm modellerin bu cümle için tahminlerini görelim\n",
        "print(\"--- Tüm Modellerin Örnek Cümle İçin Tahminleri ---\\n\")\n",
        "for pipeline_name, pipeline in pipelines.items():\n",
        "    prediction = pipeline.predict([örnek_cümle])\n",
        "    predicted_label = \"POSITIVE\" if prediction[0] == 1 else \"NEGATIVE\"\n",
        "    print(f\"{pipeline_name.replace('_', ' + '):<45}: {predicted_label}\")"
      ],
      "metadata": {
        "colab": {
          "base_uri": "https://localhost:8080/"
        },
        "id": "ZT5ByIcLa7AR",
        "outputId": "169f7254-02ab-4703-8b1d-ee2d5819d292"
      },
      "execution_count": 12,
      "outputs": [
        {
          "output_type": "stream",
          "name": "stdout",
          "text": [
            "   Vektörleştirici                      Model  Doğruluk (%)\n",
            "0  CountVectorizer        Logistic Regression         100.0\n",
            "1  CountVectorizer    Multinomial Naive Bayes         100.0\n",
            "2  CountVectorizer  Support Vector Classifier         100.0\n",
            "3  TfidfVectorizer        Logistic Regression         100.0\n",
            "4  TfidfVectorizer    Multinomial Naive Bayes         100.0\n",
            "5  TfidfVectorizer  Support Vector Classifier         100.0\n",
            "\n",
            "==============================\n",
            "\n",
            "Örnek Cümle: 'The product is not good, it was a total waste of money.'\n",
            "\n",
            "--- Tüm Modellerin Örnek Cümle İçin Tahminleri ---\n",
            "\n",
            "CountVectorizer + Logistic Regression        : NEGATIVE\n",
            "CountVectorizer + Multinomial Naive Bayes    : NEGATIVE\n",
            "CountVectorizer + Support Vector Classifier  : NEGATIVE\n",
            "TfidfVectorizer + Logistic Regression        : NEGATIVE\n",
            "TfidfVectorizer + Multinomial Naive Bayes    : NEGATIVE\n",
            "TfidfVectorizer + Support Vector Classifier  : NEGATIVE\n"
          ]
        }
      ]
    },
    {
      "cell_type": "code",
      "source": [
        "# Sonuçları DataFrame olarak düzenleme ve doğruluk oranına göre sıralama\n",
        "results_df = pd.DataFrame(results).sort_values(by=\"Doğruluk (%)\", ascending=False).reset_index(drop=True)\n",
        "print(results_df.to_string())\n",
        "print(\"\\n\" + \"=\"*30 + \"\\n\")\n",
        "\n",
        "\n",
        "örnek_cümle = \"The product is good, but so expensive\"\n",
        "\n",
        "print(f\"Örnek Cümle: '{örnek_cümle}'\\n\")\n",
        "\n",
        "# Tüm modellerin bu cümle için tahminlerini görelim\n",
        "print(\"--- Tüm Modellerin Örnek Cümle İçin Tahminleri ---\\n\")\n",
        "for pipeline_name, pipeline in pipelines.items():\n",
        "    prediction = pipeline.predict([örnek_cümle])\n",
        "    predicted_label = \"POSITIVE\" if prediction[0] == 1 else \"NEGATIVE\"\n",
        "    print(f\"{pipeline_name.replace('_', ' + '):<45}: {predicted_label}\")"
      ],
      "metadata": {
        "colab": {
          "base_uri": "https://localhost:8080/"
        },
        "id": "00y6p7b2bhcu",
        "outputId": "348db3ab-c3fc-4646-eb70-4caa780ddf43"
      },
      "execution_count": 13,
      "outputs": [
        {
          "output_type": "stream",
          "name": "stdout",
          "text": [
            "   Vektörleştirici                      Model  Doğruluk (%)\n",
            "0  CountVectorizer        Logistic Regression         100.0\n",
            "1  CountVectorizer    Multinomial Naive Bayes         100.0\n",
            "2  CountVectorizer  Support Vector Classifier         100.0\n",
            "3  TfidfVectorizer        Logistic Regression         100.0\n",
            "4  TfidfVectorizer    Multinomial Naive Bayes         100.0\n",
            "5  TfidfVectorizer  Support Vector Classifier         100.0\n",
            "\n",
            "==============================\n",
            "\n",
            "Örnek Cümle: 'The product is good, but so expensive'\n",
            "\n",
            "--- Tüm Modellerin Örnek Cümle İçin Tahminleri ---\n",
            "\n",
            "CountVectorizer + Logistic Regression        : NEGATIVE\n",
            "CountVectorizer + Multinomial Naive Bayes    : POSITIVE\n",
            "CountVectorizer + Support Vector Classifier  : NEGATIVE\n",
            "TfidfVectorizer + Logistic Regression        : NEGATIVE\n",
            "TfidfVectorizer + Multinomial Naive Bayes    : POSITIVE\n",
            "TfidfVectorizer + Support Vector Classifier  : POSITIVE\n"
          ]
        }
      ]
    },
    {
      "cell_type": "markdown",
      "source": [
        "CountVectorizer + Multinomial Naive Bayes , TfidfVectorizer + Multinomial Naive Bayes , TfidfVectorizer + Support Vector Classifier  basit ama karışık bir cümlede yanıldı."
      ],
      "metadata": {
        "id": "-ipz1slmbukw"
      }
    }
  ]
}