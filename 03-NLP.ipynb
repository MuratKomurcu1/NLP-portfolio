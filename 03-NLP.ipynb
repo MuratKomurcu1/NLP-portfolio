{
  "nbformat": 4,
  "nbformat_minor": 0,
  "metadata": {
    "colab": {
      "provenance": []
    },
    "kernelspec": {
      "name": "python3",
      "display_name": "Python 3"
    },
    "language_info": {
      "name": "python"
    }
  },
  "cells": [
    {
      "cell_type": "code",
      "execution_count": 1,
      "metadata": {
        "id": "fIfUnSNBYUTo"
      },
      "outputs": [],
      "source": [
        "import pandas as pd\n",
        "\n",
        "pd.set_option('display.max_rows', None)\n",
        "pd.set_option('display.max_columns', None)\n",
        "pd.set_option('display.width', None)\n",
        "pd.set_option('display.max_colwidth', None)"
      ]
    },
    {
      "cell_type": "code",
      "source": [
        "# veri setini okuyalım:\n",
        "train_df = pd.read_csv(\"/content/train.csv\")\n",
        "test_df = pd.read_csv(\"/content/test.csv\")\n",
        "train_df.head()"
      ],
      "metadata": {
        "id": "EPk6STcmBVFF",
        "colab": {
          "base_uri": "https://localhost:8080/",
          "height": 206
        },
        "outputId": "8a6fb4aa-281b-4655-d6c2-1c9145c0e74b"
      },
      "execution_count": 2,
      "outputs": [
        {
          "output_type": "execute_result",
          "data": {
            "text/plain": [
              "   id keyword location  \\\n",
              "0   1     NaN      NaN   \n",
              "1   4     NaN      NaN   \n",
              "2   5     NaN      NaN   \n",
              "3   6     NaN      NaN   \n",
              "4   7     NaN      NaN   \n",
              "\n",
              "                                                                                                                                    text  \\\n",
              "0                                                                  Our Deeds are the Reason of this #earthquake May ALLAH Forgive us all   \n",
              "1                                                                                                 Forest fire near La Ronge Sask. Canada   \n",
              "2  All residents asked to 'shelter in place' are being notified by officers. No other evacuation or shelter in place orders are expected   \n",
              "3                                                                      13,000 people receive #wildfires evacuation orders in California    \n",
              "4                                               Just got sent this photo from Ruby #Alaska as smoke from #wildfires pours into a school    \n",
              "\n",
              "   target  \n",
              "0       1  \n",
              "1       1  \n",
              "2       1  \n",
              "3       1  \n",
              "4       1  "
            ],
            "text/html": [
              "\n",
              "  <div id=\"df-1f91df48-29a7-415b-91ec-bb99ec4ae4ee\" class=\"colab-df-container\">\n",
              "    <div>\n",
              "<style scoped>\n",
              "    .dataframe tbody tr th:only-of-type {\n",
              "        vertical-align: middle;\n",
              "    }\n",
              "\n",
              "    .dataframe tbody tr th {\n",
              "        vertical-align: top;\n",
              "    }\n",
              "\n",
              "    .dataframe thead th {\n",
              "        text-align: right;\n",
              "    }\n",
              "</style>\n",
              "<table border=\"1\" class=\"dataframe\">\n",
              "  <thead>\n",
              "    <tr style=\"text-align: right;\">\n",
              "      <th></th>\n",
              "      <th>id</th>\n",
              "      <th>keyword</th>\n",
              "      <th>location</th>\n",
              "      <th>text</th>\n",
              "      <th>target</th>\n",
              "    </tr>\n",
              "  </thead>\n",
              "  <tbody>\n",
              "    <tr>\n",
              "      <th>0</th>\n",
              "      <td>1</td>\n",
              "      <td>NaN</td>\n",
              "      <td>NaN</td>\n",
              "      <td>Our Deeds are the Reason of this #earthquake May ALLAH Forgive us all</td>\n",
              "      <td>1</td>\n",
              "    </tr>\n",
              "    <tr>\n",
              "      <th>1</th>\n",
              "      <td>4</td>\n",
              "      <td>NaN</td>\n",
              "      <td>NaN</td>\n",
              "      <td>Forest fire near La Ronge Sask. Canada</td>\n",
              "      <td>1</td>\n",
              "    </tr>\n",
              "    <tr>\n",
              "      <th>2</th>\n",
              "      <td>5</td>\n",
              "      <td>NaN</td>\n",
              "      <td>NaN</td>\n",
              "      <td>All residents asked to 'shelter in place' are being notified by officers. No other evacuation or shelter in place orders are expected</td>\n",
              "      <td>1</td>\n",
              "    </tr>\n",
              "    <tr>\n",
              "      <th>3</th>\n",
              "      <td>6</td>\n",
              "      <td>NaN</td>\n",
              "      <td>NaN</td>\n",
              "      <td>13,000 people receive #wildfires evacuation orders in California</td>\n",
              "      <td>1</td>\n",
              "    </tr>\n",
              "    <tr>\n",
              "      <th>4</th>\n",
              "      <td>7</td>\n",
              "      <td>NaN</td>\n",
              "      <td>NaN</td>\n",
              "      <td>Just got sent this photo from Ruby #Alaska as smoke from #wildfires pours into a school</td>\n",
              "      <td>1</td>\n",
              "    </tr>\n",
              "  </tbody>\n",
              "</table>\n",
              "</div>\n",
              "    <div class=\"colab-df-buttons\">\n",
              "\n",
              "  <div class=\"colab-df-container\">\n",
              "    <button class=\"colab-df-convert\" onclick=\"convertToInteractive('df-1f91df48-29a7-415b-91ec-bb99ec4ae4ee')\"\n",
              "            title=\"Convert this dataframe to an interactive table.\"\n",
              "            style=\"display:none;\">\n",
              "\n",
              "  <svg xmlns=\"http://www.w3.org/2000/svg\" height=\"24px\" viewBox=\"0 -960 960 960\">\n",
              "    <path d=\"M120-120v-720h720v720H120Zm60-500h600v-160H180v160Zm220 220h160v-160H400v160Zm0 220h160v-160H400v160ZM180-400h160v-160H180v160Zm440 0h160v-160H620v160ZM180-180h160v-160H180v160Zm440 0h160v-160H620v160Z\"/>\n",
              "  </svg>\n",
              "    </button>\n",
              "\n",
              "  <style>\n",
              "    .colab-df-container {\n",
              "      display:flex;\n",
              "      gap: 12px;\n",
              "    }\n",
              "\n",
              "    .colab-df-convert {\n",
              "      background-color: #E8F0FE;\n",
              "      border: none;\n",
              "      border-radius: 50%;\n",
              "      cursor: pointer;\n",
              "      display: none;\n",
              "      fill: #1967D2;\n",
              "      height: 32px;\n",
              "      padding: 0 0 0 0;\n",
              "      width: 32px;\n",
              "    }\n",
              "\n",
              "    .colab-df-convert:hover {\n",
              "      background-color: #E2EBFA;\n",
              "      box-shadow: 0px 1px 2px rgba(60, 64, 67, 0.3), 0px 1px 3px 1px rgba(60, 64, 67, 0.15);\n",
              "      fill: #174EA6;\n",
              "    }\n",
              "\n",
              "    .colab-df-buttons div {\n",
              "      margin-bottom: 4px;\n",
              "    }\n",
              "\n",
              "    [theme=dark] .colab-df-convert {\n",
              "      background-color: #3B4455;\n",
              "      fill: #D2E3FC;\n",
              "    }\n",
              "\n",
              "    [theme=dark] .colab-df-convert:hover {\n",
              "      background-color: #434B5C;\n",
              "      box-shadow: 0px 1px 3px 1px rgba(0, 0, 0, 0.15);\n",
              "      filter: drop-shadow(0px 1px 2px rgba(0, 0, 0, 0.3));\n",
              "      fill: #FFFFFF;\n",
              "    }\n",
              "  </style>\n",
              "\n",
              "    <script>\n",
              "      const buttonEl =\n",
              "        document.querySelector('#df-1f91df48-29a7-415b-91ec-bb99ec4ae4ee button.colab-df-convert');\n",
              "      buttonEl.style.display =\n",
              "        google.colab.kernel.accessAllowed ? 'block' : 'none';\n",
              "\n",
              "      async function convertToInteractive(key) {\n",
              "        const element = document.querySelector('#df-1f91df48-29a7-415b-91ec-bb99ec4ae4ee');\n",
              "        const dataTable =\n",
              "          await google.colab.kernel.invokeFunction('convertToInteractive',\n",
              "                                                    [key], {});\n",
              "        if (!dataTable) return;\n",
              "\n",
              "        const docLinkHtml = 'Like what you see? Visit the ' +\n",
              "          '<a target=\"_blank\" href=https://colab.research.google.com/notebooks/data_table.ipynb>data table notebook</a>'\n",
              "          + ' to learn more about interactive tables.';\n",
              "        element.innerHTML = '';\n",
              "        dataTable['output_type'] = 'display_data';\n",
              "        await google.colab.output.renderOutput(dataTable, element);\n",
              "        const docLink = document.createElement('div');\n",
              "        docLink.innerHTML = docLinkHtml;\n",
              "        element.appendChild(docLink);\n",
              "      }\n",
              "    </script>\n",
              "  </div>\n",
              "\n",
              "\n",
              "    <div id=\"df-02d3c3fb-619e-4980-9a12-d7298acfb079\">\n",
              "      <button class=\"colab-df-quickchart\" onclick=\"quickchart('df-02d3c3fb-619e-4980-9a12-d7298acfb079')\"\n",
              "                title=\"Suggest charts\"\n",
              "                style=\"display:none;\">\n",
              "\n",
              "<svg xmlns=\"http://www.w3.org/2000/svg\" height=\"24px\"viewBox=\"0 0 24 24\"\n",
              "     width=\"24px\">\n",
              "    <g>\n",
              "        <path d=\"M19 3H5c-1.1 0-2 .9-2 2v14c0 1.1.9 2 2 2h14c1.1 0 2-.9 2-2V5c0-1.1-.9-2-2-2zM9 17H7v-7h2v7zm4 0h-2V7h2v10zm4 0h-2v-4h2v4z\"/>\n",
              "    </g>\n",
              "</svg>\n",
              "      </button>\n",
              "\n",
              "<style>\n",
              "  .colab-df-quickchart {\n",
              "      --bg-color: #E8F0FE;\n",
              "      --fill-color: #1967D2;\n",
              "      --hover-bg-color: #E2EBFA;\n",
              "      --hover-fill-color: #174EA6;\n",
              "      --disabled-fill-color: #AAA;\n",
              "      --disabled-bg-color: #DDD;\n",
              "  }\n",
              "\n",
              "  [theme=dark] .colab-df-quickchart {\n",
              "      --bg-color: #3B4455;\n",
              "      --fill-color: #D2E3FC;\n",
              "      --hover-bg-color: #434B5C;\n",
              "      --hover-fill-color: #FFFFFF;\n",
              "      --disabled-bg-color: #3B4455;\n",
              "      --disabled-fill-color: #666;\n",
              "  }\n",
              "\n",
              "  .colab-df-quickchart {\n",
              "    background-color: var(--bg-color);\n",
              "    border: none;\n",
              "    border-radius: 50%;\n",
              "    cursor: pointer;\n",
              "    display: none;\n",
              "    fill: var(--fill-color);\n",
              "    height: 32px;\n",
              "    padding: 0;\n",
              "    width: 32px;\n",
              "  }\n",
              "\n",
              "  .colab-df-quickchart:hover {\n",
              "    background-color: var(--hover-bg-color);\n",
              "    box-shadow: 0 1px 2px rgba(60, 64, 67, 0.3), 0 1px 3px 1px rgba(60, 64, 67, 0.15);\n",
              "    fill: var(--button-hover-fill-color);\n",
              "  }\n",
              "\n",
              "  .colab-df-quickchart-complete:disabled,\n",
              "  .colab-df-quickchart-complete:disabled:hover {\n",
              "    background-color: var(--disabled-bg-color);\n",
              "    fill: var(--disabled-fill-color);\n",
              "    box-shadow: none;\n",
              "  }\n",
              "\n",
              "  .colab-df-spinner {\n",
              "    border: 2px solid var(--fill-color);\n",
              "    border-color: transparent;\n",
              "    border-bottom-color: var(--fill-color);\n",
              "    animation:\n",
              "      spin 1s steps(1) infinite;\n",
              "  }\n",
              "\n",
              "  @keyframes spin {\n",
              "    0% {\n",
              "      border-color: transparent;\n",
              "      border-bottom-color: var(--fill-color);\n",
              "      border-left-color: var(--fill-color);\n",
              "    }\n",
              "    20% {\n",
              "      border-color: transparent;\n",
              "      border-left-color: var(--fill-color);\n",
              "      border-top-color: var(--fill-color);\n",
              "    }\n",
              "    30% {\n",
              "      border-color: transparent;\n",
              "      border-left-color: var(--fill-color);\n",
              "      border-top-color: var(--fill-color);\n",
              "      border-right-color: var(--fill-color);\n",
              "    }\n",
              "    40% {\n",
              "      border-color: transparent;\n",
              "      border-right-color: var(--fill-color);\n",
              "      border-top-color: var(--fill-color);\n",
              "    }\n",
              "    60% {\n",
              "      border-color: transparent;\n",
              "      border-right-color: var(--fill-color);\n",
              "    }\n",
              "    80% {\n",
              "      border-color: transparent;\n",
              "      border-right-color: var(--fill-color);\n",
              "      border-bottom-color: var(--fill-color);\n",
              "    }\n",
              "    90% {\n",
              "      border-color: transparent;\n",
              "      border-bottom-color: var(--fill-color);\n",
              "    }\n",
              "  }\n",
              "</style>\n",
              "\n",
              "      <script>\n",
              "        async function quickchart(key) {\n",
              "          const quickchartButtonEl =\n",
              "            document.querySelector('#' + key + ' button');\n",
              "          quickchartButtonEl.disabled = true;  // To prevent multiple clicks.\n",
              "          quickchartButtonEl.classList.add('colab-df-spinner');\n",
              "          try {\n",
              "            const charts = await google.colab.kernel.invokeFunction(\n",
              "                'suggestCharts', [key], {});\n",
              "          } catch (error) {\n",
              "            console.error('Error during call to suggestCharts:', error);\n",
              "          }\n",
              "          quickchartButtonEl.classList.remove('colab-df-spinner');\n",
              "          quickchartButtonEl.classList.add('colab-df-quickchart-complete');\n",
              "        }\n",
              "        (() => {\n",
              "          let quickchartButtonEl =\n",
              "            document.querySelector('#df-02d3c3fb-619e-4980-9a12-d7298acfb079 button');\n",
              "          quickchartButtonEl.style.display =\n",
              "            google.colab.kernel.accessAllowed ? 'block' : 'none';\n",
              "        })();\n",
              "      </script>\n",
              "    </div>\n",
              "\n",
              "    </div>\n",
              "  </div>\n"
            ],
            "application/vnd.google.colaboratory.intrinsic+json": {
              "type": "dataframe",
              "variable_name": "train_df",
              "summary": "{\n  \"name\": \"train_df\",\n  \"rows\": 7613,\n  \"fields\": [\n    {\n      \"column\": \"id\",\n      \"properties\": {\n        \"dtype\": \"number\",\n        \"std\": 3137,\n        \"min\": 1,\n        \"max\": 10873,\n        \"num_unique_values\": 7613,\n        \"samples\": [\n          3796,\n          3185,\n          7769\n        ],\n        \"semantic_type\": \"\",\n        \"description\": \"\"\n      }\n    },\n    {\n      \"column\": \"keyword\",\n      \"properties\": {\n        \"dtype\": \"category\",\n        \"num_unique_values\": 221,\n        \"samples\": [\n          \"injury\",\n          \"nuclear%20reactor\",\n          \"engulfed\"\n        ],\n        \"semantic_type\": \"\",\n        \"description\": \"\"\n      }\n    },\n    {\n      \"column\": \"location\",\n      \"properties\": {\n        \"dtype\": \"category\",\n        \"num_unique_values\": 3341,\n        \"samples\": [\n          \"Oklahoma\",\n          \"Starling City\",\n          \"Trinidad and Tobago\"\n        ],\n        \"semantic_type\": \"\",\n        \"description\": \"\"\n      }\n    },\n    {\n      \"column\": \"text\",\n      \"properties\": {\n        \"dtype\": \"string\",\n        \"num_unique_values\": 7503,\n        \"samples\": [\n          \"Three Homes Demolished in Unrecognized Arab Village - International Middle East Media Center http://t.co/ik8m4Yi9T4\",\n          \"Reid Lake fire prompts campground evacuation order http://t.co/jBODKM6rBU\",\n          \"FAAN orders evacuation of abandoned aircraft at MMA http://t.co/dEvYbnVXGQ via @todayng\"\n        ],\n        \"semantic_type\": \"\",\n        \"description\": \"\"\n      }\n    },\n    {\n      \"column\": \"target\",\n      \"properties\": {\n        \"dtype\": \"number\",\n        \"std\": 0,\n        \"min\": 0,\n        \"max\": 1,\n        \"num_unique_values\": 2,\n        \"samples\": [\n          0,\n          1\n        ],\n        \"semantic_type\": \"\",\n        \"description\": \"\"\n      }\n    }\n  ]\n}"
            }
          },
          "metadata": {},
          "execution_count": 2
        }
      ]
    },
    {
      "cell_type": "code",
      "source": [
        "test_df.head()"
      ],
      "metadata": {
        "colab": {
          "base_uri": "https://localhost:8080/",
          "height": 206
        },
        "id": "soz-yP6QX-u9",
        "outputId": "14bbd696-ec1f-44c9-90e3-323e9c0fe2b7"
      },
      "execution_count": 3,
      "outputs": [
        {
          "output_type": "execute_result",
          "data": {
            "text/plain": [
              "   id keyword location  \\\n",
              "0   0     NaN      NaN   \n",
              "1   2     NaN      NaN   \n",
              "2   3     NaN      NaN   \n",
              "3   9     NaN      NaN   \n",
              "4  11     NaN      NaN   \n",
              "\n",
              "                                                                                               text  \n",
              "0                                                                Just happened a terrible car crash  \n",
              "1                                  Heard about #earthquake is different cities, stay safe everyone.  \n",
              "2  there is a forest fire at spot pond, geese are fleeing across the street, I cannot save them all  \n",
              "3                                                          Apocalypse lighting. #Spokane #wildfires  \n",
              "4                                                     Typhoon Soudelor kills 28 in China and Taiwan  "
            ],
            "text/html": [
              "\n",
              "  <div id=\"df-6e5ded6e-24d7-494f-997f-f01f80096952\" class=\"colab-df-container\">\n",
              "    <div>\n",
              "<style scoped>\n",
              "    .dataframe tbody tr th:only-of-type {\n",
              "        vertical-align: middle;\n",
              "    }\n",
              "\n",
              "    .dataframe tbody tr th {\n",
              "        vertical-align: top;\n",
              "    }\n",
              "\n",
              "    .dataframe thead th {\n",
              "        text-align: right;\n",
              "    }\n",
              "</style>\n",
              "<table border=\"1\" class=\"dataframe\">\n",
              "  <thead>\n",
              "    <tr style=\"text-align: right;\">\n",
              "      <th></th>\n",
              "      <th>id</th>\n",
              "      <th>keyword</th>\n",
              "      <th>location</th>\n",
              "      <th>text</th>\n",
              "    </tr>\n",
              "  </thead>\n",
              "  <tbody>\n",
              "    <tr>\n",
              "      <th>0</th>\n",
              "      <td>0</td>\n",
              "      <td>NaN</td>\n",
              "      <td>NaN</td>\n",
              "      <td>Just happened a terrible car crash</td>\n",
              "    </tr>\n",
              "    <tr>\n",
              "      <th>1</th>\n",
              "      <td>2</td>\n",
              "      <td>NaN</td>\n",
              "      <td>NaN</td>\n",
              "      <td>Heard about #earthquake is different cities, stay safe everyone.</td>\n",
              "    </tr>\n",
              "    <tr>\n",
              "      <th>2</th>\n",
              "      <td>3</td>\n",
              "      <td>NaN</td>\n",
              "      <td>NaN</td>\n",
              "      <td>there is a forest fire at spot pond, geese are fleeing across the street, I cannot save them all</td>\n",
              "    </tr>\n",
              "    <tr>\n",
              "      <th>3</th>\n",
              "      <td>9</td>\n",
              "      <td>NaN</td>\n",
              "      <td>NaN</td>\n",
              "      <td>Apocalypse lighting. #Spokane #wildfires</td>\n",
              "    </tr>\n",
              "    <tr>\n",
              "      <th>4</th>\n",
              "      <td>11</td>\n",
              "      <td>NaN</td>\n",
              "      <td>NaN</td>\n",
              "      <td>Typhoon Soudelor kills 28 in China and Taiwan</td>\n",
              "    </tr>\n",
              "  </tbody>\n",
              "</table>\n",
              "</div>\n",
              "    <div class=\"colab-df-buttons\">\n",
              "\n",
              "  <div class=\"colab-df-container\">\n",
              "    <button class=\"colab-df-convert\" onclick=\"convertToInteractive('df-6e5ded6e-24d7-494f-997f-f01f80096952')\"\n",
              "            title=\"Convert this dataframe to an interactive table.\"\n",
              "            style=\"display:none;\">\n",
              "\n",
              "  <svg xmlns=\"http://www.w3.org/2000/svg\" height=\"24px\" viewBox=\"0 -960 960 960\">\n",
              "    <path d=\"M120-120v-720h720v720H120Zm60-500h600v-160H180v160Zm220 220h160v-160H400v160Zm0 220h160v-160H400v160ZM180-400h160v-160H180v160Zm440 0h160v-160H620v160ZM180-180h160v-160H180v160Zm440 0h160v-160H620v160Z\"/>\n",
              "  </svg>\n",
              "    </button>\n",
              "\n",
              "  <style>\n",
              "    .colab-df-container {\n",
              "      display:flex;\n",
              "      gap: 12px;\n",
              "    }\n",
              "\n",
              "    .colab-df-convert {\n",
              "      background-color: #E8F0FE;\n",
              "      border: none;\n",
              "      border-radius: 50%;\n",
              "      cursor: pointer;\n",
              "      display: none;\n",
              "      fill: #1967D2;\n",
              "      height: 32px;\n",
              "      padding: 0 0 0 0;\n",
              "      width: 32px;\n",
              "    }\n",
              "\n",
              "    .colab-df-convert:hover {\n",
              "      background-color: #E2EBFA;\n",
              "      box-shadow: 0px 1px 2px rgba(60, 64, 67, 0.3), 0px 1px 3px 1px rgba(60, 64, 67, 0.15);\n",
              "      fill: #174EA6;\n",
              "    }\n",
              "\n",
              "    .colab-df-buttons div {\n",
              "      margin-bottom: 4px;\n",
              "    }\n",
              "\n",
              "    [theme=dark] .colab-df-convert {\n",
              "      background-color: #3B4455;\n",
              "      fill: #D2E3FC;\n",
              "    }\n",
              "\n",
              "    [theme=dark] .colab-df-convert:hover {\n",
              "      background-color: #434B5C;\n",
              "      box-shadow: 0px 1px 3px 1px rgba(0, 0, 0, 0.15);\n",
              "      filter: drop-shadow(0px 1px 2px rgba(0, 0, 0, 0.3));\n",
              "      fill: #FFFFFF;\n",
              "    }\n",
              "  </style>\n",
              "\n",
              "    <script>\n",
              "      const buttonEl =\n",
              "        document.querySelector('#df-6e5ded6e-24d7-494f-997f-f01f80096952 button.colab-df-convert');\n",
              "      buttonEl.style.display =\n",
              "        google.colab.kernel.accessAllowed ? 'block' : 'none';\n",
              "\n",
              "      async function convertToInteractive(key) {\n",
              "        const element = document.querySelector('#df-6e5ded6e-24d7-494f-997f-f01f80096952');\n",
              "        const dataTable =\n",
              "          await google.colab.kernel.invokeFunction('convertToInteractive',\n",
              "                                                    [key], {});\n",
              "        if (!dataTable) return;\n",
              "\n",
              "        const docLinkHtml = 'Like what you see? Visit the ' +\n",
              "          '<a target=\"_blank\" href=https://colab.research.google.com/notebooks/data_table.ipynb>data table notebook</a>'\n",
              "          + ' to learn more about interactive tables.';\n",
              "        element.innerHTML = '';\n",
              "        dataTable['output_type'] = 'display_data';\n",
              "        await google.colab.output.renderOutput(dataTable, element);\n",
              "        const docLink = document.createElement('div');\n",
              "        docLink.innerHTML = docLinkHtml;\n",
              "        element.appendChild(docLink);\n",
              "      }\n",
              "    </script>\n",
              "  </div>\n",
              "\n",
              "\n",
              "    <div id=\"df-5ee4c78c-76ef-4b0c-854b-1b1f7a84350a\">\n",
              "      <button class=\"colab-df-quickchart\" onclick=\"quickchart('df-5ee4c78c-76ef-4b0c-854b-1b1f7a84350a')\"\n",
              "                title=\"Suggest charts\"\n",
              "                style=\"display:none;\">\n",
              "\n",
              "<svg xmlns=\"http://www.w3.org/2000/svg\" height=\"24px\"viewBox=\"0 0 24 24\"\n",
              "     width=\"24px\">\n",
              "    <g>\n",
              "        <path d=\"M19 3H5c-1.1 0-2 .9-2 2v14c0 1.1.9 2 2 2h14c1.1 0 2-.9 2-2V5c0-1.1-.9-2-2-2zM9 17H7v-7h2v7zm4 0h-2V7h2v10zm4 0h-2v-4h2v4z\"/>\n",
              "    </g>\n",
              "</svg>\n",
              "      </button>\n",
              "\n",
              "<style>\n",
              "  .colab-df-quickchart {\n",
              "      --bg-color: #E8F0FE;\n",
              "      --fill-color: #1967D2;\n",
              "      --hover-bg-color: #E2EBFA;\n",
              "      --hover-fill-color: #174EA6;\n",
              "      --disabled-fill-color: #AAA;\n",
              "      --disabled-bg-color: #DDD;\n",
              "  }\n",
              "\n",
              "  [theme=dark] .colab-df-quickchart {\n",
              "      --bg-color: #3B4455;\n",
              "      --fill-color: #D2E3FC;\n",
              "      --hover-bg-color: #434B5C;\n",
              "      --hover-fill-color: #FFFFFF;\n",
              "      --disabled-bg-color: #3B4455;\n",
              "      --disabled-fill-color: #666;\n",
              "  }\n",
              "\n",
              "  .colab-df-quickchart {\n",
              "    background-color: var(--bg-color);\n",
              "    border: none;\n",
              "    border-radius: 50%;\n",
              "    cursor: pointer;\n",
              "    display: none;\n",
              "    fill: var(--fill-color);\n",
              "    height: 32px;\n",
              "    padding: 0;\n",
              "    width: 32px;\n",
              "  }\n",
              "\n",
              "  .colab-df-quickchart:hover {\n",
              "    background-color: var(--hover-bg-color);\n",
              "    box-shadow: 0 1px 2px rgba(60, 64, 67, 0.3), 0 1px 3px 1px rgba(60, 64, 67, 0.15);\n",
              "    fill: var(--button-hover-fill-color);\n",
              "  }\n",
              "\n",
              "  .colab-df-quickchart-complete:disabled,\n",
              "  .colab-df-quickchart-complete:disabled:hover {\n",
              "    background-color: var(--disabled-bg-color);\n",
              "    fill: var(--disabled-fill-color);\n",
              "    box-shadow: none;\n",
              "  }\n",
              "\n",
              "  .colab-df-spinner {\n",
              "    border: 2px solid var(--fill-color);\n",
              "    border-color: transparent;\n",
              "    border-bottom-color: var(--fill-color);\n",
              "    animation:\n",
              "      spin 1s steps(1) infinite;\n",
              "  }\n",
              "\n",
              "  @keyframes spin {\n",
              "    0% {\n",
              "      border-color: transparent;\n",
              "      border-bottom-color: var(--fill-color);\n",
              "      border-left-color: var(--fill-color);\n",
              "    }\n",
              "    20% {\n",
              "      border-color: transparent;\n",
              "      border-left-color: var(--fill-color);\n",
              "      border-top-color: var(--fill-color);\n",
              "    }\n",
              "    30% {\n",
              "      border-color: transparent;\n",
              "      border-left-color: var(--fill-color);\n",
              "      border-top-color: var(--fill-color);\n",
              "      border-right-color: var(--fill-color);\n",
              "    }\n",
              "    40% {\n",
              "      border-color: transparent;\n",
              "      border-right-color: var(--fill-color);\n",
              "      border-top-color: var(--fill-color);\n",
              "    }\n",
              "    60% {\n",
              "      border-color: transparent;\n",
              "      border-right-color: var(--fill-color);\n",
              "    }\n",
              "    80% {\n",
              "      border-color: transparent;\n",
              "      border-right-color: var(--fill-color);\n",
              "      border-bottom-color: var(--fill-color);\n",
              "    }\n",
              "    90% {\n",
              "      border-color: transparent;\n",
              "      border-bottom-color: var(--fill-color);\n",
              "    }\n",
              "  }\n",
              "</style>\n",
              "\n",
              "      <script>\n",
              "        async function quickchart(key) {\n",
              "          const quickchartButtonEl =\n",
              "            document.querySelector('#' + key + ' button');\n",
              "          quickchartButtonEl.disabled = true;  // To prevent multiple clicks.\n",
              "          quickchartButtonEl.classList.add('colab-df-spinner');\n",
              "          try {\n",
              "            const charts = await google.colab.kernel.invokeFunction(\n",
              "                'suggestCharts', [key], {});\n",
              "          } catch (error) {\n",
              "            console.error('Error during call to suggestCharts:', error);\n",
              "          }\n",
              "          quickchartButtonEl.classList.remove('colab-df-spinner');\n",
              "          quickchartButtonEl.classList.add('colab-df-quickchart-complete');\n",
              "        }\n",
              "        (() => {\n",
              "          let quickchartButtonEl =\n",
              "            document.querySelector('#df-5ee4c78c-76ef-4b0c-854b-1b1f7a84350a button');\n",
              "          quickchartButtonEl.style.display =\n",
              "            google.colab.kernel.accessAllowed ? 'block' : 'none';\n",
              "        })();\n",
              "      </script>\n",
              "    </div>\n",
              "\n",
              "    </div>\n",
              "  </div>\n"
            ],
            "application/vnd.google.colaboratory.intrinsic+json": {
              "type": "dataframe",
              "variable_name": "test_df",
              "summary": "{\n  \"name\": \"test_df\",\n  \"rows\": 3263,\n  \"fields\": [\n    {\n      \"column\": \"id\",\n      \"properties\": {\n        \"dtype\": \"number\",\n        \"std\": 3146,\n        \"min\": 0,\n        \"max\": 10875,\n        \"num_unique_values\": 3263,\n        \"samples\": [\n          8051,\n          425,\n          1330\n        ],\n        \"semantic_type\": \"\",\n        \"description\": \"\"\n      }\n    },\n    {\n      \"column\": \"keyword\",\n      \"properties\": {\n        \"dtype\": \"category\",\n        \"num_unique_values\": 221,\n        \"samples\": [\n          \"injury\",\n          \"nuclear%20reactor\",\n          \"engulfed\"\n        ],\n        \"semantic_type\": \"\",\n        \"description\": \"\"\n      }\n    },\n    {\n      \"column\": \"location\",\n      \"properties\": {\n        \"dtype\": \"category\",\n        \"num_unique_values\": 1602,\n        \"samples\": [\n          \"UAE\",\n          \"Tokio / Tokyo\",\n          \"Texas\"\n        ],\n        \"semantic_type\": \"\",\n        \"description\": \"\"\n      }\n    },\n    {\n      \"column\": \"text\",\n      \"properties\": {\n        \"dtype\": \"string\",\n        \"num_unique_values\": 3243,\n        \"samples\": [\n          \"Latest: USA: Huge sinkhole swallows up Brooklyn intersection http://t.co/vspKHg3nZy\",\n          \"I liked a @YouTube video http://t.co/a5YTAw9Vih S.O.S. Rona Guide - The Red Whirlwind\",\n          \"HitchBot travels Europe and greeted with open arms. Gets destroyed after two weeks in america. There's a lesson to be learned here.\"\n        ],\n        \"semantic_type\": \"\",\n        \"description\": \"\"\n      }\n    }\n  ]\n}"
            }
          },
          "metadata": {},
          "execution_count": 3
        }
      ]
    },
    {
      "cell_type": "markdown",
      "source": [
        "Doğal afet ile ilgili tweet lerden oluşan veri seti üzerinde çalışağız.\n",
        "\n",
        "1 -> gerçek bir felaket tweeti\n",
        "\n",
        "0 -> gerçek olmayan bir felaket tweeti\n",
        "\n",
        "\n",
        "problemimiz için binary classification model kullanacağız."
      ],
      "metadata": {
        "id": "B7THw2jMYFb7"
      }
    },
    {
      "cell_type": "code",
      "source": [
        "# train datasını karıştıralım:\n",
        "train_df_shuffled = train_df.sample(frac=1, random_state=42) # tekrarlanabilirlik için random_state=42\n",
        "train_df_shuffled.head()"
      ],
      "metadata": {
        "colab": {
          "base_uri": "https://localhost:8080/",
          "height": 206
        },
        "id": "5iUvh0ugYBk3",
        "outputId": "7ea1c408-e365-4cb6-e2e0-2545d91cfd5a"
      },
      "execution_count": 4,
      "outputs": [
        {
          "output_type": "execute_result",
          "data": {
            "text/plain": [
              "        id      keyword               location  \\\n",
              "2644  3796  destruction                    NaN   \n",
              "2227  3185       deluge                    NaN   \n",
              "5448  7769       police                     UK   \n",
              "132    191   aftershock                    NaN   \n",
              "6845  9810       trauma  Montgomery County, MD   \n",
              "\n",
              "                                                                                                                               text  \\\n",
              "2644                                                             So you have a new weapon that can cause un-imaginable destruction.   \n",
              "2227        The f$&amp;@ing things I do for #GISHWHES Just got soaked in a deluge going for pads and tampons. Thx @mishacollins @/@   \n",
              "5448  DT @georgegalloway: RT @Galloway4Mayor: ÛÏThe CoL police can catch a pickpocket in Liverpool Stree... http://t.co/vXIn1gOq4Q   \n",
              "132              Aftershock back to school kick off was great. I want to thank everyone for making it possible. What a great night.   \n",
              "6845                      in response to trauma Children of Addicts develop a defensive self - one that decreases vulnerability. (3   \n",
              "\n",
              "      target  \n",
              "2644       1  \n",
              "2227       0  \n",
              "5448       1  \n",
              "132        0  \n",
              "6845       0  "
            ],
            "text/html": [
              "\n",
              "  <div id=\"df-937b0aea-a3ed-4e08-a108-ea87590e3ce6\" class=\"colab-df-container\">\n",
              "    <div>\n",
              "<style scoped>\n",
              "    .dataframe tbody tr th:only-of-type {\n",
              "        vertical-align: middle;\n",
              "    }\n",
              "\n",
              "    .dataframe tbody tr th {\n",
              "        vertical-align: top;\n",
              "    }\n",
              "\n",
              "    .dataframe thead th {\n",
              "        text-align: right;\n",
              "    }\n",
              "</style>\n",
              "<table border=\"1\" class=\"dataframe\">\n",
              "  <thead>\n",
              "    <tr style=\"text-align: right;\">\n",
              "      <th></th>\n",
              "      <th>id</th>\n",
              "      <th>keyword</th>\n",
              "      <th>location</th>\n",
              "      <th>text</th>\n",
              "      <th>target</th>\n",
              "    </tr>\n",
              "  </thead>\n",
              "  <tbody>\n",
              "    <tr>\n",
              "      <th>2644</th>\n",
              "      <td>3796</td>\n",
              "      <td>destruction</td>\n",
              "      <td>NaN</td>\n",
              "      <td>So you have a new weapon that can cause un-imaginable destruction.</td>\n",
              "      <td>1</td>\n",
              "    </tr>\n",
              "    <tr>\n",
              "      <th>2227</th>\n",
              "      <td>3185</td>\n",
              "      <td>deluge</td>\n",
              "      <td>NaN</td>\n",
              "      <td>The f$&amp;amp;@ing things I do for #GISHWHES Just got soaked in a deluge going for pads and tampons. Thx @mishacollins @/@</td>\n",
              "      <td>0</td>\n",
              "    </tr>\n",
              "    <tr>\n",
              "      <th>5448</th>\n",
              "      <td>7769</td>\n",
              "      <td>police</td>\n",
              "      <td>UK</td>\n",
              "      <td>DT @georgegalloway: RT @Galloway4Mayor: ÛÏThe CoL police can catch a pickpocket in Liverpool Stree... http://t.co/vXIn1gOq4Q</td>\n",
              "      <td>1</td>\n",
              "    </tr>\n",
              "    <tr>\n",
              "      <th>132</th>\n",
              "      <td>191</td>\n",
              "      <td>aftershock</td>\n",
              "      <td>NaN</td>\n",
              "      <td>Aftershock back to school kick off was great. I want to thank everyone for making it possible. What a great night.</td>\n",
              "      <td>0</td>\n",
              "    </tr>\n",
              "    <tr>\n",
              "      <th>6845</th>\n",
              "      <td>9810</td>\n",
              "      <td>trauma</td>\n",
              "      <td>Montgomery County, MD</td>\n",
              "      <td>in response to trauma Children of Addicts develop a defensive self - one that decreases vulnerability. (3</td>\n",
              "      <td>0</td>\n",
              "    </tr>\n",
              "  </tbody>\n",
              "</table>\n",
              "</div>\n",
              "    <div class=\"colab-df-buttons\">\n",
              "\n",
              "  <div class=\"colab-df-container\">\n",
              "    <button class=\"colab-df-convert\" onclick=\"convertToInteractive('df-937b0aea-a3ed-4e08-a108-ea87590e3ce6')\"\n",
              "            title=\"Convert this dataframe to an interactive table.\"\n",
              "            style=\"display:none;\">\n",
              "\n",
              "  <svg xmlns=\"http://www.w3.org/2000/svg\" height=\"24px\" viewBox=\"0 -960 960 960\">\n",
              "    <path d=\"M120-120v-720h720v720H120Zm60-500h600v-160H180v160Zm220 220h160v-160H400v160Zm0 220h160v-160H400v160ZM180-400h160v-160H180v160Zm440 0h160v-160H620v160ZM180-180h160v-160H180v160Zm440 0h160v-160H620v160Z\"/>\n",
              "  </svg>\n",
              "    </button>\n",
              "\n",
              "  <style>\n",
              "    .colab-df-container {\n",
              "      display:flex;\n",
              "      gap: 12px;\n",
              "    }\n",
              "\n",
              "    .colab-df-convert {\n",
              "      background-color: #E8F0FE;\n",
              "      border: none;\n",
              "      border-radius: 50%;\n",
              "      cursor: pointer;\n",
              "      display: none;\n",
              "      fill: #1967D2;\n",
              "      height: 32px;\n",
              "      padding: 0 0 0 0;\n",
              "      width: 32px;\n",
              "    }\n",
              "\n",
              "    .colab-df-convert:hover {\n",
              "      background-color: #E2EBFA;\n",
              "      box-shadow: 0px 1px 2px rgba(60, 64, 67, 0.3), 0px 1px 3px 1px rgba(60, 64, 67, 0.15);\n",
              "      fill: #174EA6;\n",
              "    }\n",
              "\n",
              "    .colab-df-buttons div {\n",
              "      margin-bottom: 4px;\n",
              "    }\n",
              "\n",
              "    [theme=dark] .colab-df-convert {\n",
              "      background-color: #3B4455;\n",
              "      fill: #D2E3FC;\n",
              "    }\n",
              "\n",
              "    [theme=dark] .colab-df-convert:hover {\n",
              "      background-color: #434B5C;\n",
              "      box-shadow: 0px 1px 3px 1px rgba(0, 0, 0, 0.15);\n",
              "      filter: drop-shadow(0px 1px 2px rgba(0, 0, 0, 0.3));\n",
              "      fill: #FFFFFF;\n",
              "    }\n",
              "  </style>\n",
              "\n",
              "    <script>\n",
              "      const buttonEl =\n",
              "        document.querySelector('#df-937b0aea-a3ed-4e08-a108-ea87590e3ce6 button.colab-df-convert');\n",
              "      buttonEl.style.display =\n",
              "        google.colab.kernel.accessAllowed ? 'block' : 'none';\n",
              "\n",
              "      async function convertToInteractive(key) {\n",
              "        const element = document.querySelector('#df-937b0aea-a3ed-4e08-a108-ea87590e3ce6');\n",
              "        const dataTable =\n",
              "          await google.colab.kernel.invokeFunction('convertToInteractive',\n",
              "                                                    [key], {});\n",
              "        if (!dataTable) return;\n",
              "\n",
              "        const docLinkHtml = 'Like what you see? Visit the ' +\n",
              "          '<a target=\"_blank\" href=https://colab.research.google.com/notebooks/data_table.ipynb>data table notebook</a>'\n",
              "          + ' to learn more about interactive tables.';\n",
              "        element.innerHTML = '';\n",
              "        dataTable['output_type'] = 'display_data';\n",
              "        await google.colab.output.renderOutput(dataTable, element);\n",
              "        const docLink = document.createElement('div');\n",
              "        docLink.innerHTML = docLinkHtml;\n",
              "        element.appendChild(docLink);\n",
              "      }\n",
              "    </script>\n",
              "  </div>\n",
              "\n",
              "\n",
              "    <div id=\"df-54df3ec3-0c50-4b18-aa78-bbd53b271a46\">\n",
              "      <button class=\"colab-df-quickchart\" onclick=\"quickchart('df-54df3ec3-0c50-4b18-aa78-bbd53b271a46')\"\n",
              "                title=\"Suggest charts\"\n",
              "                style=\"display:none;\">\n",
              "\n",
              "<svg xmlns=\"http://www.w3.org/2000/svg\" height=\"24px\"viewBox=\"0 0 24 24\"\n",
              "     width=\"24px\">\n",
              "    <g>\n",
              "        <path d=\"M19 3H5c-1.1 0-2 .9-2 2v14c0 1.1.9 2 2 2h14c1.1 0 2-.9 2-2V5c0-1.1-.9-2-2-2zM9 17H7v-7h2v7zm4 0h-2V7h2v10zm4 0h-2v-4h2v4z\"/>\n",
              "    </g>\n",
              "</svg>\n",
              "      </button>\n",
              "\n",
              "<style>\n",
              "  .colab-df-quickchart {\n",
              "      --bg-color: #E8F0FE;\n",
              "      --fill-color: #1967D2;\n",
              "      --hover-bg-color: #E2EBFA;\n",
              "      --hover-fill-color: #174EA6;\n",
              "      --disabled-fill-color: #AAA;\n",
              "      --disabled-bg-color: #DDD;\n",
              "  }\n",
              "\n",
              "  [theme=dark] .colab-df-quickchart {\n",
              "      --bg-color: #3B4455;\n",
              "      --fill-color: #D2E3FC;\n",
              "      --hover-bg-color: #434B5C;\n",
              "      --hover-fill-color: #FFFFFF;\n",
              "      --disabled-bg-color: #3B4455;\n",
              "      --disabled-fill-color: #666;\n",
              "  }\n",
              "\n",
              "  .colab-df-quickchart {\n",
              "    background-color: var(--bg-color);\n",
              "    border: none;\n",
              "    border-radius: 50%;\n",
              "    cursor: pointer;\n",
              "    display: none;\n",
              "    fill: var(--fill-color);\n",
              "    height: 32px;\n",
              "    padding: 0;\n",
              "    width: 32px;\n",
              "  }\n",
              "\n",
              "  .colab-df-quickchart:hover {\n",
              "    background-color: var(--hover-bg-color);\n",
              "    box-shadow: 0 1px 2px rgba(60, 64, 67, 0.3), 0 1px 3px 1px rgba(60, 64, 67, 0.15);\n",
              "    fill: var(--button-hover-fill-color);\n",
              "  }\n",
              "\n",
              "  .colab-df-quickchart-complete:disabled,\n",
              "  .colab-df-quickchart-complete:disabled:hover {\n",
              "    background-color: var(--disabled-bg-color);\n",
              "    fill: var(--disabled-fill-color);\n",
              "    box-shadow: none;\n",
              "  }\n",
              "\n",
              "  .colab-df-spinner {\n",
              "    border: 2px solid var(--fill-color);\n",
              "    border-color: transparent;\n",
              "    border-bottom-color: var(--fill-color);\n",
              "    animation:\n",
              "      spin 1s steps(1) infinite;\n",
              "  }\n",
              "\n",
              "  @keyframes spin {\n",
              "    0% {\n",
              "      border-color: transparent;\n",
              "      border-bottom-color: var(--fill-color);\n",
              "      border-left-color: var(--fill-color);\n",
              "    }\n",
              "    20% {\n",
              "      border-color: transparent;\n",
              "      border-left-color: var(--fill-color);\n",
              "      border-top-color: var(--fill-color);\n",
              "    }\n",
              "    30% {\n",
              "      border-color: transparent;\n",
              "      border-left-color: var(--fill-color);\n",
              "      border-top-color: var(--fill-color);\n",
              "      border-right-color: var(--fill-color);\n",
              "    }\n",
              "    40% {\n",
              "      border-color: transparent;\n",
              "      border-right-color: var(--fill-color);\n",
              "      border-top-color: var(--fill-color);\n",
              "    }\n",
              "    60% {\n",
              "      border-color: transparent;\n",
              "      border-right-color: var(--fill-color);\n",
              "    }\n",
              "    80% {\n",
              "      border-color: transparent;\n",
              "      border-right-color: var(--fill-color);\n",
              "      border-bottom-color: var(--fill-color);\n",
              "    }\n",
              "    90% {\n",
              "      border-color: transparent;\n",
              "      border-bottom-color: var(--fill-color);\n",
              "    }\n",
              "  }\n",
              "</style>\n",
              "\n",
              "      <script>\n",
              "        async function quickchart(key) {\n",
              "          const quickchartButtonEl =\n",
              "            document.querySelector('#' + key + ' button');\n",
              "          quickchartButtonEl.disabled = true;  // To prevent multiple clicks.\n",
              "          quickchartButtonEl.classList.add('colab-df-spinner');\n",
              "          try {\n",
              "            const charts = await google.colab.kernel.invokeFunction(\n",
              "                'suggestCharts', [key], {});\n",
              "          } catch (error) {\n",
              "            console.error('Error during call to suggestCharts:', error);\n",
              "          }\n",
              "          quickchartButtonEl.classList.remove('colab-df-spinner');\n",
              "          quickchartButtonEl.classList.add('colab-df-quickchart-complete');\n",
              "        }\n",
              "        (() => {\n",
              "          let quickchartButtonEl =\n",
              "            document.querySelector('#df-54df3ec3-0c50-4b18-aa78-bbd53b271a46 button');\n",
              "          quickchartButtonEl.style.display =\n",
              "            google.colab.kernel.accessAllowed ? 'block' : 'none';\n",
              "        })();\n",
              "      </script>\n",
              "    </div>\n",
              "\n",
              "    </div>\n",
              "  </div>\n"
            ],
            "application/vnd.google.colaboratory.intrinsic+json": {
              "type": "dataframe",
              "variable_name": "train_df_shuffled",
              "summary": "{\n  \"name\": \"train_df_shuffled\",\n  \"rows\": 7613,\n  \"fields\": [\n    {\n      \"column\": \"id\",\n      \"properties\": {\n        \"dtype\": \"number\",\n        \"std\": 3137,\n        \"min\": 1,\n        \"max\": 10873,\n        \"num_unique_values\": 7613,\n        \"samples\": [\n          7061,\n          843,\n          10603\n        ],\n        \"semantic_type\": \"\",\n        \"description\": \"\"\n      }\n    },\n    {\n      \"column\": \"keyword\",\n      \"properties\": {\n        \"dtype\": \"category\",\n        \"num_unique_values\": 221,\n        \"samples\": [\n          \"blazing\",\n          \"emergency\",\n          \"rescue\"\n        ],\n        \"semantic_type\": \"\",\n        \"description\": \"\"\n      }\n    },\n    {\n      \"column\": \"location\",\n      \"properties\": {\n        \"dtype\": \"category\",\n        \"num_unique_values\": 3341,\n        \"samples\": [\n          \"617-BTOWN-BEATDOWN\",\n          \"Newcastle Upon Tyne, England\",\n          \"Federal Capital Territory\"\n        ],\n        \"semantic_type\": \"\",\n        \"description\": \"\"\n      }\n    },\n    {\n      \"column\": \"text\",\n      \"properties\": {\n        \"dtype\": \"string\",\n        \"num_unique_values\": 7503,\n        \"samples\": [\n          \"This week first responders and DART members are participating in a four day intensive Technical Large Animal... http://t.co/tL93AOd3ER\",\n          \"My mom is watching a show about bridges breaking/falling and the people on them drowning in their cars aka one of my biggest fears ????\",\n          \"@NickLee8  i went to school in a bombed out East End of London3 families to one house no bathroom outside loo &amp; poor so whats yr point\"\n        ],\n        \"semantic_type\": \"\",\n        \"description\": \"\"\n      }\n    },\n    {\n      \"column\": \"target\",\n      \"properties\": {\n        \"dtype\": \"number\",\n        \"std\": 0,\n        \"min\": 0,\n        \"max\": 1,\n        \"num_unique_values\": 2,\n        \"samples\": [\n          0,\n          1\n        ],\n        \"semantic_type\": \"\",\n        \"description\": \"\"\n      }\n    }\n  ]\n}"
            }
          },
          "metadata": {},
          "execution_count": 4
        }
      ]
    },
    {
      "cell_type": "code",
      "source": [
        "# Sınıfların dağılımına bakalım:\n",
        "train_df.target.value_counts()"
      ],
      "metadata": {
        "colab": {
          "base_uri": "https://localhost:8080/",
          "height": 178
        },
        "id": "ik_4WoE5YK89",
        "outputId": "5ea85a39-0c7b-4386-d1ec-44683d245ee7"
      },
      "execution_count": 5,
      "outputs": [
        {
          "output_type": "execute_result",
          "data": {
            "text/plain": [
              "target\n",
              "0    4342\n",
              "1    3271\n",
              "Name: count, dtype: int64"
            ],
            "text/html": [
              "<div>\n",
              "<style scoped>\n",
              "    .dataframe tbody tr th:only-of-type {\n",
              "        vertical-align: middle;\n",
              "    }\n",
              "\n",
              "    .dataframe tbody tr th {\n",
              "        vertical-align: top;\n",
              "    }\n",
              "\n",
              "    .dataframe thead th {\n",
              "        text-align: right;\n",
              "    }\n",
              "</style>\n",
              "<table border=\"1\" class=\"dataframe\">\n",
              "  <thead>\n",
              "    <tr style=\"text-align: right;\">\n",
              "      <th></th>\n",
              "      <th>count</th>\n",
              "    </tr>\n",
              "    <tr>\n",
              "      <th>target</th>\n",
              "      <th></th>\n",
              "    </tr>\n",
              "  </thead>\n",
              "  <tbody>\n",
              "    <tr>\n",
              "      <th>0</th>\n",
              "      <td>4342</td>\n",
              "    </tr>\n",
              "    <tr>\n",
              "      <th>1</th>\n",
              "      <td>3271</td>\n",
              "    </tr>\n",
              "  </tbody>\n",
              "</table>\n",
              "</div><br><label><b>dtype:</b> int64</label>"
            ]
          },
          "metadata": {},
          "execution_count": 5
        }
      ]
    },
    {
      "cell_type": "markdown",
      "source": [
        "yaklaşık %60 negatif sınıf (target = 0) ve\n",
        "\n",
        "%40 pozitif sınıf (target = 1)"
      ],
      "metadata": {
        "id": "f7jQE57TZQhQ"
      }
    },
    {
      "cell_type": "code",
      "source": [
        "# satır sayısına bakalım:\n",
        "print(f\"Total training samples: {len(train_df)}\")\n",
        "print(f\"Total test samples: {len(test_df)}\")\n",
        "print(f\"Total samples: {len(train_df) + len(test_df)}\")"
      ],
      "metadata": {
        "colab": {
          "base_uri": "https://localhost:8080/"
        },
        "id": "6a6JvzJNZUXi",
        "outputId": "457c7ff6-adb3-4868-b633-f741b52258b4"
      },
      "execution_count": 6,
      "outputs": [
        {
          "output_type": "stream",
          "name": "stdout",
          "text": [
            "Total training samples: 7613\n",
            "Total test samples: 3263\n",
            "Total samples: 10876\n"
          ]
        }
      ]
    },
    {
      "cell_type": "markdown",
      "source": [
        "# Model Kurma Hazırlık Aşaması"
      ],
      "metadata": {
        "id": "CByZub8tZb0_"
      }
    },
    {
      "cell_type": "code",
      "source": [
        "from sklearn.model_selection import train_test_split\n",
        "\n",
        "# train & validasyon datası\n",
        "train_sentences, val_sentences, train_labels, val_labels = train_test_split(train_df_shuffled[\"text\"].to_numpy(),\n",
        "                                                                            train_df_shuffled[\"target\"].to_numpy(),\n",
        "                                                                            test_size=0.1, # validation set\n",
        "                                                                            random_state=42)"
      ],
      "metadata": {
        "id": "P_8ph28UZYTR"
      },
      "execution_count": 7,
      "outputs": []
    },
    {
      "cell_type": "code",
      "source": [
        "# Check the lengths\n",
        "len(train_sentences), len(train_labels), len(val_sentences), len(val_labels)"
      ],
      "metadata": {
        "colab": {
          "base_uri": "https://localhost:8080/"
        },
        "id": "DxbK3usCZgTO",
        "outputId": "4089d017-93a4-4afe-d10c-a7d8d6afc837"
      },
      "execution_count": 8,
      "outputs": [
        {
          "output_type": "execute_result",
          "data": {
            "text/plain": [
              "(6851, 6851, 762, 762)"
            ]
          },
          "metadata": {},
          "execution_count": 8
        }
      ]
    },
    {
      "cell_type": "code",
      "source": [
        "train_sentences"
      ],
      "metadata": {
        "colab": {
          "base_uri": "https://localhost:8080/"
        },
        "id": "xCjmnVuhZiDr",
        "outputId": "16bd80d8-a03e-440e-a01c-3cdfa2fcffa3"
      },
      "execution_count": 9,
      "outputs": [
        {
          "output_type": "execute_result",
          "data": {
            "text/plain": [
              "array(['@mogacola @zamtriossu i screamed after hitting tweet',\n",
              "       'Imagine getting flattened by Kurt Zouma',\n",
              "       '@Gurmeetramrahim #MSGDoing111WelfareWorks Green S welfare force ke appx 65000 members har time disaster victim ki help ke liye tyar hai....',\n",
              "       ...,\n",
              "       'Near them on the sand half sunk a shattered visage lies... http://t.co/0kCCG1BT06',\n",
              "       \"kesabaran membuahkan hasil indah pada saat tepat! life isn't about waiting for the storm to pass it's about learning to dance in the rain.\",\n",
              "       \"@ScottDPierce @billharris_tv @HarrisGle @Beezersun I'm forfeiting this years fantasy football pool out of fear I may win n get my ass kicked\"],\n",
              "      dtype=object)"
            ]
          },
          "metadata": {},
          "execution_count": 9
        }
      ]
    },
    {
      "cell_type": "markdown",
      "source": [
        "# Temel Model: Model_1"
      ],
      "metadata": {
        "id": "n5TW9UiGZq6u"
      }
    },
    {
      "cell_type": "code",
      "source": [
        "from sklearn.feature_extraction.text import TfidfVectorizer\n",
        "from sklearn.naive_bayes import MultinomialNB\n",
        "from sklearn.pipeline import Pipeline\n",
        "\n",
        "# tokenization ve model pipeline i oluşturalım:\n",
        "model_1 = Pipeline([\n",
        "                    (\"tfidf\", TfidfVectorizer()), # vektörleştirme için TF-IDF\n",
        "                    (\"clf\", MultinomialNB()) # classifier modeli\n",
        "])\n",
        "\n",
        "# train datasında fit edelim:\n",
        "model_1.fit(train_sentences, train_labels)"
      ],
      "metadata": {
        "colab": {
          "base_uri": "https://localhost:8080/",
          "height": 156
        },
        "id": "PDxI9wkHZlYb",
        "outputId": "c9c366c2-a623-4837-9819-1c6e81b56c54"
      },
      "execution_count": 10,
      "outputs": [
        {
          "output_type": "execute_result",
          "data": {
            "text/plain": [
              "Pipeline(steps=[('tfidf', TfidfVectorizer()), ('clf', MultinomialNB())])"
            ],
            "text/html": [
              "<style>#sk-container-id-1 {\n",
              "  /* Definition of color scheme common for light and dark mode */\n",
              "  --sklearn-color-text: #000;\n",
              "  --sklearn-color-text-muted: #666;\n",
              "  --sklearn-color-line: gray;\n",
              "  /* Definition of color scheme for unfitted estimators */\n",
              "  --sklearn-color-unfitted-level-0: #fff5e6;\n",
              "  --sklearn-color-unfitted-level-1: #f6e4d2;\n",
              "  --sklearn-color-unfitted-level-2: #ffe0b3;\n",
              "  --sklearn-color-unfitted-level-3: chocolate;\n",
              "  /* Definition of color scheme for fitted estimators */\n",
              "  --sklearn-color-fitted-level-0: #f0f8ff;\n",
              "  --sklearn-color-fitted-level-1: #d4ebff;\n",
              "  --sklearn-color-fitted-level-2: #b3dbfd;\n",
              "  --sklearn-color-fitted-level-3: cornflowerblue;\n",
              "\n",
              "  /* Specific color for light theme */\n",
              "  --sklearn-color-text-on-default-background: var(--sg-text-color, var(--theme-code-foreground, var(--jp-content-font-color1, black)));\n",
              "  --sklearn-color-background: var(--sg-background-color, var(--theme-background, var(--jp-layout-color0, white)));\n",
              "  --sklearn-color-border-box: var(--sg-text-color, var(--theme-code-foreground, var(--jp-content-font-color1, black)));\n",
              "  --sklearn-color-icon: #696969;\n",
              "\n",
              "  @media (prefers-color-scheme: dark) {\n",
              "    /* Redefinition of color scheme for dark theme */\n",
              "    --sklearn-color-text-on-default-background: var(--sg-text-color, var(--theme-code-foreground, var(--jp-content-font-color1, white)));\n",
              "    --sklearn-color-background: var(--sg-background-color, var(--theme-background, var(--jp-layout-color0, #111)));\n",
              "    --sklearn-color-border-box: var(--sg-text-color, var(--theme-code-foreground, var(--jp-content-font-color1, white)));\n",
              "    --sklearn-color-icon: #878787;\n",
              "  }\n",
              "}\n",
              "\n",
              "#sk-container-id-1 {\n",
              "  color: var(--sklearn-color-text);\n",
              "}\n",
              "\n",
              "#sk-container-id-1 pre {\n",
              "  padding: 0;\n",
              "}\n",
              "\n",
              "#sk-container-id-1 input.sk-hidden--visually {\n",
              "  border: 0;\n",
              "  clip: rect(1px 1px 1px 1px);\n",
              "  clip: rect(1px, 1px, 1px, 1px);\n",
              "  height: 1px;\n",
              "  margin: -1px;\n",
              "  overflow: hidden;\n",
              "  padding: 0;\n",
              "  position: absolute;\n",
              "  width: 1px;\n",
              "}\n",
              "\n",
              "#sk-container-id-1 div.sk-dashed-wrapped {\n",
              "  border: 1px dashed var(--sklearn-color-line);\n",
              "  margin: 0 0.4em 0.5em 0.4em;\n",
              "  box-sizing: border-box;\n",
              "  padding-bottom: 0.4em;\n",
              "  background-color: var(--sklearn-color-background);\n",
              "}\n",
              "\n",
              "#sk-container-id-1 div.sk-container {\n",
              "  /* jupyter's `normalize.less` sets `[hidden] { display: none; }`\n",
              "     but bootstrap.min.css set `[hidden] { display: none !important; }`\n",
              "     so we also need the `!important` here to be able to override the\n",
              "     default hidden behavior on the sphinx rendered scikit-learn.org.\n",
              "     See: https://github.com/scikit-learn/scikit-learn/issues/21755 */\n",
              "  display: inline-block !important;\n",
              "  position: relative;\n",
              "}\n",
              "\n",
              "#sk-container-id-1 div.sk-text-repr-fallback {\n",
              "  display: none;\n",
              "}\n",
              "\n",
              "div.sk-parallel-item,\n",
              "div.sk-serial,\n",
              "div.sk-item {\n",
              "  /* draw centered vertical line to link estimators */\n",
              "  background-image: linear-gradient(var(--sklearn-color-text-on-default-background), var(--sklearn-color-text-on-default-background));\n",
              "  background-size: 2px 100%;\n",
              "  background-repeat: no-repeat;\n",
              "  background-position: center center;\n",
              "}\n",
              "\n",
              "/* Parallel-specific style estimator block */\n",
              "\n",
              "#sk-container-id-1 div.sk-parallel-item::after {\n",
              "  content: \"\";\n",
              "  width: 100%;\n",
              "  border-bottom: 2px solid var(--sklearn-color-text-on-default-background);\n",
              "  flex-grow: 1;\n",
              "}\n",
              "\n",
              "#sk-container-id-1 div.sk-parallel {\n",
              "  display: flex;\n",
              "  align-items: stretch;\n",
              "  justify-content: center;\n",
              "  background-color: var(--sklearn-color-background);\n",
              "  position: relative;\n",
              "}\n",
              "\n",
              "#sk-container-id-1 div.sk-parallel-item {\n",
              "  display: flex;\n",
              "  flex-direction: column;\n",
              "}\n",
              "\n",
              "#sk-container-id-1 div.sk-parallel-item:first-child::after {\n",
              "  align-self: flex-end;\n",
              "  width: 50%;\n",
              "}\n",
              "\n",
              "#sk-container-id-1 div.sk-parallel-item:last-child::after {\n",
              "  align-self: flex-start;\n",
              "  width: 50%;\n",
              "}\n",
              "\n",
              "#sk-container-id-1 div.sk-parallel-item:only-child::after {\n",
              "  width: 0;\n",
              "}\n",
              "\n",
              "/* Serial-specific style estimator block */\n",
              "\n",
              "#sk-container-id-1 div.sk-serial {\n",
              "  display: flex;\n",
              "  flex-direction: column;\n",
              "  align-items: center;\n",
              "  background-color: var(--sklearn-color-background);\n",
              "  padding-right: 1em;\n",
              "  padding-left: 1em;\n",
              "}\n",
              "\n",
              "\n",
              "/* Toggleable style: style used for estimator/Pipeline/ColumnTransformer box that is\n",
              "clickable and can be expanded/collapsed.\n",
              "- Pipeline and ColumnTransformer use this feature and define the default style\n",
              "- Estimators will overwrite some part of the style using the `sk-estimator` class\n",
              "*/\n",
              "\n",
              "/* Pipeline and ColumnTransformer style (default) */\n",
              "\n",
              "#sk-container-id-1 div.sk-toggleable {\n",
              "  /* Default theme specific background. It is overwritten whether we have a\n",
              "  specific estimator or a Pipeline/ColumnTransformer */\n",
              "  background-color: var(--sklearn-color-background);\n",
              "}\n",
              "\n",
              "/* Toggleable label */\n",
              "#sk-container-id-1 label.sk-toggleable__label {\n",
              "  cursor: pointer;\n",
              "  display: flex;\n",
              "  width: 100%;\n",
              "  margin-bottom: 0;\n",
              "  padding: 0.5em;\n",
              "  box-sizing: border-box;\n",
              "  text-align: center;\n",
              "  align-items: start;\n",
              "  justify-content: space-between;\n",
              "  gap: 0.5em;\n",
              "}\n",
              "\n",
              "#sk-container-id-1 label.sk-toggleable__label .caption {\n",
              "  font-size: 0.6rem;\n",
              "  font-weight: lighter;\n",
              "  color: var(--sklearn-color-text-muted);\n",
              "}\n",
              "\n",
              "#sk-container-id-1 label.sk-toggleable__label-arrow:before {\n",
              "  /* Arrow on the left of the label */\n",
              "  content: \"▸\";\n",
              "  float: left;\n",
              "  margin-right: 0.25em;\n",
              "  color: var(--sklearn-color-icon);\n",
              "}\n",
              "\n",
              "#sk-container-id-1 label.sk-toggleable__label-arrow:hover:before {\n",
              "  color: var(--sklearn-color-text);\n",
              "}\n",
              "\n",
              "/* Toggleable content - dropdown */\n",
              "\n",
              "#sk-container-id-1 div.sk-toggleable__content {\n",
              "  max-height: 0;\n",
              "  max-width: 0;\n",
              "  overflow: hidden;\n",
              "  text-align: left;\n",
              "  /* unfitted */\n",
              "  background-color: var(--sklearn-color-unfitted-level-0);\n",
              "}\n",
              "\n",
              "#sk-container-id-1 div.sk-toggleable__content.fitted {\n",
              "  /* fitted */\n",
              "  background-color: var(--sklearn-color-fitted-level-0);\n",
              "}\n",
              "\n",
              "#sk-container-id-1 div.sk-toggleable__content pre {\n",
              "  margin: 0.2em;\n",
              "  border-radius: 0.25em;\n",
              "  color: var(--sklearn-color-text);\n",
              "  /* unfitted */\n",
              "  background-color: var(--sklearn-color-unfitted-level-0);\n",
              "}\n",
              "\n",
              "#sk-container-id-1 div.sk-toggleable__content.fitted pre {\n",
              "  /* unfitted */\n",
              "  background-color: var(--sklearn-color-fitted-level-0);\n",
              "}\n",
              "\n",
              "#sk-container-id-1 input.sk-toggleable__control:checked~div.sk-toggleable__content {\n",
              "  /* Expand drop-down */\n",
              "  max-height: 200px;\n",
              "  max-width: 100%;\n",
              "  overflow: auto;\n",
              "}\n",
              "\n",
              "#sk-container-id-1 input.sk-toggleable__control:checked~label.sk-toggleable__label-arrow:before {\n",
              "  content: \"▾\";\n",
              "}\n",
              "\n",
              "/* Pipeline/ColumnTransformer-specific style */\n",
              "\n",
              "#sk-container-id-1 div.sk-label input.sk-toggleable__control:checked~label.sk-toggleable__label {\n",
              "  color: var(--sklearn-color-text);\n",
              "  background-color: var(--sklearn-color-unfitted-level-2);\n",
              "}\n",
              "\n",
              "#sk-container-id-1 div.sk-label.fitted input.sk-toggleable__control:checked~label.sk-toggleable__label {\n",
              "  background-color: var(--sklearn-color-fitted-level-2);\n",
              "}\n",
              "\n",
              "/* Estimator-specific style */\n",
              "\n",
              "/* Colorize estimator box */\n",
              "#sk-container-id-1 div.sk-estimator input.sk-toggleable__control:checked~label.sk-toggleable__label {\n",
              "  /* unfitted */\n",
              "  background-color: var(--sklearn-color-unfitted-level-2);\n",
              "}\n",
              "\n",
              "#sk-container-id-1 div.sk-estimator.fitted input.sk-toggleable__control:checked~label.sk-toggleable__label {\n",
              "  /* fitted */\n",
              "  background-color: var(--sklearn-color-fitted-level-2);\n",
              "}\n",
              "\n",
              "#sk-container-id-1 div.sk-label label.sk-toggleable__label,\n",
              "#sk-container-id-1 div.sk-label label {\n",
              "  /* The background is the default theme color */\n",
              "  color: var(--sklearn-color-text-on-default-background);\n",
              "}\n",
              "\n",
              "/* On hover, darken the color of the background */\n",
              "#sk-container-id-1 div.sk-label:hover label.sk-toggleable__label {\n",
              "  color: var(--sklearn-color-text);\n",
              "  background-color: var(--sklearn-color-unfitted-level-2);\n",
              "}\n",
              "\n",
              "/* Label box, darken color on hover, fitted */\n",
              "#sk-container-id-1 div.sk-label.fitted:hover label.sk-toggleable__label.fitted {\n",
              "  color: var(--sklearn-color-text);\n",
              "  background-color: var(--sklearn-color-fitted-level-2);\n",
              "}\n",
              "\n",
              "/* Estimator label */\n",
              "\n",
              "#sk-container-id-1 div.sk-label label {\n",
              "  font-family: monospace;\n",
              "  font-weight: bold;\n",
              "  display: inline-block;\n",
              "  line-height: 1.2em;\n",
              "}\n",
              "\n",
              "#sk-container-id-1 div.sk-label-container {\n",
              "  text-align: center;\n",
              "}\n",
              "\n",
              "/* Estimator-specific */\n",
              "#sk-container-id-1 div.sk-estimator {\n",
              "  font-family: monospace;\n",
              "  border: 1px dotted var(--sklearn-color-border-box);\n",
              "  border-radius: 0.25em;\n",
              "  box-sizing: border-box;\n",
              "  margin-bottom: 0.5em;\n",
              "  /* unfitted */\n",
              "  background-color: var(--sklearn-color-unfitted-level-0);\n",
              "}\n",
              "\n",
              "#sk-container-id-1 div.sk-estimator.fitted {\n",
              "  /* fitted */\n",
              "  background-color: var(--sklearn-color-fitted-level-0);\n",
              "}\n",
              "\n",
              "/* on hover */\n",
              "#sk-container-id-1 div.sk-estimator:hover {\n",
              "  /* unfitted */\n",
              "  background-color: var(--sklearn-color-unfitted-level-2);\n",
              "}\n",
              "\n",
              "#sk-container-id-1 div.sk-estimator.fitted:hover {\n",
              "  /* fitted */\n",
              "  background-color: var(--sklearn-color-fitted-level-2);\n",
              "}\n",
              "\n",
              "/* Specification for estimator info (e.g. \"i\" and \"?\") */\n",
              "\n",
              "/* Common style for \"i\" and \"?\" */\n",
              "\n",
              ".sk-estimator-doc-link,\n",
              "a:link.sk-estimator-doc-link,\n",
              "a:visited.sk-estimator-doc-link {\n",
              "  float: right;\n",
              "  font-size: smaller;\n",
              "  line-height: 1em;\n",
              "  font-family: monospace;\n",
              "  background-color: var(--sklearn-color-background);\n",
              "  border-radius: 1em;\n",
              "  height: 1em;\n",
              "  width: 1em;\n",
              "  text-decoration: none !important;\n",
              "  margin-left: 0.5em;\n",
              "  text-align: center;\n",
              "  /* unfitted */\n",
              "  border: var(--sklearn-color-unfitted-level-1) 1pt solid;\n",
              "  color: var(--sklearn-color-unfitted-level-1);\n",
              "}\n",
              "\n",
              ".sk-estimator-doc-link.fitted,\n",
              "a:link.sk-estimator-doc-link.fitted,\n",
              "a:visited.sk-estimator-doc-link.fitted {\n",
              "  /* fitted */\n",
              "  border: var(--sklearn-color-fitted-level-1) 1pt solid;\n",
              "  color: var(--sklearn-color-fitted-level-1);\n",
              "}\n",
              "\n",
              "/* On hover */\n",
              "div.sk-estimator:hover .sk-estimator-doc-link:hover,\n",
              ".sk-estimator-doc-link:hover,\n",
              "div.sk-label-container:hover .sk-estimator-doc-link:hover,\n",
              ".sk-estimator-doc-link:hover {\n",
              "  /* unfitted */\n",
              "  background-color: var(--sklearn-color-unfitted-level-3);\n",
              "  color: var(--sklearn-color-background);\n",
              "  text-decoration: none;\n",
              "}\n",
              "\n",
              "div.sk-estimator.fitted:hover .sk-estimator-doc-link.fitted:hover,\n",
              ".sk-estimator-doc-link.fitted:hover,\n",
              "div.sk-label-container:hover .sk-estimator-doc-link.fitted:hover,\n",
              ".sk-estimator-doc-link.fitted:hover {\n",
              "  /* fitted */\n",
              "  background-color: var(--sklearn-color-fitted-level-3);\n",
              "  color: var(--sklearn-color-background);\n",
              "  text-decoration: none;\n",
              "}\n",
              "\n",
              "/* Span, style for the box shown on hovering the info icon */\n",
              ".sk-estimator-doc-link span {\n",
              "  display: none;\n",
              "  z-index: 9999;\n",
              "  position: relative;\n",
              "  font-weight: normal;\n",
              "  right: .2ex;\n",
              "  padding: .5ex;\n",
              "  margin: .5ex;\n",
              "  width: min-content;\n",
              "  min-width: 20ex;\n",
              "  max-width: 50ex;\n",
              "  color: var(--sklearn-color-text);\n",
              "  box-shadow: 2pt 2pt 4pt #999;\n",
              "  /* unfitted */\n",
              "  background: var(--sklearn-color-unfitted-level-0);\n",
              "  border: .5pt solid var(--sklearn-color-unfitted-level-3);\n",
              "}\n",
              "\n",
              ".sk-estimator-doc-link.fitted span {\n",
              "  /* fitted */\n",
              "  background: var(--sklearn-color-fitted-level-0);\n",
              "  border: var(--sklearn-color-fitted-level-3);\n",
              "}\n",
              "\n",
              ".sk-estimator-doc-link:hover span {\n",
              "  display: block;\n",
              "}\n",
              "\n",
              "/* \"?\"-specific style due to the `<a>` HTML tag */\n",
              "\n",
              "#sk-container-id-1 a.estimator_doc_link {\n",
              "  float: right;\n",
              "  font-size: 1rem;\n",
              "  line-height: 1em;\n",
              "  font-family: monospace;\n",
              "  background-color: var(--sklearn-color-background);\n",
              "  border-radius: 1rem;\n",
              "  height: 1rem;\n",
              "  width: 1rem;\n",
              "  text-decoration: none;\n",
              "  /* unfitted */\n",
              "  color: var(--sklearn-color-unfitted-level-1);\n",
              "  border: var(--sklearn-color-unfitted-level-1) 1pt solid;\n",
              "}\n",
              "\n",
              "#sk-container-id-1 a.estimator_doc_link.fitted {\n",
              "  /* fitted */\n",
              "  border: var(--sklearn-color-fitted-level-1) 1pt solid;\n",
              "  color: var(--sklearn-color-fitted-level-1);\n",
              "}\n",
              "\n",
              "/* On hover */\n",
              "#sk-container-id-1 a.estimator_doc_link:hover {\n",
              "  /* unfitted */\n",
              "  background-color: var(--sklearn-color-unfitted-level-3);\n",
              "  color: var(--sklearn-color-background);\n",
              "  text-decoration: none;\n",
              "}\n",
              "\n",
              "#sk-container-id-1 a.estimator_doc_link.fitted:hover {\n",
              "  /* fitted */\n",
              "  background-color: var(--sklearn-color-fitted-level-3);\n",
              "}\n",
              "</style><div id=\"sk-container-id-1\" class=\"sk-top-container\"><div class=\"sk-text-repr-fallback\"><pre>Pipeline(steps=[(&#x27;tfidf&#x27;, TfidfVectorizer()), (&#x27;clf&#x27;, MultinomialNB())])</pre><b>In a Jupyter environment, please rerun this cell to show the HTML representation or trust the notebook. <br />On GitHub, the HTML representation is unable to render, please try loading this page with nbviewer.org.</b></div><div class=\"sk-container\" hidden><div class=\"sk-item sk-dashed-wrapped\"><div class=\"sk-label-container\"><div class=\"sk-label fitted sk-toggleable\"><input class=\"sk-toggleable__control sk-hidden--visually\" id=\"sk-estimator-id-1\" type=\"checkbox\" ><label for=\"sk-estimator-id-1\" class=\"sk-toggleable__label fitted sk-toggleable__label-arrow\"><div><div>Pipeline</div></div><div><a class=\"sk-estimator-doc-link fitted\" rel=\"noreferrer\" target=\"_blank\" href=\"https://scikit-learn.org/1.6/modules/generated/sklearn.pipeline.Pipeline.html\">?<span>Documentation for Pipeline</span></a><span class=\"sk-estimator-doc-link fitted\">i<span>Fitted</span></span></div></label><div class=\"sk-toggleable__content fitted\"><pre>Pipeline(steps=[(&#x27;tfidf&#x27;, TfidfVectorizer()), (&#x27;clf&#x27;, MultinomialNB())])</pre></div> </div></div><div class=\"sk-serial\"><div class=\"sk-item\"><div class=\"sk-estimator fitted sk-toggleable\"><input class=\"sk-toggleable__control sk-hidden--visually\" id=\"sk-estimator-id-2\" type=\"checkbox\" ><label for=\"sk-estimator-id-2\" class=\"sk-toggleable__label fitted sk-toggleable__label-arrow\"><div><div>TfidfVectorizer</div></div><div><a class=\"sk-estimator-doc-link fitted\" rel=\"noreferrer\" target=\"_blank\" href=\"https://scikit-learn.org/1.6/modules/generated/sklearn.feature_extraction.text.TfidfVectorizer.html\">?<span>Documentation for TfidfVectorizer</span></a></div></label><div class=\"sk-toggleable__content fitted\"><pre>TfidfVectorizer()</pre></div> </div></div><div class=\"sk-item\"><div class=\"sk-estimator fitted sk-toggleable\"><input class=\"sk-toggleable__control sk-hidden--visually\" id=\"sk-estimator-id-3\" type=\"checkbox\" ><label for=\"sk-estimator-id-3\" class=\"sk-toggleable__label fitted sk-toggleable__label-arrow\"><div><div>MultinomialNB</div></div><div><a class=\"sk-estimator-doc-link fitted\" rel=\"noreferrer\" target=\"_blank\" href=\"https://scikit-learn.org/1.6/modules/generated/sklearn.naive_bayes.MultinomialNB.html\">?<span>Documentation for MultinomialNB</span></a></div></label><div class=\"sk-toggleable__content fitted\"><pre>MultinomialNB()</pre></div> </div></div></div></div></div></div>"
            ]
          },
          "metadata": {},
          "execution_count": 10
        }
      ]
    },
    {
      "cell_type": "code",
      "source": [
        "# temel modeli değerlendirelim:\n",
        "\n",
        "baseline_score = model_1.score(val_sentences, val_labels)\n",
        "print(f\"temel modelin başarısı: {baseline_score*100:.2f}%\")"
      ],
      "metadata": {
        "colab": {
          "base_uri": "https://localhost:8080/"
        },
        "id": "62Hig1RJZyp-",
        "outputId": "99d24349-8077-4459-9c26-cb2489f89065"
      },
      "execution_count": 11,
      "outputs": [
        {
          "output_type": "stream",
          "name": "stdout",
          "text": [
            "temel modelin başarısı: 79.27%\n"
          ]
        }
      ]
    },
    {
      "cell_type": "code",
      "source": [
        "# validasyon setinde tahminleme yapalım:\n",
        "\n",
        "baseline_preds = model_1.predict(val_sentences)\n",
        "baseline_preds[:20]"
      ],
      "metadata": {
        "colab": {
          "base_uri": "https://localhost:8080/"
        },
        "id": "a0kAzTPPZ4ZZ",
        "outputId": "9cd7f7d2-cfa1-4e85-82b0-b4233c0ac96f"
      },
      "execution_count": 12,
      "outputs": [
        {
          "output_type": "execute_result",
          "data": {
            "text/plain": [
              "array([1, 1, 1, 0, 0, 1, 1, 1, 1, 0, 0, 1, 0, 0, 0, 0, 0, 0, 0, 1])"
            ]
          },
          "metadata": {},
          "execution_count": 12
        }
      ]
    },
    {
      "cell_type": "code",
      "source": [
        "# değerlendirme fonksiyonu oluşturalım:accuracy, precision, recall, f1-score\n",
        "\n",
        "from sklearn.metrics import accuracy_score, precision_recall_fscore_support\n",
        "\n",
        "def calculate_results(y_true, y_pred):\n",
        "  # accuracy\n",
        "  model_accuracy = accuracy_score(y_true, y_pred)\n",
        "  # precision, recall and f1 score using \"weighted\" average\n",
        "  model_precision, model_recall, model_f1, _ = precision_recall_fscore_support(y_true, y_pred, average=\"weighted\")\n",
        "  model_results = {\"accuracy\": model_accuracy,\n",
        "                  \"precision\": model_precision,\n",
        "                  \"recall\": model_recall,\n",
        "                  \"f1\": model_f1}\n",
        "  return model_results"
      ],
      "metadata": {
        "id": "ZqMLn0jrZ7iF"
      },
      "execution_count": 13,
      "outputs": []
    },
    {
      "cell_type": "code",
      "source": [
        "# Başarı metriklerini görelim:\n",
        "\n",
        "model_1_results = calculate_results(y_true=val_labels,\n",
        "                                     y_pred=baseline_preds)\n",
        "model_1_results"
      ],
      "metadata": {
        "colab": {
          "base_uri": "https://localhost:8080/"
        },
        "id": "grOM8MbVZ-48",
        "outputId": "063b208a-4e15-4f4c-ce50-56a1869ba20c"
      },
      "execution_count": 14,
      "outputs": [
        {
          "output_type": "execute_result",
          "data": {
            "text/plain": [
              "{'accuracy': 0.7926509186351706,\n",
              " 'precision': 0.8111390004213173,\n",
              " 'recall': 0.7926509186351706,\n",
              " 'f1': 0.7862189758049549}"
            ]
          },
          "metadata": {},
          "execution_count": 14
        }
      ]
    },
    {
      "cell_type": "markdown",
      "source": [
        "**örnek tweet üzerinde deneme**"
      ],
      "metadata": {
        "id": "fsVesk51mB_h"
      }
    },
    {
      "cell_type": "code",
      "source": [
        "new_tweet = [\"Earthquake hits central California, buildings damaged.\"]\n",
        "prediction = model_1.predict(new_tweet)\n",
        "\n",
        "print(\"Prediction:\", prediction[0])"
      ],
      "metadata": {
        "colab": {
          "base_uri": "https://localhost:8080/"
        },
        "id": "dQBMXDnQbRji",
        "outputId": "639160ed-216c-47f1-84fb-98adceea3b5b"
      },
      "execution_count": 15,
      "outputs": [
        {
          "output_type": "stream",
          "name": "stdout",
          "text": [
            "Prediction: 1\n"
          ]
        }
      ]
    },
    {
      "cell_type": "code",
      "source": [
        "fake_tweet = [\"Free burgers for everyone due to the storm!\"]\n",
        "prediction = model_1.predict(fake_tweet)\n",
        "\n",
        "print(\"Prediction:\", prediction[0])"
      ],
      "metadata": {
        "colab": {
          "base_uri": "https://localhost:8080/"
        },
        "id": "2RST74WgbZfm",
        "outputId": "6d2f8c9f-16ea-4799-e081-c959acd5f145"
      },
      "execution_count": 16,
      "outputs": [
        {
          "output_type": "stream",
          "name": "stdout",
          "text": [
            "Prediction: 0\n"
          ]
        }
      ]
    },
    {
      "cell_type": "markdown",
      "source": [
        "# Derin Öğrenme Modeli: Model_2"
      ],
      "metadata": {
        "id": "o6kc3h9Ub0Y1"
      }
    },
    {
      "cell_type": "markdown",
      "source": [
        "Basit Derin Öğrenme Metin Sınıflandırıcı (DNN) kullancağız.\n",
        "\n",
        "text vectorization + embedding + average pooling + dense sigmoid"
      ],
      "metadata": {
        "id": "Q0H3dA6QlBes"
      }
    },
    {
      "cell_type": "code",
      "source": [
        "# TextVectorization kullanarak metin vektörleştirme yapalım\n",
        "\n",
        "import tensorflow as tf\n",
        "from tensorflow.keras.layers import TextVectorization\n",
        "\n",
        "max_vocab_length = 10000 # kelime dağarcığımızda bulunması gereken maksimum kelime sayısı\n",
        "max_length = 15 # dizideki max uzunluk  (bu örnek için kaç kelimelik tweet olmalı?)\n",
        "\n",
        "text_vectorizer = TextVectorization(max_tokens=max_vocab_length, # kelime dağarcığındaki maksimum benzersiz kelime sayısıdır\n",
        "                                    standardize=\"lower_and_strip_punctuation\", # Metni küçük harfe çevirir ve noktalama işaretlerini temizler\n",
        "                                    split=\"whitespace\", # Metni boşluklara göre ayırır\n",
        "                                    ngrams=None, # N-gram lara ayırır, none -> tek tek kelimeler alınır yani unigram\n",
        "                                    output_mode=\"int\", # Kelimeleri tamsayıya dönüştürür (token ID)\n",
        "                                    output_sequence_length=None) # Her bir çıktı dizisinin uzunluğunu sabitler.None -> her cümle uzunluğunda kalır."
      ],
      "metadata": {
        "id": "dHvN82_aaqfk"
      },
      "execution_count": 17,
      "outputs": []
    },
    {
      "cell_type": "markdown",
      "source": [
        "sinir ağlarında kullanabilmek içn bir katman oluşturalım."
      ],
      "metadata": {
        "id": "TcP4VSGoevmT"
      }
    },
    {
      "cell_type": "code",
      "source": [
        "# Embedding katmanı kullanark Embedding oluşturalım:\n",
        "\n",
        "# # kodu her çalıştırdığında aynı sonuçları almak için:\n",
        "tf.random.set_seed(42)\n",
        "from tensorflow.keras import layers\n",
        "\n",
        "embedding = layers.Embedding(input_dim=max_vocab_length, # kelime dağarcığındaki toplam benzersiz kelime sayısı\n",
        "                             output_dim=128, # Her kelimenin temsil edileceği vektörün boyutu (embedding size)\n",
        "                             embeddings_initializer=\"uniform\", # Ağırlıkların başlatılma yöntemi (default: rastgele)\n",
        "                             input_length=max_length, # Her giriş dizisinin uzunluğu\n",
        "                             name=\"embedding_1\")      # Katmana özel bir isim"
      ],
      "metadata": {
        "colab": {
          "base_uri": "https://localhost:8080/"
        },
        "id": "5OXADy9iexfz",
        "outputId": "a3111413-9446-4116-e88f-98bea197fc5d"
      },
      "execution_count": 18,
      "outputs": [
        {
          "output_type": "stream",
          "name": "stderr",
          "text": [
            "/usr/local/lib/python3.11/dist-packages/keras/src/layers/core/embedding.py:90: UserWarning: Argument `input_length` is deprecated. Just remove it.\n",
            "  warnings.warn(\n"
          ]
        }
      ]
    },
    {
      "cell_type": "code",
      "source": [
        "# text vectorizer i train datasına uygulayalım:\n",
        "text_vectorizer.adapt(train_sentences)"
      ],
      "metadata": {
        "id": "hkfOUvF-ezWh"
      },
      "execution_count": 19,
      "outputs": []
    },
    {
      "cell_type": "code",
      "source": [
        "# TensorFlow ve Keras kullanarak bir metin sınıflandırma modeli oluşturalım:\n",
        "# Modelin amacı, bir metin girdisini alıp, 0 veya 1 gibi ikili (binary) bir sınıf tahmini yapmaktır\n",
        "\n",
        "from tensorflow.keras import layers\n",
        "inputs = layers.Input(shape=(1,), dtype=\"string\") # girdi katmanı, her örnek tek satırlık metin olacak, veri tipi string\n",
        "\n",
        "x = text_vectorizer(inputs) # yukarda tanımladığımız TextVectorization katmanı\n",
        "# Ham metin verisi, sayısal değerlere (token dizilerine) dönüştürülür\n",
        "\n",
        "x = embedding(x) # yukarda tanımladığımız embedding katmanı\n",
        "# Sayıya çevrilmiş kelimeler, embedding (gömülü) vektörlerine dönüştürülüyor\n",
        "\n",
        "x = layers.GlobalAveragePooling1D()(x) # Bu katman, vektörlerin ortalamasını alarak tek bir sabit vektör elde eder.\n",
        "\n",
        "outputs = layers.Dense(1, activation=\"sigmoid\")(x) # çıkış katmanı: 1 adet nöron, aktivasyon fonksiyonu sigmoid(0 ile 1 arasında olasılık verir)\n",
        "\n",
        "model_2 = tf.keras.Model(inputs, outputs, name=\"model_2_dense\") # Girdi ve çıktı katmanlarıyla bir model nesnesi oluşturulur"
      ],
      "metadata": {
        "id": "fhSbrwhfe1HM"
      },
      "execution_count": 20,
      "outputs": []
    },
    {
      "cell_type": "code",
      "source": [
        "# Get a summary of the model\n",
        "model_2.summary()"
      ],
      "metadata": {
        "colab": {
          "base_uri": "https://localhost:8080/",
          "height": 328
        },
        "id": "HdDRm4SVe5Zf",
        "outputId": "c64f2356-30f2-4836-e53b-65b43c34d98f"
      },
      "execution_count": 21,
      "outputs": [
        {
          "output_type": "display_data",
          "data": {
            "text/plain": [
              "\u001b[1mModel: \"model_2_dense\"\u001b[0m\n"
            ],
            "text/html": [
              "<pre style=\"white-space:pre;overflow-x:auto;line-height:normal;font-family:Menlo,'DejaVu Sans Mono',consolas,'Courier New',monospace\"><span style=\"font-weight: bold\">Model: \"model_2_dense\"</span>\n",
              "</pre>\n"
            ]
          },
          "metadata": {}
        },
        {
          "output_type": "display_data",
          "data": {
            "text/plain": [
              "┏━━━━━━━━━━━━━━━━━━━━━━━━━━━━━━━━━┳━━━━━━━━━━━━━━━━━━━━━━━━┳━━━━━━━━━━━━━━━┓\n",
              "┃\u001b[1m \u001b[0m\u001b[1mLayer (type)                   \u001b[0m\u001b[1m \u001b[0m┃\u001b[1m \u001b[0m\u001b[1mOutput Shape          \u001b[0m\u001b[1m \u001b[0m┃\u001b[1m \u001b[0m\u001b[1m      Param #\u001b[0m\u001b[1m \u001b[0m┃\n",
              "┡━━━━━━━━━━━━━━━━━━━━━━━━━━━━━━━━━╇━━━━━━━━━━━━━━━━━━━━━━━━╇━━━━━━━━━━━━━━━┩\n",
              "│ input_layer (\u001b[38;5;33mInputLayer\u001b[0m)        │ (\u001b[38;5;45mNone\u001b[0m, \u001b[38;5;34m1\u001b[0m)              │             \u001b[38;5;34m0\u001b[0m │\n",
              "├─────────────────────────────────┼────────────────────────┼───────────────┤\n",
              "│ text_vectorization              │ (\u001b[38;5;45mNone\u001b[0m, \u001b[38;5;45mNone\u001b[0m)           │             \u001b[38;5;34m0\u001b[0m │\n",
              "│ (\u001b[38;5;33mTextVectorization\u001b[0m)             │                        │               │\n",
              "├─────────────────────────────────┼────────────────────────┼───────────────┤\n",
              "│ embedding_1 (\u001b[38;5;33mEmbedding\u001b[0m)         │ (\u001b[38;5;45mNone\u001b[0m, \u001b[38;5;45mNone\u001b[0m, \u001b[38;5;34m128\u001b[0m)      │     \u001b[38;5;34m1,280,000\u001b[0m │\n",
              "├─────────────────────────────────┼────────────────────────┼───────────────┤\n",
              "│ global_average_pooling1d        │ (\u001b[38;5;45mNone\u001b[0m, \u001b[38;5;34m128\u001b[0m)            │             \u001b[38;5;34m0\u001b[0m │\n",
              "│ (\u001b[38;5;33mGlobalAveragePooling1D\u001b[0m)        │                        │               │\n",
              "├─────────────────────────────────┼────────────────────────┼───────────────┤\n",
              "│ dense (\u001b[38;5;33mDense\u001b[0m)                   │ (\u001b[38;5;45mNone\u001b[0m, \u001b[38;5;34m1\u001b[0m)              │           \u001b[38;5;34m129\u001b[0m │\n",
              "└─────────────────────────────────┴────────────────────────┴───────────────┘\n"
            ],
            "text/html": [
              "<pre style=\"white-space:pre;overflow-x:auto;line-height:normal;font-family:Menlo,'DejaVu Sans Mono',consolas,'Courier New',monospace\">┏━━━━━━━━━━━━━━━━━━━━━━━━━━━━━━━━━┳━━━━━━━━━━━━━━━━━━━━━━━━┳━━━━━━━━━━━━━━━┓\n",
              "┃<span style=\"font-weight: bold\"> Layer (type)                    </span>┃<span style=\"font-weight: bold\"> Output Shape           </span>┃<span style=\"font-weight: bold\">       Param # </span>┃\n",
              "┡━━━━━━━━━━━━━━━━━━━━━━━━━━━━━━━━━╇━━━━━━━━━━━━━━━━━━━━━━━━╇━━━━━━━━━━━━━━━┩\n",
              "│ input_layer (<span style=\"color: #0087ff; text-decoration-color: #0087ff\">InputLayer</span>)        │ (<span style=\"color: #00d7ff; text-decoration-color: #00d7ff\">None</span>, <span style=\"color: #00af00; text-decoration-color: #00af00\">1</span>)              │             <span style=\"color: #00af00; text-decoration-color: #00af00\">0</span> │\n",
              "├─────────────────────────────────┼────────────────────────┼───────────────┤\n",
              "│ text_vectorization              │ (<span style=\"color: #00d7ff; text-decoration-color: #00d7ff\">None</span>, <span style=\"color: #00d7ff; text-decoration-color: #00d7ff\">None</span>)           │             <span style=\"color: #00af00; text-decoration-color: #00af00\">0</span> │\n",
              "│ (<span style=\"color: #0087ff; text-decoration-color: #0087ff\">TextVectorization</span>)             │                        │               │\n",
              "├─────────────────────────────────┼────────────────────────┼───────────────┤\n",
              "│ embedding_1 (<span style=\"color: #0087ff; text-decoration-color: #0087ff\">Embedding</span>)         │ (<span style=\"color: #00d7ff; text-decoration-color: #00d7ff\">None</span>, <span style=\"color: #00d7ff; text-decoration-color: #00d7ff\">None</span>, <span style=\"color: #00af00; text-decoration-color: #00af00\">128</span>)      │     <span style=\"color: #00af00; text-decoration-color: #00af00\">1,280,000</span> │\n",
              "├─────────────────────────────────┼────────────────────────┼───────────────┤\n",
              "│ global_average_pooling1d        │ (<span style=\"color: #00d7ff; text-decoration-color: #00d7ff\">None</span>, <span style=\"color: #00af00; text-decoration-color: #00af00\">128</span>)            │             <span style=\"color: #00af00; text-decoration-color: #00af00\">0</span> │\n",
              "│ (<span style=\"color: #0087ff; text-decoration-color: #0087ff\">GlobalAveragePooling1D</span>)        │                        │               │\n",
              "├─────────────────────────────────┼────────────────────────┼───────────────┤\n",
              "│ dense (<span style=\"color: #0087ff; text-decoration-color: #0087ff\">Dense</span>)                   │ (<span style=\"color: #00d7ff; text-decoration-color: #00d7ff\">None</span>, <span style=\"color: #00af00; text-decoration-color: #00af00\">1</span>)              │           <span style=\"color: #00af00; text-decoration-color: #00af00\">129</span> │\n",
              "└─────────────────────────────────┴────────────────────────┴───────────────┘\n",
              "</pre>\n"
            ]
          },
          "metadata": {}
        },
        {
          "output_type": "display_data",
          "data": {
            "text/plain": [
              "\u001b[1m Total params: \u001b[0m\u001b[38;5;34m1,280,129\u001b[0m (4.88 MB)\n"
            ],
            "text/html": [
              "<pre style=\"white-space:pre;overflow-x:auto;line-height:normal;font-family:Menlo,'DejaVu Sans Mono',consolas,'Courier New',monospace\"><span style=\"font-weight: bold\"> Total params: </span><span style=\"color: #00af00; text-decoration-color: #00af00\">1,280,129</span> (4.88 MB)\n",
              "</pre>\n"
            ]
          },
          "metadata": {}
        },
        {
          "output_type": "display_data",
          "data": {
            "text/plain": [
              "\u001b[1m Trainable params: \u001b[0m\u001b[38;5;34m1,280,129\u001b[0m (4.88 MB)\n"
            ],
            "text/html": [
              "<pre style=\"white-space:pre;overflow-x:auto;line-height:normal;font-family:Menlo,'DejaVu Sans Mono',consolas,'Courier New',monospace\"><span style=\"font-weight: bold\"> Trainable params: </span><span style=\"color: #00af00; text-decoration-color: #00af00\">1,280,129</span> (4.88 MB)\n",
              "</pre>\n"
            ]
          },
          "metadata": {}
        },
        {
          "output_type": "display_data",
          "data": {
            "text/plain": [
              "\u001b[1m Non-trainable params: \u001b[0m\u001b[38;5;34m0\u001b[0m (0.00 B)\n"
            ],
            "text/html": [
              "<pre style=\"white-space:pre;overflow-x:auto;line-height:normal;font-family:Menlo,'DejaVu Sans Mono',consolas,'Courier New',monospace\"><span style=\"font-weight: bold\"> Non-trainable params: </span><span style=\"color: #00af00; text-decoration-color: #00af00\">0</span> (0.00 B)\n",
              "</pre>\n"
            ]
          },
          "metadata": {}
        }
      ]
    },
    {
      "cell_type": "code",
      "source": [
        "# Modeli eğitime hazırlamak için; Compile model\n",
        "model_2.compile(loss=\"binary_crossentropy\",   # kayıp fonksiyonu\n",
        "                optimizer=tf.keras.optimizers.Adam(), # Optimizasyon algoritması\n",
        "                metrics=[\"accuracy\"])   #değerlendirme metriği"
      ],
      "metadata": {
        "id": "pC7ADJfde9gj"
      },
      "execution_count": 22,
      "outputs": []
    },
    {
      "cell_type": "code",
      "source": [
        "# Artık .fit() ile modeli eğitebiliriz:\n",
        "model_2_history = model_2.fit(train_sentences,\n",
        "                              train_labels,\n",
        "                              epochs=5,\n",
        "                              validation_data=(val_sentences, val_labels))"
      ],
      "metadata": {
        "colab": {
          "base_uri": "https://localhost:8080/"
        },
        "id": "vpXzMEhpfBzV",
        "outputId": "64c6424e-8d5f-440c-f1e6-6512f133bb04"
      },
      "execution_count": 23,
      "outputs": [
        {
          "output_type": "stream",
          "name": "stdout",
          "text": [
            "Epoch 1/5\n",
            "\u001b[1m215/215\u001b[0m \u001b[32m━━━━━━━━━━━━━━━━━━━━\u001b[0m\u001b[37m\u001b[0m \u001b[1m6s\u001b[0m 17ms/step - accuracy: 0.5954 - loss: 0.6637 - val_accuracy: 0.7690 - val_loss: 0.5772\n",
            "Epoch 2/5\n",
            "\u001b[1m215/215\u001b[0m \u001b[32m━━━━━━━━━━━━━━━━━━━━\u001b[0m\u001b[37m\u001b[0m \u001b[1m5s\u001b[0m 16ms/step - accuracy: 0.7933 - loss: 0.5130 - val_accuracy: 0.7900 - val_loss: 0.4949\n",
            "Epoch 3/5\n",
            "\u001b[1m215/215\u001b[0m \u001b[32m━━━━━━━━━━━━━━━━━━━━\u001b[0m\u001b[37m\u001b[0m \u001b[1m3s\u001b[0m 13ms/step - accuracy: 0.8404 - loss: 0.4028 - val_accuracy: 0.7992 - val_loss: 0.4674\n",
            "Epoch 4/5\n",
            "\u001b[1m215/215\u001b[0m \u001b[32m━━━━━━━━━━━━━━━━━━━━\u001b[0m\u001b[37m\u001b[0m \u001b[1m6s\u001b[0m 15ms/step - accuracy: 0.8720 - loss: 0.3351 - val_accuracy: 0.8058 - val_loss: 0.4609\n",
            "Epoch 5/5\n",
            "\u001b[1m215/215\u001b[0m \u001b[32m━━━━━━━━━━━━━━━━━━━━\u001b[0m\u001b[37m\u001b[0m \u001b[1m3s\u001b[0m 12ms/step - accuracy: 0.8903 - loss: 0.2851 - val_accuracy: 0.8031 - val_loss: 0.4660\n"
          ]
        }
      ]
    },
    {
      "cell_type": "code",
      "source": [
        "# modelin, doğrulama verisi üzerindeki başarısını ölçelim:\n",
        "\n",
        "loss, accuracy = model_2.evaluate(val_sentences, val_labels)\n",
        "print(f\"Validation Loss: {loss:.4f}\")\n",
        "print(f\"Validation Accuracy: {accuracy:.4f}\")"
      ],
      "metadata": {
        "colab": {
          "base_uri": "https://localhost:8080/"
        },
        "id": "WV_-g4OcfDU2",
        "outputId": "0951033e-2419-4ead-c8e5-bd0b04664462"
      },
      "execution_count": 24,
      "outputs": [
        {
          "output_type": "stream",
          "name": "stdout",
          "text": [
            "\u001b[1m24/24\u001b[0m \u001b[32m━━━━━━━━━━━━━━━━━━━━\u001b[0m\u001b[37m\u001b[0m \u001b[1m0s\u001b[0m 4ms/step - accuracy: 0.7809 - loss: 0.5017\n",
            "Validation Loss: 0.4660\n",
            "Validation Accuracy: 0.8031\n"
          ]
        }
      ]
    },
    {
      "cell_type": "code",
      "source": [
        "# Embedding katmanının öğrenilmiş ağırlıklarını (vektörlerini) görelim:\n",
        "embedding.weights"
      ],
      "metadata": {
        "colab": {
          "base_uri": "https://localhost:8080/"
        },
        "id": "9U5amWf6fE34",
        "outputId": "c8f5f595-6fa4-4987-9e29-a5a284ea84ad"
      },
      "execution_count": 25,
      "outputs": [
        {
          "output_type": "execute_result",
          "data": {
            "text/plain": [
              "[<Variable path=embedding_1/embeddings, shape=(10000, 128), dtype=float32, value=[[ 0.0141412   0.0254839   0.02919754 ... -0.0426272   0.00084205\n",
              "   -0.02219932]\n",
              "  [-0.00583038  0.00818451 -0.02228809 ...  0.03239937 -0.03933227\n",
              "   -0.01366801]\n",
              "  [ 0.01828996 -0.00083011 -0.01724912 ...  0.01742412  0.00779379\n",
              "   -0.05647046]\n",
              "  ...\n",
              "  [ 0.02023532 -0.09386612 -0.0330675  ... -0.09151986  0.04839116\n",
              "   -0.06294928]\n",
              "  [ 0.02815702 -0.09180109 -0.01932203 ... -0.03131067  0.049788\n",
              "   -0.01045061]\n",
              "  [ 0.02394488 -0.08858429 -0.05922697 ... -0.0680729   0.02501841\n",
              "   -0.10448675]]>]"
            ]
          },
          "metadata": {},
          "execution_count": 25
        }
      ]
    },
    {
      "cell_type": "code",
      "source": [
        "# her kelimenin vektörünün numpy dizisi olarak gösterilmesi:\n",
        "\n",
        "embedding_matrix = embedding.weights[0].numpy()\n",
        "print(embedding_matrix.shape)"
      ],
      "metadata": {
        "colab": {
          "base_uri": "https://localhost:8080/"
        },
        "id": "DEAlrPT9fGSF",
        "outputId": "a8a12f97-1056-4e20-9636-52db167b8e12"
      },
      "execution_count": 26,
      "outputs": [
        {
          "output_type": "stream",
          "name": "stdout",
          "text": [
            "(10000, 128)\n"
          ]
        }
      ]
    },
    {
      "cell_type": "code",
      "source": [
        "# tahminde bulunalım\n",
        "model_2_pred_probs = model_2.predict(val_sentences)\n",
        "model_2_pred_probs[:20]"
      ],
      "metadata": {
        "colab": {
          "base_uri": "https://localhost:8080/"
        },
        "id": "86IIuUkJfJV4",
        "outputId": "af0a1658-91fa-4197-ab8b-fc634864e276"
      },
      "execution_count": 27,
      "outputs": [
        {
          "output_type": "stream",
          "name": "stdout",
          "text": [
            "\u001b[1m24/24\u001b[0m \u001b[32m━━━━━━━━━━━━━━━━━━━━\u001b[0m\u001b[37m\u001b[0m \u001b[1m0s\u001b[0m 6ms/step\n"
          ]
        },
        {
          "output_type": "execute_result",
          "data": {
            "text/plain": [
              "array([[0.44725794],\n",
              "       [0.7327753 ],\n",
              "       [0.9945903 ],\n",
              "       [0.2181207 ],\n",
              "       [0.42308125],\n",
              "       [0.9057214 ],\n",
              "       [0.90679544],\n",
              "       [0.98874795],\n",
              "       [0.906286  ],\n",
              "       [0.30377695],\n",
              "       [0.19344078],\n",
              "       [0.6405662 ],\n",
              "       [0.12951116],\n",
              "       [0.26412508],\n",
              "       [0.01552677],\n",
              "       [0.16154762],\n",
              "       [0.09704622],\n",
              "       [0.09325492],\n",
              "       [0.3647967 ],\n",
              "       [0.51176375]], dtype=float32)"
            ]
          },
          "metadata": {},
          "execution_count": 27
        }
      ]
    },
    {
      "cell_type": "code",
      "source": [
        "# Tahmin olasılıklarını, tek boyutlu tensöre dönüştürelim:\n",
        "\n",
        "model_2_preds = tf.squeeze(tf.round(model_2_pred_probs))\n",
        "model_2_preds[:20]"
      ],
      "metadata": {
        "colab": {
          "base_uri": "https://localhost:8080/"
        },
        "id": "ZooL5Tp6fN6c",
        "outputId": "9c02c912-0c9a-4f63-dcc8-475e113d018c"
      },
      "execution_count": 28,
      "outputs": [
        {
          "output_type": "execute_result",
          "data": {
            "text/plain": [
              "<tf.Tensor: shape=(20,), dtype=float32, numpy=\n",
              "array([0., 1., 1., 0., 0., 1., 1., 1., 1., 0., 0., 1., 0., 0., 0., 0., 0.,\n",
              "       0., 0., 1.], dtype=float32)>"
            ]
          },
          "metadata": {},
          "execution_count": 28
        }
      ]
    },
    {
      "cell_type": "code",
      "source": [
        "# model_2 nin başarı metriğini hesaplayalım:\n",
        "\n",
        "model_2_results = calculate_results(y_true=val_labels,\n",
        "                                    y_pred=model_2_preds.numpy())\n",
        "model_2_results"
      ],
      "metadata": {
        "colab": {
          "base_uri": "https://localhost:8080/"
        },
        "id": "c_I_g5GhfOco",
        "outputId": "1c59ef84-d0b8-44fa-9261-f287f11e3413"
      },
      "execution_count": 29,
      "outputs": [
        {
          "output_type": "execute_result",
          "data": {
            "text/plain": [
              "{'accuracy': 0.8031496062992126,\n",
              " 'precision': 0.8070248087120978,\n",
              " 'recall': 0.8031496062992126,\n",
              " 'f1': 0.800896883884174}"
            ]
          },
          "metadata": {},
          "execution_count": 29
        }
      ]
    },
    {
      "cell_type": "markdown",
      "source": [
        "**örnek tweet üzerinde deneme**"
      ],
      "metadata": {
        "id": "M7FRwLwLl8gV"
      }
    },
    {
      "cell_type": "code",
      "source": [
        "# tweeti öncelikle \"constant\" ile TensorFlow'un anlayabileceği sabit tensöre çevireceğiz:\n",
        "\n",
        "new_tweet = tf.constant([\"Earthquake hits central California, buildings damaged.\"])\n",
        "prediction = model_2.predict(new_tweet)\n",
        "\n",
        "print(\"Prediction:\", prediction[0])"
      ],
      "metadata": {
        "colab": {
          "base_uri": "https://localhost:8080/"
        },
        "id": "KVvicexeivKh",
        "outputId": "f74a6f1c-fc44-4926-f70c-4d04c18e556d"
      },
      "execution_count": 30,
      "outputs": [
        {
          "output_type": "stream",
          "name": "stdout",
          "text": [
            "\u001b[1m1/1\u001b[0m \u001b[32m━━━━━━━━━━━━━━━━━━━━\u001b[0m\u001b[37m\u001b[0m \u001b[1m0s\u001b[0m 43ms/step\n",
            "Prediction: [1.]\n"
          ]
        }
      ]
    },
    {
      "cell_type": "code",
      "source": [
        "fake_tweet = tf.constant([\"Hurricane alert: buy 1 get 1 free on all sodas!\"])\n",
        "print(model_2.predict(fake_tweet))"
      ],
      "metadata": {
        "colab": {
          "base_uri": "https://localhost:8080/"
        },
        "id": "toXwPImVmsS-",
        "outputId": "35e9b0d1-6a04-46c0-c77f-11e946a4eaea"
      },
      "execution_count": 31,
      "outputs": [
        {
          "output_type": "stream",
          "name": "stdout",
          "text": [
            "\u001b[1m1/1\u001b[0m \u001b[32m━━━━━━━━━━━━━━━━━━━━\u001b[0m\u001b[37m\u001b[0m \u001b[1m0s\u001b[0m 54ms/step\n",
            "[[0.37113705]]\n"
          ]
        }
      ]
    },
    {
      "cell_type": "markdown",
      "source": [
        "# LSTM (long short term memory) - Model_3"
      ],
      "metadata": {
        "id": "jlFj2O-qg1PD"
      }
    },
    {
      "cell_type": "markdown",
      "source": [
        "![not_4hafta.docx - Word 7.07.2025 22_55_44.png](data:image/png;base64,iVBORw0KGgoAAAANSUhEUgAAAmwAAADhCAYAAAB1JOkKAAAAAXNSR0IArs4c6QAAAARnQU1BAACxjwv8YQUAAAAJcEhZcwAADsMAAA7DAcdvqGQAAP+lSURBVHhe7P13eBznnaCLvhU6dwONHAkSgTlTFEWJpKgs2ZZtjWXJ4zD22GPv7nP27s459+597t7du7Oe2XNmzz4z++x6k72zM2N7xmPJHsuW7bEki8oSRVJiAHMAAZAgckYD6Fz13T+qqhMaQIMESYCst/kjuqu+VF/81RclIYTAxsbGxsbGxsZmySLZCpuNjY2Njc3dQSFNviRJuZdslgBy7gUbGxsbGxsbG5ulha2w2djY2NjY2NgscWyFzcbGxsbGxsZmiWMrbDbLjkLmYCwEIcSiu2ljY2NjY7OY2IsOliFCgBA6UJiiIUmSOYnU+rtwdF3L8kuSJGRZyTJTCJZyZLglkCQZWZ77vUEIga7rKf+FECiKZW9hz2P5res6krQ4cWNjY2NjY3OzsRW2ZYgQgkgkzMTEBJFIFMifhEIIVFXF6/Xi9/txudzzKke5CCGIxWKMjY0SiUTQdR2Hw0lxcTFFRUULdi+ZTDI5OcnExASalqSoqJjS0lIUZXblLxqNMD4+wfT0lHlFIhgspri4GFV15Jiem2QyydTUlOm/RiAQoKioCKfTCfbqKBsbGxubJYqtsC1DJibGaW1t5cMPDzE5OTmrwgagqg6Ki4spKyujoqKS+vo66urqKCkpmVNJsohEInz88cd8/PHHDA8Po+s6LpeLmpoa9u9/iObmJlwuV661GQghkCSJnp4eDh48yOnTpxFC0NLSwlNPPUVlZWVe5S+RiHP06DE+/vhj+vv7EUIgyxIrVjSwa9cu1q9fh8fjzbU2K/39/Xz00RGOHz9BIpGgqamJ/fv309zcbCtrNjY2NjZLFlthW4ZcvtzGj3/8Aj/5yU+IRo0eNl03hvoMncNQPIyhQwWPx0NxcTEVFRWsWrWKbdu2sXPnThobG/H5fLnOpxBCMDw8zH//7/+dV199lcHBQUBCURTKy8t45pln+PznP09TU1NeZSsXIQRHjx7lL//yL3nrrbdQFIXt27fzL//lv2Tjxo2oqpprhdHREf7qr/6an//856b/IMtQXl7JE088znPPPcemTZtzrc3KyZOt/O3f/i3/8A+/IZFIsGXLFv7wD/+Q/fv32wqbjY2Njc2SZf5W1mbJMTERor29nXPnztHR0UFHRyeDg4NMTEwwOTnF5OQkk5OThEIhhoaGaG9v5+jRo7z55pv84he/4Ec/+hEvv/wy586dIxKJ5DqfRSQS4eLFi5w/f54rV65w5Uon7e2XOX78OP/wD7/m2LFjTExM5FrLixCCUCjElStXuHz5MpcvX6ajo4PJySl0Xc81DsD0dJhLly5x6tQp81k7uHy5g6NHj/LKK69y+PCReZ8hk6mpKa5e7eLixYumW5cJhUK5xmxsbGxsbJYUtsK2DEkmk8Tj8dRvl8vFhg0beOSRR3jyySd54oknTHmcBx98kC1btlBZWUkikaCrq4uDBw/y0ksv8frrr3PlypXUZP5chBBomkYsFkPTtKx7iUSC06fP8O6779LR0TGrG7noup5SziRJMhcTZC9oyCSZTBKNRonFYpAxxyyZTHL+/HneeecdTp06NSN8syGEEQaLzMUMNjY2C0OYC3huVjnSdZ1EIkE4HCYUChEKhZiamiISiZBIJGZ90SMjbJqmLarM9ayZft7MeLHIfL6b7ZfN7Uf59re//e3cizZLm56eHo4cOcKZM2eQJAm/389nPvMZPvOZz7B371527NjOPffcw44dO9iyZQvNzc0Eg0GSySRjY2NEo1GGh4eJx+NUVlbS3Nycdx6aEIKJiQkOHDhAe3s7iUQCt9uN2+0mkUiQSCSIx+PU1tayatWqOYdXMd3r7Ozk0KFDtLe3I8syNTU1PPnkE9TV1eUdEp2YmOCdd97h7Nmz6Ob8Oa/Xi67rxGIxIpEIHo+HzZs34/V65x3W7Orq4siRI5w/fx6AyspKHnvsMdauXTuvXRsbmzTRaJSxsTGGh4dTvewOh4okGf0A11uerBfF6elpRkZG6O7upqOjg87OTq5cuUJvby9jY2OEw2GSySQAiqKkVnwLIRBCZ3JykuHhYcbGxpiYmFg0mZoyRgRcLmfqWYUQRKNRRkZGGB0dZXx8nFAoRDgcRtM0HA5HQdNGCiWZTBIKhRgdHWV0dJSJiQkmJydJJpMoioKqKgteQW+z9LHnsC1Djhw5wne+8x1eeOEFJEmioqKCf/Wv/jXPPvs7VFZWomma2XkqUqsir169yrvvvsMPf/g3XLp0CU3TqKio4LnnnuOf/bN/xrp163K9Qdd1rl69yr/4F/+C1157jXA4zIoV9ZSXl9PWdpnp6Wm8Xi/PPPMM3/rWt3jwwX2pCiwfuq7z1ltv8ed//uf89re/RVVVtm/fzn/8j3/Orl27cLncuVa4cuUKf/RHf8QLL7yApmlUVlaycmUDHR2djI6OIssy999/P3/0R3/Egw8+mFrtORsffPAB//k//2deeuklADZu3Mif/umf8ulPf/q6Gxgbm7uRixcv8uGHH9LR0ZGaj3r//buprKxK9fRcT5mKxWJ0d3dz/vx5Ll68yLVr1xgZGWF6eppkMonT6SQQCFBRUUFdXR1r1qxh7dq11NTU4PF4AAiHwxw6dIjjx48zPj6+aMqSEAKfz8fGjRt5+OGHCQQCYCqvbW1tvPvuuwwPD5t1MPj9fpqbm7nnnntYsWJF3pfShaLrOt3d3Rw9epS2tjamp6cBUBSZxsYm9ux5gMbGwuYV2ywvlk0P292sV+ZWepk9bJiVwiOPPMzWrVsJBIpQVQVVVXE4HLhcLnw+H+XlZRQVFdHb28elS5eIx+PE43GCwSDr16+nqalphj9WD9vrr7+e6mFrbGxkx457kCSJ/v5+YrEYiUSCsrIyVq9ejd/vz3IjE6uH7cMPP6S9vR1Jmr+HbXx8nLfffpvTp08DUF1dzf79+4nF4kxMTBCJRLKeIxAIzHiOTLq6ujh8+HBWD9ujjz5q97DZ2CwAIQSHDx/mxRdf5MCBA6nytG7deqqqqlJlaaFlKhwOc+LECV599VVeeeUV3nvvPY4dO8b58+dpb28359Feob39MpcuXaKtrY0rV64QCoXw+/2Ul5ejKAqhUIhf/OIX/OIXv+Dw4cOcPXuW06dPz5AzZ85w9uxZzpw5k5JcM5ly8uRJ2traANi9e3eqvhsdHeXdd9/lb/7mbzhy5EjK7fPnz9PT04MsyzQ2NuJ2u1O9gGTET277lns983coFOK1117jpZde4q233qK1tdV8htMMDPRTX7+ChoaGeV9ebZYftgq+DMgtzJlYwwA5V7OuybKMx+Nl1apVbN68OTV0mUwmGRkZYXh4eE4/MnE6naxZs4ann36akpISALq6rnL48CFaW1uJx+OzumUMVYhUV/2MYM+DEAJZlmlpWc19991HVVUVAGNjY3zwwQecPHky9bY5G7nxNTPubGxs5kMIwdDQEG1tbXR2dtLe3k5nZyfT09Ozlv/5iEQinDx5kp/+9Kf87Gc/4+233+bcuXOMjY3hcDgoLS2lqqqKkpISJElmZGSEs2fP8uabb/LSSy/x0UcfMWEOzVr7PY6MDDM8PMTQ0BDDw8MpGRkZYWhoiN7eXq5cuUJnZyednZ1cvXqVvr6+LLP5ZHx8PNWLBjA5OUlnZ2dqIVhnZycdHR2cP3+eQ4cO8dvf/pbLly9nzT1eCFacWqMeb7xxgIMHD3LhwoVU/F++3M6ZM2fp6ekxdw+wudOwFbY7gEIrSJfLTVVVVdZ8tUQikZrQPxeWH5qmUVZWxlNPPcWaNWtwOp2EwxHOnDnLe++9R09Pz5wTgQ0FqbDwZmK9lWqaRjAY5P7772f9+vW4XC5isRiXLl3i3Xffpbe3N6sinQ1bUbOxuX6EMKZbWAqI9b2QspcPa5jvN7/5Da+99hqnT59mYmKCsrIy7rvvPj7zmc/w/PPP88UvfpHnn3+eT3/60+zZs4dVq1ahaVrGivNJMBdirV27lj179vDgg/t58MEH2bdvHw8++GBK9u3bx4YNG/D7/anJ+263mzVr1rJ3717279+fV/bu3cumTZtwu9NTOBKJRGoxhKZpSJKEqqrous7g4CAnT57kxIkTKYVyoVj1VTgc5uTJk5w8eZLBwQHzZdwYBtZ1nXA4bIbBmNtnc2dhK2zLhHTv1OJiDZsWiqYlcThU1q9fz549e6isrARzmPbgwYMcO3Ys7zYbixV2XdeRZZktW7awe/du6uvrwexle++99zhx4gRjY2O51mxsbBaBzHKc2Vsty/KM3uuFMDU1xenTp3nttVfp7OwkHo9TX1/Po48+yte+9jW+/vWv89WvfpWvfOUrfO1rX+Mb3/gGX//6N/jiF7/IQw89RFNTU9aiJ5/Px549e/jKV77Ct771Tf7gD/5ghnzjG9/giSeeoLq6OmWvtLSUhx9+iK9//et885sz7X3rW9/i93//93n88cez/LPqZ+v5fT4fdXV1VFZWpnojjxw5Ql9fH8lkctZ4suIwX32vaRoDAwMcPnyYvr5+ZFlJLfiylDZr3toiVbc2SwxbYVsG5Cu8hZBrLxKJMDw8nOpRUxSFYDBoDjHkr0Bysdz0er089NBDrFu3Dq/XSzQa5eLFi7z11lv09fVd95t2Iei6TlVVFXv27GHr1q1gvuFeunSJt99+m87Ozpvqv42NzeIyPDzM8ePHuHTpEolEAp/Px7333stzzz3Hpz71Ke699142bNjA6tWrWb9+Pbt27eLJJ5/kS1/6Et/85jf58pe/zL333ktRURGYL6LNzc3s2/cgjz/+BI8//jiPP/44jz32GI899hiPP/44jz76KNu2baO4uDhVT/r9fjZv3sSjjz6aZT7T3kMPPcSGDRuy5ojlKqter5ctW7awYcMGVFUlHA7T2tqatUggH3PV8+GwsSfl8ePHCYVCFBcXs379+lRYCq3DbZYvtsK2DJAkS/IXyHzXcwt+LBbjypUrnDhxIlVhBAIBVq5cSUNDQ8ErioQAXTfc3rp1K3v27GHFinQv16FDh/j4449TQxMW+cJ4I6iqyubNm9m3bx9NTU1gziM5dOhDjh8/xsjISK4VGxubG2Sxy7HFyMgIly61EQ5HEEJQVlbGzp07uffee1NnDVsvi8I8waW4uJimpiYeeughPve5z2UpbJh1hMfjwe/3zxCv14vP58PpdGbVfbIs43K58Xq9eDwevF7vDPF4PHkXSGUiyzIbN27knnvuoaTE2FKpq6srNZTJHHFp1d3Wfevv6OgoR48e5cqVK8TjcRoaGti2bRurVq2acxqKzZ1DYa20zW1GmnW7jOxetJkVQCKRYHh4mGPHjvGb3/yGw4cPEw6HAVizZg07d+6krq4u19qcWN5VVJSzb98+Nm/eQiAQIB6Pc+XKFd544w26u7tnKI2LiRCCkpIS9u3bx+OPP47H40HTNDo7r/DBBwc5f/683ctmY7NMmJycZHBwMFVmi4uLqampobS0FPK8gGIqMoqiEAgEqK2tpby8HIfDkWtsTnJ7xjKv3wi6rlNdXc2mTZtYtWoVmMO+J06coLPzColEItfKnMTjca5evZpaWKEoCuvXr2fjxo0UFRXljR+bO4/8WoDNkmKuykOSJOLxOJ2dnRw7doyjRz/mo48+4qOPjnD48GHefvttfvnLX/LCCy/wq1/9is7OThRFYd26dTz22GPcd999WW+lhWFUDg6Hk40bN3L//btZtaoRzIr3o48+Sh0Wf/MwwrB27Voef/xxWlpaUFWVqakpjh07xpEjRxgaGsq1ZGNjswTRdT1rBaWmaSSTyYJ7jhRFSc2jWyhz2bEUutlkNoQQeDwempub2bhxE06nk2QymTrmb655tpa7ImNO3NjYGGfPnuX8+fPE43HKy8vZvHkzjY2Nqd5HmzsfW2G7A4hGo6k9kb7//R/wN3/zQ/7mb/6GH/7wB/zwhz/kRz/6Ea+88grt7e0UFRVxzz338Mwzz/Dkk0/S0tKCoii5ThZMRUU5u3bdx86d91BcXIymaVy9epW33nqLCxcupN6YF7tCsZzz+/2podni4mKA1GkKp06dWvCbrI2Nza3H6XTi9/uzFJSOjg56e3shR3G6meQOR14vljs1NTVs376diooKJEmir6+P06dPc/Xq1VwrMIe/3d3dnDhxnP7+fiRJoqWlhQ0bNlBeXl6wUmuz/LEVtmXAfMpOLBbj5MmTvPrqq7z88su8/PIvzU0jX+bVV1/l0KFDdHV14fV6uP/++/nd3/1dnn32WbZt25baqbtQcitNRVFZt24de/bsYfXq1SiKwvT0NAcPHuSjjz5icHAwy/5ikVmvVVdX8/DDD6eO2IpGo5w+fZr333+f/v7+eePPxsamMG5WWSouLmbFihWpifyjo6OpnvLh4aGs6Q2zKTXXw2xu3ehzCnPbk2AwyKZNm1i9enVq8cG5c+e4cOF8wavpw+EwFy9e4OTJk6mj+LZv305LSzMej8dW2O4ilo3ClvmGlas03A5yw3K9shhYhVyY89k0TSMWi6cOS47FYkiSRHl5Obt27eKxxx5j06ZNqbkP+SqJucgNdllZGffccw979+4lGAwiSRJdXV18+OGHnD59mkQisWjPmg+rAtuzZw9lZWWQsc3I8ePHC9pnzsbG5vZRXl7Opk2bKC0tRZZlYrEYra2tvPzyy7z55pt0dXUxNTWFpmkLrq9mY7Z6eLHc13Udt9vNqlWr2L59e2rrjStXrnDmzBkGBvpzraTIDFdPTw+trSe5fLkdSZKora3l3nvvpa6u/oZGR2yWH8tGYbOZHbfbzX333cfzzz+f2qvoueeeY//+/TQ0NOByudA0jbGxcdra2hgcHEwdmrwYSJJEY2Mj+/fvZ8OGDTgcDjRNo7W1lYMHD6aGNW4WiqJQU1PDY489xrp16/B4PESjUS5cuMCBAwcYGBiw30JtbJYwZWVl3HvvvezcuTO1v9nQ0BDvvfcef/3X3+dHP/oR7733Ht3d3VkvYIulXN0MhHkyS3l5OTt27KC8vBxZlhkaGuL06dPmwqjkrM9gvUyfO3eOEydOMDo6isfjYdOmjWzevCm1Hcls9m3uPGyF7Q7A4/FkKWxf/erv8fWvf51/9I/+Ec8//zybN2/C5XLS3z/Au+++y69+9Sva2tqIx+N53zCvh6KiIjZv3sTDDz9EeXk5mPMuDh06xLFjx256L5fH42Hr1q08+OCDqc10R0ZGOHToEIcOHU5tM7IIj2pjY7PIGCcMrOGZZ55hx44dFBUFzI1iBzly5Agvvvgif/3Xf82PfvQjDhw4wKVLl5iamsp1ZskhzMPi161bl3qZTCaTXL58mWPHjjExEUJkLC7IRJIkxsbGaG1t5dKlS2Bu7Ltr132plf1C2C+idxO2wrYMyFeYM1FVhaqqSpqbW1i3bi3r1q1j69at7N+/n+eee46nn36aNWvWoGlJenp6eOONN/jwww8XdX6ZJElUV1fz4IP72bhxI16vl3g8zoULF3j//ffp7u5G1/VFUxBzkWWZiooKHnzwQbZs2YLf70+tnn3ttVfo6uqCAuLSxsZmdm5m+SkpKUnVWXv37qW2tgZZlpiYmEgdPffTn/6UH/zgB7zwwgu88cYbtLW1pbYpWqooikJ9fT27du1Kvcz29fXT2nqSq1evztlDdvnyZU6fPk1/fz8ul4uVK1dyzz33UFRkLLCyubuwFbY7AEmSUBQVp9OBLCs4nS7cbjdlZWVs2bKFJ554kj179lJWVkYikeDy5cu89957tLW1LerQqNfrZcOGDezfvz91MHt/f39qm49IJJK1AfAc9dR14XRa24zcT2Ojsc1IKBTi4MEPOXHiOOPjYze1wbGxsbl+VFVl5cqVPPnkkzz//Bf4xCc+ybZt2ygrK0MIwfDwMGfOnOGtt97ipZde4sc//jG/+MUvOHLkCAMDA0tu30XJPGIKIBgsZufOnaxYsSK1/VBbWxunTp2a9UD4cDjMiRPG6QjxeJxgMMjmzZtpaWnJOmXB5u7BVtjuEDLnMmR+t5SYBx98kPXr16MoCtFolNbWVk6ePMno6GiOS9ePJMmUlZXx0EMPsXHjRnw+X0pBfPvtt+nr60v1shnmc124ccrLy9m9ezc7d+5MbTNy7do13n//Azo6OkkkkgWf6mBjY3PrkMwD0xsbG3n88cf50pe+xBe+8AUeffRRNm3aREVFBYqiMD4+zvnz53nzzTf5yU9+wo9//GPeffddenp60PWlpbRZOJ1O1q5dy9q1awkGgwD09fVx9OhRxsbGsupFzAULvb29HDt2lJ6eHjC3CNm5cycVFRV2HXaXYqf6HYRV3nOHHY35ZZu577778Hq9YM4va21tpbOzM2VuMbAUxIceeijVyzU6OsqRI0c4deoUU1Ozn6O3GMiyzIYNG9izZw8tLS3Iskw8HufIkSOpibt2L5uNzdLFWkS0e/dunn32Wb7+9a/z5S9/mccff5yNGzemJu+Pjo5y5swZfvOb35hK2zsMDBjHPi01ZFmhqqqKrVu3UlNTA8DExESqDrZ62ay6KRaLcfbsWc6cOc3Y2Cher5eWlha2b9+O2+3Octvm7sFW2JYBc81xyGZ2RaS2tpadO3dSU1ODLMup/YDOnDmTdz+g2ShE1wkEAjzyyCPs3LmToqKi1Dl677zzDt3d3WhaEkla/CFRi5KSYNY2I5hL6Q8dOsSlS5eW3NCJjc1yofC66MaQJAmv18vKlSvZs2cPzz77LH/wB3/At771TT75yU+wevVqvF4vyWSSgYEB3nvvPX7xi5c5evQour54W3/cCLkrOD0eN9u3b2fNmtW43e7UUX6tra1ZZy8LIRgZGeHIkSN0dXWh64Lq6mq2bNnCypUr7d61uxg75a8TqzDOJYvJbG4W2lsUCARYvXo1mzdvxuVyAdDV1cWpU6fo7TW63AshTxBmIMsya9euZe/evaxZswbMc/QOHz7MyZMnmZgIoShKQcpfLoXFr7HNyIMPPsiGDRtQFENBPXHiRGoIwq70bGxunPR81PzlMbdOzJX5UBQFv9/PihUr2LVrF5/97DP8/u9/nS9+8Yvs2rULn8+HruuMjY3x0Ucf8f77H9Db25frzJJAURSam5vZsGEDVVWVAIyPj/Pxxx9nbT0Uj8fp6rrG0aNHGR01jrBqbm5m+/bt13GMoM2dhN1q3UQKqZBulEL9sIYZ7r333lShHx0d5fz585w9e27O/YBmMr85r9fLzp07eeCB+yktLSWZTNLZ2cnx48bxKkIUrmzmY76wFhcXs2XLFh56aD9FRcXouk5HRwcnT56kq6vrhvy2sbGZSaFKWCaFmJckCYfDgd/vT20a+8wzz/Dss8+yadOm1Atof38/p0+f5uLFiwW5e+sxNi/fuHFT6uzlaDTKqVOnuHz5cmq168TEOCdPnqCtrY1IJJLaVHjdunWoqmrXXXcxtsJ2E7kVBWshFVMwaAwV1tfXo6oqiUSCjo4Ojh07xvj4xALcKuy5mpqa2LNnL1u2bEZRFEKhEB0dHQwPD9/QRrZGw5B7dSa1tbXs3/8Qmzdvxu12MzExQXd3N/39/Tfkv43N3cqtqNPmQpIk/H4/a9eu5eGHH+aRRx5JndOpaRrd3d1LatpDbnw5HA7WrVvH+vXr8fv9aJpGV1cXra2tDA0NAYKenh6OHPmI4eFhMOvRrVu3Ultbm+WWzd2HrbDdMcyvwbjdblpaWti0aVPqDNHBwcHUxNfFruQCgQBbt25l7959lJeXI4QgFAoRDodTymHhSmKaQu14vV42bdrEk08+mZroOz09zfT0tK2w2dgsAXIVmkJxOBw0NDTwwAMPUFtbm9rmIhQKMTAwsKjbFV0vsz3bihUr2Lx5E3V1dak68dixY1y9epWRkVEuXrxEa2sr0WgUh8PBxo0bU3tb2tzd2ArbTaRQxeJGsXqc5vNPkiQqKirYtWtXap+0yclJLl++zIkTJwrcgLKw3i2L+vp69uzZw5YtW1IHFWcqS+lKLX/lljvMkvt7PkpLS3nqqafYsmVLSkm1lTUbm+tjIWXvZuN0OqmurqKoqCh1pqamaSSTySVRxmerq0pKgqxfvz61zVIymeTcuXOcO3eO8+fPc+rUKa5evYqu61RXV7Nt2zZWrVqV64zNXYitsC1DZqsILOa673K52L59O01NTanDiAcGBswJrqNZ9ixlKrPyE6KwlaIWPp+PjRs38sQTT1BXV5e14aNk7rs017wM61nyhasQnE4na9as4eGHH6axsXHGYgPL79niy8bG5uaRWb5zy/l8CKETiUSIx2OpI5qcTic+nw9VXbqHokuSnDoQvqSkBMyRjqNHj/L2229z4sQJJicnU1sUbdiwIWXO5u7GVthuIgtRLBaC2+2mpKSEYDBIMFhMeXk5gYAfVVVzjc5AURQaGxvZuXMnTU1NeL1eHA4HIyMjhMPhGW+mDocj5Zflr9drHM5cKJWVlTz88MM8+eSTrF692nTDS3l5Oc3NzQSDJak35FycTielpaWUlZURCAQoLS3F7/fPaj4fXq+X/fv38+STT7Jp0yaCwSCBQICSkhJaWlooKSm5aWllY3MnMVc5kcz9H+cyk4skScRiMQYGBujq6iIajeYaySJToQuHI1y6dImBgUHi8QSYx1vV1dWiKPPXhTebueKioqKSzZs3p7bpiEQiHD16lN/+9recO3cOTdPw+Xzs3LmTVatWLqi+s7lzsRW2m8hC3hbnI7Pwl5eXc//99/P5z3+ez33uWT7zmc+yevWa1IaKc1UUkiSlzuz7/Oc/z3PPPcdnP/vZ1BL5XLN+v599+/bxO7/zO3zhC1/gySefpKmpKcvcfLhcLlpaWnjmmWf43d/9XZ577jmeffZZnn32WZ588snURpj58Pv9PPDAAyk7n/zkJ2lqakqtDCsESZJoaWnh6aef5stf/jLPP/88n//853n++ef55Cc/mTos3sbGZm7mqtNkWc4qx5kK3GwCMDIywsGDB/nJT37CO++8Q2dn56zTMyw7U1NTnD17lg8++IDh4WE0TcPlcrFq1SrWrVu3JBScueLK5/PR0tLCli1bcDqdaJrGlStXOHfuHP39/SiKwsqVK9m2bRuVlcYWINfbE2lz56B8+9vf/nbuRZvFYTalaaHkuuNwOAgGgzQ1NbFlyxa2bt1KU1MTfr9/VsUnE0VRKCoqoq6ujvXr17Nt2zY2bNhAXV0dLpcryz9FUbL8sjZvXOgEWKfTSVlZGfX19axdu5YtW7awY8cONm3aRHl5+ay9g5n+b968mS1bttDY2IjP55sRL3PhdDrNt+86Vq9ezZYtW9i+fTubN2+mqqoSp9PBbPPobGxs0kjmFILW1lYOHjzIyMgIkiRRWVlJS0sLkiQxODiYJQMDAwwMDGRdi8fj+Hw+rl27xiuvvMKvf/1rent7GR8fZ3p6mkgkQiwWI5FIkEjEicVihEIhenp6OH78OK+//jpvvvlmatV3U1MTn/zkJ3jsscdnvHzmQ9d12traOHjwINeuXQNzNGDv3r1s3LhxQUrf8PAwx44d4+jRoySTSXw+H/v372fbtm15z/2UJAlZlhkbG+PYsWNMT08Tj8eJRqOp3rWHHtrP009/mvr6+rz1uiRJhEITtLae5MMPPyQej6decLds2YLf78+1YrPMsRW2m8hCFIq5yHVHVVWKi4upqamhrq6OmpoafD5fwRWMJEl4PB7Ky8upr6+nrq6OyspK3G73DL8sham6upr6+nqqqqoWrCxh+mkdSF9TU8OKFSuoq6sjGAyiKMqs7lnKZXV1NXV1dVRXV+Pz+fJWYPPhcrkoLS2ltraWuro66urqKC0txeFwmvPy8ofBxsbGwCqnQghOnDjBwYMHU+cRK4pCLBajs7OTU6dOZcnJkyezvp8+fZrp6WlqamqYnJzk/fff56233qKrq4tr165x7do1uru76e3tpa+vj+7ubjo7Ozl37hyHDh3ijTfe4P3336ejowNN06ioqOCRRx7h6ac/zYYNG2atTzKxFLYPPvjghhW2oaGhBSlsmPW4pmkcP36cwcFBEgljWFeSJGpra3nuuc+ze/fu1GKpXHIVtlgshs/nSy3yshW2O4+Ft3pLCClPF/t8cicgSRKKouByuXC73TgcjgUrMJI54d/pdOJ0OnE4HLPGjyzLOJ1OXC7XnAsECiHTLSvc87knyzIOhwOXy4XT6Vzws2aSzy3D/7nDYGNjk0Yye4gUJV0W+/v7OXDgAC+88MIMefHFF3nxxRdTv3/605/y5ptv0tfXR1FREU1NTVRXVzM5OcnZs2d54403+OlPf8r3v/99/uIv/oLvfe97fO973+Mv//Iv+dGPfsTrr79Oe3s7QhjHNj300EN8+tOfZsuWLfPWJ3Nxve1EbhuT+zcfLpeLxsZGtm7dmqWUeTwempqa2L59x6zKWiaZfqTDkWXE5g7h+ls+GxsbG5u7EkmSCAT8qR5qa/5sKBRieHh4ThkZGWFkZISxsTEikQgVFRXs37+f559/nnvuuYeKigoSiQR9fX2cO3eOjz76iA8++ICDBw/y8ccf09HRQSQSobi4mE2bNvHMM8/we7/3e+zZs4fS0tLcoM6KJEmpVaUejwen04nX68XpdM6paOVDURTcbjcejweXy1WwO8FgkN27d9PQ0IDH48HhcFBTU8OuXbtoamqctXfOctd6cfd6vbjdbnw+Ly6XE1kuvHfQZvlgD4neZOYrsIWyWO7Y2NjY3CiSJJFIGJvTBgJ+mpubaWlpKUiam5tpbm7mvvvuY+fOnVRXVxMMBqmrq2PFihWsWLGC8vJygsEgRUVF+Hw+AoEAgUCA8vJyVq5cyebNm9m3bx9PPfUUTzzxBNu2baOsrGxBve+SJBGPx0kkEni9Xpqbm7n//vvZvXs3tbW1C3JL05JEo1GE0GloaGDHjh3s3buXlStXzjo/lwyFSwiRmqt7//3389RTT7F6dQsOh8M0mb8HT9OMrU2SySR1dXVs27aNvXv30dTUNKuyZ7N8kcRdttzkVj5uIUpWIeEpxB0bGxubW8n4+DhXr16hu7ubZNI4JcWqq4QQWfVW5m/re11dLS0tqykuLkYIQSwWY2JigqGhIXp6ehgYGGB8fJxwOJw6ucDlclFcXExlZSW1tbXU1NRQWlqK1+u9rnpyfHycK1eucO3aNYQQ1NTU0NTURFlZWa7ROYlGo/T29tLW1kY0GqWkpITm5maqq6vnnAsnhCAcDtPe3k5PTw/JZIKKigpaWlZTWlqCJGWvurXsWL/j8Th9fX20tbUxPT1NMFhMS8vqef21WZ7YCttNpJAKpJDwFOKOjY2Nza1ECJ14PEEsFkXX56/HcnG5nLhc7hk9WclkkkgkQjgcNjfGjaf2h3Q4HLjdbrxeL16vd0Hb++RD13USiQSRSARMhdDlcs0I03wIIVLh1nU9NTd4rt41Mur/RCJh9tAJnE4HLtfMBWCYbUFum5FMGr17mqbhcKi4XK7UPnT53LBZvtgK202kkMJSSHgKccfGxsbmTiSzjrzT6sLM3rJcCmkbmMduvns2y5eFvUbY2NgsmMyKV9f1JXPWoY3NckC6w1b5F0Khyhqm2VyxuTOxe9huMvNVMoWGZz53bJY2Qgii0SgTExNEIhG8Xi/FxcWp1XU2NjZ3H7P1hBXaLuSSb8g0122b5YutsN1k5isshYZnPndsljbj4+N0dHTQ3d2Ny+UiGo2ybt06Vq1aVfA8nMy8YucHG5vlg8hZhHEzyW1TbpW/FkIINE0jFoshSRJOlxPVnFM3m4Kaya2Mq+WGPSRqY3OTSSaTXLp0iRMnTqS2ELh06RIXL14kFArlGp+Vu3FoyMZmuZOrQN3p6JrG8PAIHxw8yIcffsjw0HDqXqExIeyh3bzYCpuNzU1mfHycCxcuMDAwQFNTE5WVlYyPjzM8PMz4+Djj4+P09fURi8XmrKRisRhjY2NMTEzk3rKxsbFZEkhITE9P8fHHH3OitZWJycJfSjOxX0xnYitsNjY3mbGxMQYGBpAkiVWrVpFMJtE0DZfLlTr8+cSJE4yNjaFpxn5W+ejv7+fjjz/m5MmTRCKROZU7Gxsbm9uBJIPQdQYGBghNThEKTTIVjhAzz0qdDatXzR5FmB1bYbOxuclompY6QzUSidLZ2YnP56OmpoaJiQmOHTtGe3s7oVBo1tWjiUSCU6dO8Ytf/ILf/OY3XLt2bVazNjY2Nrce4wVSCJ1EIkYsFkdVnVy5cpWTra10X+tGn+OF1GZ+bIXtJrJYbwmL5Y7N7SEYDNLQ0IDL5eL8+XOMjIywceNGVq5cSTKZJJlMsmLFCkpKSvJu2CmETm9vLwcPfsCbb77Bu+++y+HDh1ObfdrY2NhYZLYXt6PtiCfiDA0NMzg4xPj4BKdOn+H1Awc4evRjkskEkH/7EatnTQjdFHsEIZeZrYONjc2iUlJSwrZt29i2bRuBQIC1a9eyc+dO/H4/0WgUj8dDQ0MDXq83r8IWiUT56KOPOHLkCFevdtHe3s6bb75JR0cHiXmGGWxsbGxuDYZyGI1E6O3rZWpqiurqKkqCQcZGR7l27VrqCDPDrMRsOtls1+92ZrYONjY2i4rT6aS+vp4NGzbQ2NjI2rVrqa2txeFwoGlJEok4k5OTxOPxXKskk0muXu3i7bffpq3tMvF4nPHxcY4dO8Y777zDyMiI/SZqY2Nzm0nXQZOhEL29fZSXl7Nt61YqystxOB243S5UVUHXdXp6ehgaGk7Vebl1mNUxmK8n7m7GVthsbG4ykiTh8XgoKSmhrKyMkpISVFXF6XRSXV1NXV3drAc1T0xMcOTIYT7++GNGRkbAVOKuXbvGG2+8wblz5wiHw7nWbGxsbG4DgvHxCQb6B2hsbKRhZQPJZAJFlikpCRKLRenr6+Wtd97myEcf0dfXTzKZzBnGlbMOvbdJc9fFyq0c07ffDGwykSQpa8jT7XbT3NzCjh07qK+vx+3OPvA5Fotx5coV3n77bTo7O4lGo6l7U1NTnDhxgvfff5+enh47r9nY2KS4le1cundNIITOdDhKJBqjsbERj8fDRChEJBJBS2oMDQ3S3t7Ohx8e4uz58wyPjKSmdVi9aZOTk4yNjRGNRm/xcyx97jqFjYzJjbPJYmJlwtmkEAo1Z7O8UFWVyspKmptbqKurm6GwDQ8P8dFHH3PkyJEZG+zqus7g4CBvv/02ra2tjI+PZ923sbFZGtyMdqUQbq2f1gpRgdPpoKqqilWrVuF0OnF7PCBLhCZDjI2MMDDQTywWIxAowuv3m3PZjPZQ13UuXrzIsWPH6O7uttu+HJRvf/vb3869aLP0uLWFz+ZWIcsyiqKgKEpWGkejUVpbW/nJT17k+PHjxGKxLHuYSlsoFCIQCNDQ0EBtba2dT2xsbG4TxiICgYQ/EGBVYyMlJSUoikxxUREN9fVUVZbT1taOLsnc/8Ae1q5Zg9vlTI08jI2N8fLLL/Phhx+iqipr1qxBVVW7XjO5K3vYbGyWOn19vam5a7Nt3yGEYHx8nIPmETD9/f25RmxsbGxuAYZCJUkSZeVlbN68mYqKCpxOB2vWrGXfvgfZsWMHgUARY6NjICASDhOLRZBlw66maVy4cIGDBw/y1ltv8dFHH9Hb22v3smVgK2x5yB0izSe3klvtn83tZWpqiqNHj/HOO+/OW2Hpus7ly5d55513OHr06LzHW9nY2NgsLun2SZIkXE4XxcXFeNwuZFkmUOSnqrKS0pJSPB4fFRUVOFSFqakQ0UgESTKGREOhEB9++CHnz5/nypUrnDx5kuPHj+ddPX+3YitsNjZLjNHRUbq6upicnKS+vp5Vq1bR0NBAcXExiqKgqiolJSU0NzezevVq6urqiEaj9PQYex/Z2NjY3Fospc3o0FBk2RQJ1fyLJOH2etmydSubN2+itroat9sFQDwe5/Llyxw6dIj+fmOOW3t7OwcPHmRgYGDOI/vuJuw5bMsAu4ft7mJsbIzh4WFcLhfr1q1j48aNNDU1EYvFGB0dxeFQ2bhxA48//gRbt25lw4YNtLS00NjYyIoVK/B6vXaesbGxucVk1zkSIOeMSMmKQnFxMRUVFVRVVRIIBFBkmZGRYQ4cOMBvfvMb+vv7EUKketZWr15NfX09Tqczw/W7E0nY4yfXxa2MNrvxvbuYmBhncHCIqakpZFlGkiQmJyf5wQ9+wMsvv4wQgmee+Szf+tY/oqioKDVM7/P5KC0txePxgJ1vbGxslgGRSISTJ0/yn/7Tf+K1117LWhFfW1vLV77yFf7xP/7HrFq1Ku9JMHcTd/fTLxNupXJoc/sJBAI0Nq5i48aNbNiwgXXr1rFhw4bU1h8APp+fxsZGVq9ezerVq2lpaaa2tia1NYitrNnY2CwHRkdHOXbsGK2trTM2AR8bG+PDDz/k3LlzTE9PZ927G7EVtuvEahRvldjcPciygqo6cDqdOBwOHA4HLpcLr9eLw+FA13WSyWTWliCKoiJJ8l3/BmpjY7N0sPZXyyeYp7ZcuXKFDz74gN7eXnRdz2r34vE4bW1tqbltdzt27W5js8SRzBMSVFVFluUZlR4ZvbB2b6yNjc1SYK66yLo3MDDA0aMfc/ToUaamptB1PcuMpmkMDw/z3nvvcubM6bt+UZWtsNnYLBOst85cZc3GxsZmKZI7UpQpuq7T1dXFuXPnmJqapKioCK/XmxolcDgc+P1+fD4fvb19nD17joGBgVwv7ipshc3GZjmQMypuK202NjZLmbmm8kiSRCKRIBaLUVwcZNeu+3j44YfZunUrgUAASZKorKxk165dPPzww2zZsgWn05l1nvLdiK2w2dgsSUSO5Ny1lTUbG5tljCTBihUreOqpp/jWt77FN7/5TT75yU9SVVWFoig0Njby+c9/nm9961t84xvf4IEHHqC0tDTXmbuKO15hy5zvY4sty0dSOTglxhur8dYqZlHY5nqrtbGxsbmVzKzXDNF1HUVRqKur4957d7F//3727t3L5s2bKSoqQlUVKisruOeee9i7dy8PPvgg27ZtpaysLOXG3cgdprDl9koIJGODZVtsWUYikKTcfCwhyRKSlLvAwKq4Ms3b2NjYLGWMOs3pdODzeVNz1VwuV+rF1OFw4PF4CAT8BAJ+PB4PqqpkKX53G3eYwobZA2GLLctZ5BnXFNkQ46BkCaELQEKSjCJsTeQ1zNvY2NjcfnIXGswQjJfQdP1lYShj1nVZNrYsSpu5+5Q1WJYnHRgNVTrBrATU0XQNIXR0XUcIEOhkjC3Z2CwbhFVhmTk9mUzyV3/5fb77P75HX18fv/O5z/Enf/LHVFZWoKpKukJLKXuWO9av3MrQVuyWJgIxI8Vy0yttxsZmKTNbLhVCz1K5JElCS2ocOHCAb3/725w6dYrPfOYz/Jt/82/YsGG9uZ1RynbKjvFLmtWfO41lprAZQbX+19FIJhPEk3GisTDh8DTxeJREIklS09B1DaHrd2XXqc3yJp3TjapI1wU//9mvePHvfsLAwACPPfEof/iH/5zSshKcbhWn04nT5cLtdON1e3E6XaiKAxklQ2XLrdZyf9vcXiw1PR+5CreNzTImS1sz/miaxoEDr/Nv/+jbnD59OqWwbdywAUmWQWTWi8aQatqZmbXbncgyUtiMYOoIdJEkrsWYmp5kIjTG+OQYE6ExQpNjRKIRkokESV03FbZl8ng2NhlYudb6K6Pw3lsf8sar7zA6Mso9u7byhS8+h6/Yh8MlozpU3C43fl+AspIySotLKQ6U4HMHcKouJElBQp7Rd2MrbUsFS1lL11eZjVE2gsymysZmeWPk76SW5MAbB/j2H/1bTp86zWc++xn+zf/vj9iwcQOSZNVd5kIG01aqFFjDq9bvO5RlorCJ1CeejDE5PU7/cB/dPV0MjQwyFZ5EE3GErKM4FFRFQZbNYSJ7Xo/NMiOzQAqMrn9ZqLz9+gf89ldvMjI8zK4HtvHl3/sinqCbhBYnFo+RTCYRusDlcFHkLaaqrJr62hVUV9Ti9xahyg4kFLNas8qEXTaWAkYTZNRxudd0hPG/0M1fmtlopRsuG5vli7HaSksmeevNN/mTf/t/cfb0WZ7+9Kf4V//6X7Jhg6mwyel5usbLZ3qur/H7zlfaloHCZgRPF0mmoiH6hnpov3KZnv4uwpEwqkPBX+QjUOTH4/Pg8rhxqCqKohjdqBIg7uQktLkTSeVYc0KuLFR+/uKv+fH3/56+3l4ee2of/8e/+EOKK4qIazGisSixaIzwdJjQRIjpqTB6QqPIV0R9TQONK1qoq67H7fQho9oK2xIhteLXUtUkq/fMUNLieoRwbJLJ8ATT0UnCsWki8TDxRAxN03PUexub5US6DpIkYyHV0Y+O89fffYHOy13se/Befv+bX6RldSOyrOBye/B6/Pi8AfzeInzOIlScgIqEgoxs9j7fuXXaElbYMioyoTE6MULHtUu0dV5gaHQAh0ulpCxIeVk5xcFi3F4PqtOBojqMydeymWhL9fFsbOZBwtjmQ5ZlJF3lxz/4GX/13R9y7VoXn3z6Uf71v/1XlFeXoEkamp5E0zTisThTU9OEJkKMDA8zMTaBSEB5sIJ1LetpXLGGIn8JsqSmmvo7uYJbygis+kmgCx0h6UgS6CSJJiJMhEbo6b9K/1A3IxODTMcmietREnoMDQ1dWP0LNjbLkXTuNVa7S1w4e5nXfn6IoWtjbNzWwFOf3UdNXQW6EMiyitPpwectoqyogrrKldRWrKDIX4Zb9RrzdYVkKG55C0Xei8uKJa6wCZIiyej4IBcun+PylYuEwmMEgn5qa6opryinqLgYl8ud6k0T5uREo2dNGLL808nmbiKjREoyyJKlsP09f/Hfv0/X1at84ulH+bf/7t9QUVOGLmlGz4x5Pl8yqRGPxQhNTDA8NMxg3yBTE1MEvEHWrd5My6q1lBSXoUiOtD92Ibn1WPUToEtJNCnOdHySodE+rvVcoaevi8npcWLxMLqsoThlVKeMrICsKCBnD27b2CwvrNxrbE8kkDh94gI//9Eb9HYOs21XM7/zu49T21BJMpkkkUySTGgkkhqSruB1+ikvqaK2agX1NSspD9bgUQPIQs2Y82YpA5l+Ll+WqMJmKGuanmR8apSzl05y/tIZIvEpKqrLaWhsoLK8ArfbjaIak6l1Yc71MA/HTrtjY7PMyFTYzCFRBQcv/OBn/MX/+D5XOq/w1Kce5Y//zz+iorYUTdIAYRyabL2fCIGmaUQiEYaHhum62sVA3zABb5D1azaztnkDpUUVqYUItsJ2GxAChA6STkyLMDzZy5Xey1zpaaNv8BrTkSlKgkGCwWICxUX4/X48HjeqqqLKxpSPzI2Uwcwws5Fb1ecza3T7Gd/z3hfGdcsty0zm79x7ufezrknmyzUz/c0NbybzmUmFw3Q/l5S9lOfZ5D57rj+z3c/nr/VsuWGeERfzuDvjek7YM/2eLS4laWZ4Mu9bZmZjzvDMcT0XMxypeWeSgqbDh+99zH/7j9+n7XwXDz9+H//4n/8eTWsaSOpxEok44UiYyckQE+MTjI2PE4vG8bp81FQ20LRiHSur11LsK8OpuFJDpJZSaHqcE5DlxRJU2AQg0IXGVGSCi5fPcfT0EcLxSepW1NKyupnS0lIcDidkRL81m0PkVmA2NsuNnOwry4bC9uIPX+Iv/vv36ejs5BOfeoQ/+b++nVLYhNCNTSatYTKRrjwTiTjDIyO0X+6g60o3xYEytm/exYaWTXid/rtgqu7SQQjriDEAHV0kiSWmGBjt5nTbcdq6zjEVm8Bf5KGyspL62lpKgqW4PT6cThcORUVGRkkN+xiNsyhw7o61qGEus9ZShnwmrOYvjeW/cTe/rfyk3Uo/Q9rf7GuZttL9ipa/maTDkGtzNrL9WNgz5COfv7nPupgUmvYG6XjLtbEwdwonn2+ScSOVlpKkoCXhrTc+4P/+k//M+dOXeerpR/l//at/yrqNTUYPtJ4gqSWIx6NMh6cYGhtmoL+P/r4BwpMxSgLVrG/axtrmzVSW1OBSPObChLQ/ueFYbiyxkw7S1Ulci9I31MOZCyeZDE9Q11DL6rUtlFWU43A6DHPmviwpMZW1rGu22LLcJF+9Yr0QZ16XgLlOOBCGiw6Hg/LyCtasXUNNfRVj40NcajtDT38XGom8zZ7N4pPd8y8Q6ES1SboG2/jg2BscO3uImAjTtLqJnffuZseOe1m1qomysnJ8Pj9OhxPFWvmeSm7DzUIb2kKU87lMzLxu+V94GCzSptPPMNu1tFgmMv3Ndz9fWPOT7UehtmYnnwu5z7WYLCzM6XjLZWHuFM7MNLRuWPnYvJJRAQqMv4bCJSNJMrKi4nS68AeKqKysZnXzWnZsu5edO+9lVWMDk5FRDrW+w5GT79I/do24HjG7chYPYZZjS241S0phS1dngsnwJG2dl+gf7qWiupxVTSspKStBVmSsPZKF2bubFW25R1/cAVIIuXZsWd4C5nfSGTx9zygjVoWRqgQzC0JGzSgAVVUJBoO0rG4iWBagd7CbC5fPEZqeyOifNs3nOaz5TkUIQSKRIBaPo+v5nnvxnt3oLxLo6OgkiWhTdPZc4r0jB7jQeYrS6mK2bNvCxk1bqKtdSZGvBEdqDz0r3SWz3rM/9me5f4wNa4zhgIwX1ZQeJ6VGWCXTmKHCKSiSA5fqIVhURmNDM9u3b2frjk34S5ycOHeED4++Q89QF3ERBWsbnAXWZ2nzRv2YSCYYHR2l88oV2trauHbtGqFQCF23lEKrvsiUxWXJKGzWowkgIRIMjQ3Rea0dh9dJw6oVlJaVoqrqrJEgZSaqADljBdV1SYZbBUmufcwwzCd57GVK6tlmkwy3CvIv02yuW8tZ8jxjPknFUa79Wyl5wpUrM08TtRQ2jG0fdEOMZ0m/wVrkqzIcTgcVFZU0rGoAWXC1u5PegW40kUyXv1kqs9muL3ci0SiXL7fT2nqSaCxmXhUpJfZmKG06GgkidPRe4ODRd2m/1kZD80q2bN1KU2MzJcWlOB0uY7GJuW+ekb7p3CAkW2xZ5pKxgU36k11awBpZMExn1p8KMoqs4Ha5KS0tp6VlNVu3b6W6voKTFz7mw+Nv0j3UgU4SJOPEo4UqbZgnKsRiMc6fP8+vfvUr3njjDQ4ceIO/+7u/48iRI4TD4Szz2fVFof4UxpJQ2FKNhfl3MjxJT38PIxOjVNZWUFFVgcvlmpGcuUjmA6Uau+ttmM0GcyEywy/zd665XJlhL1es9J9Fcs3nuj+bZIZx2csC0muG3VstBYbVMp+Jcc/oVrYqnVwzzMwiZqkx/ne5XNTW1hEsLSY0PU5Xz1UisUhWJZbb25fZs3enEYvF6O7ppr29g2QimRVjIGbMob5eBCAkgS5pJElwbaiT42cPc6WvjZqGajZt3kR9XQMBXxEOWUVOhSI3B81MW1tsWY5iVmWGZFV4wsz5xt3MIigZt0ysVdYSqqwS8BezqmEVW7ZsIljh43xHK63njjAY6kUjmerRy6cazo6Epie5ePEC77/3HpcvX8bj9eLz+RgfH2d8fBxNSwK5L7WFur8w5NwLtxNhTMNldHyE3v4eJAVqaqvx+DzGvmoFa8UGEjct3uZmoX4u1HwO+Rr3Qrht8XObWY7PLWEqUgCpbvrCERj2JCSKi4uprK5Eccr0DvQwOTWJpmvXn5GWMbIs4fF4KSoqQlbk7DfwRY0Lo5HQ0JiIjnHqwnEud10kUOpj246t1NTU4HFak6RzPb4LE8bmrsCa/pE/f1t9y+m7s+2BL8yXWY/LS8OKBrbv2IrDLXG+/TTnLrcynZwwtj9aIJIkMTIyypGPjnDx4kXqV6xg16772L37Pu677z4aGlamFkDOZPEbmSWlsIFAEwlGRocYHhmiuNhPaVkpDlVFmqU34Y7gNj3Y4men28Ad8RAFIEnG5pJWl891PrcQAqfDQWVFOcXFAcYnRpkIjaPrRmV2syYeLz2MCHS73axe3cy27ZtxuozFTAJhNAzXGcezIdBIiAhXui9z7vJZUHQ2bd5Aw4oGnIrT9NASG5s7HSmnD2ZhdY8g04ql9Mm4nR5Wt6xl/fr1RJNTnLx0jGuDHSRJgDnEuZARg/bL7Zw/fwGny8n9999PU1MTzS0t7H/oIdavX4fL5TJNzqZ4Lh5LQmGzHlFCkEjEmJgYJxKZojhYhNfrQZZu8KjjzHqwELnbyH3+5SR3Kzfw7JIEgaIAgSI/8ViUqalJdKHd5KpmKWIor+XlpVRXVaIoxmxnc6aMkcUyWpTcOTBZvXEFoIskocgoreeOMh2dYFVjA81NzbgUp9lrmpu5C3O3EKymJFNsbJYCC+mKsUwK80d2KTF65CRkPA4v69duoLq2isHRHs5cPEEkNo1ujama00rmwlLq2touMxmaomHFSpoaG1EUCUVRKC0pIeD3A8bCJWPWqzXT7uawJBQ2UgkhkdSSRGNhEsm4sTGuopgmCh91ziS3kipUcqvN+SQrjTK/L2Fyn3k5S256zCdIubGx9DEWHKRfXuarcPJjxIDL5cTj9oDQicUiCN0oX9dXypYjRgaQJAlZVpBlCS2ZYHp6Gl0XeXKYgRDGMVK60EkkEkxOThKLxTJWiuVHAuJ6nCt97bR3XaCsLMia5tUU+4qM+6kuvVTq5vxdBDKdv4vILfuzic3tJX+Jy0ZgzAXNmcyWg6G0lZSW09zcjM/v4XL7JfqH+kjqidTuErP7kkbXBX19/SiKSm1tLX6fN+vYeV3ojIyO0tHZwcTEBLo5p+5m5aklo7BhPqYQGkktgRC6cYi7nLkT9m0gNxfNlqNupPTfiF2b+clNt9y0Wwi5aTWfLBJGN76xs72EtefgwrxIBUsIVEXB5XQiSRLRaARdmBPuMxY0LLQHaflhZAYJCE9Pc/78ed5++236+vpIapqpIaczi2T+1jSN0ZFhWltP8Mabb3L1ahfxeCLL5Vx0dCLRSc5fOkVCRKivr6G6ogoVFVnkLuyw4nu2eJ+ZmSXSC5RkYZxfoSChIqEio5jXJIzNlbFWJN9wgViaZMeHMb/JiA8ZBQXF/C0jGfGfio+5Y2NmzM9Nrvm5ZD5yzeeT+cg1f7NlXrIMGQkmhI4uQAgt4wUys3yYrgsJSVjz3Kxrxn2BhCo5qK2tp662jsnpEJevXCSSmAJzWLQQNE1jenoaRZYpLipClhVi0Qi9PT1MT00xPjrG0Y8/5hcvv8yxY8cYG7OmlxTm/kJZYgqb+Qar6yCEcV7eTXrw+UhluNnqTJPcDJophZBrpxA/r5dUg32DMh+55vPJQsi1m09y4/CmxKfpTq77c0k+v3PDXqhYCkT2PlwLdFOALgSSrKCqKpK5ZN3oIUr5NIM7V2kDXdcYGBzg3ffe45233+ZSWxvTk1MI3dwKANAR5hacxn5MI2NjtLW1cejwYXp6+0gk51HYRIKJ0BidVy5TEiyitqYan9dn5pKUKpXxMfPPDNJr59JDL9YxPwIFUJFw6hKuJLji4EoInElw6BIOZGTzODLLXsqNO4Z0Ppat+BASLl3GmQRXUsKVkIy/uowDGRWr79qwly82UtdmLyZZZJpPKYR5pBC3UsxmvwA3Cg3PYkjBpFYRmCMHkjC24JBByHraMXMZqYRsKGmZipow71tLTUX6WYuLgtTW1ONxu7nceZ6JqWE0ETdL0NwI81QSj8dDMqkxNDRMT3c3R48e44MPDjI8PMzo2CiXLl7k/LmzjI2NGS+/un7TBkaXlMKWS6Fa8E0nXwbMyBR3G/miY6EU6kah5m4VN5zmN+CAJEnGammzMrGUqIXEkaHkSWDuHA6SMf8iNaSXP4BLpizeBHRdZ2x0jAvnz6NpAl3TiUQiDA4O0tbWxoULF7lw8RIXL16kp7eXcDiMoiioTifDIyNMTk8ZPXJ5sAaaY4kowyMDTIyNUlNdSUmwFAUVkdrPIHOgZTby3TMbKGH0FKkaiHCM2EiI6b5RJnuGmOwZZqpvhOjIJFo4jqIJVGGctAiZGSif+8sTK0YdyCgJHTEZITo4zlTPCFPdw0x1jzDdO0p8ZBIiCVQds8dtHhZS2ExudqwuyP0ClbsbpgA/rPpLMvMwCALFftZsbGHbPS00Nq/A7XFnWLDKh7HBURqrDOUicMouysoqKKsop2fgKsPj/cSTkYKGJ4zpEhItLaspKy9nYGCQ1taTtLa20t3TSzyRZGpyiumpKQJ+P3V1NTidDoSwtvbPF6YbY978eVuZJ0JvKZlhuYXhMjpVcvfEyjW1AKy8fSNSCLl2Fmo/k1z7ubLcyA3/HGIMw6W/W791YeyYLxbontUzY7gjIwBNN84iTYWNmXnuTkbXBbFoDF3T2X3//TQ3tyArMteudXHixHGOHTvGsaPHOXbsOJcvdxCJxCgtK6NhZQMut9tQgi3lObcnUoBAEIlOMzDYhyxBZUUFXo8no1IvNH7zVzwSkrEhdFwnMT7NZM8wY539DLf3MdTez1B7H0PtfYxe6Weqe4TkaBg1puMUxlBpdo9eoWFZeljPIGMMCzuEhBTViI9MEeoaYqSjl+H2Pobbexnu6GW4vZexzn7CvaPoEzHUJCi6bG6undvjme7ByY6xucWYmzi3FOrWXGZnu55fTH3lJgp5ruUTy7BAR5KgfkUtn/7sJ/jqN77IQ4/uJVgSSI8kSKn/Uimefu5cjLIiI1HkL6KiopxwfJLhiT6iiekZR1ZZL8C6rhOLxZiamiISiaDrgh07tnPfrl0Eg0EmQhO4PR7WrFlDMFhibJorQXNzM6tbVuP3+43V/PmL6g2ztBW2JUBWNjcz4mxZ5GZhTaWxxOYuIiO9JTmtPAkhrqtSSCn8mYq/SP13V6IlksQiUdxOF6tbVlMSLMHjchPw+SkrLaO8vJzy8nLKysrx+/04nS6cDhdOpwtFkVKLEGYgzPhGEImGGRkZwef3EywuweFwmoOsZqVSMJbZtD1ZSEhxQWxkisGL3Uy0DyJGEvgTHoJyMUVSEX7dizSaINQ+wOilbqL9YzhjAtUaHk0NKXGLa7dFxKqfhYwqZBwxQbhnhOG2bkJdwyiTggAeiiQfxYofn+5CH4kxcXmAsct9JMcjyAlhKLGW0pYpuYrRfMqYsAbGCpD53CrETCH35zOzmGL5N4tIWA2aAHQkWVBeWcID++7liU8+wtZ7NuEv8iIkzRwanUNmjMmmxe1yUVpajMMlMzYxTDwRNevA7OwjSRLJZJJr165x8OBBzpw5w9jYGFVVVey+fzcP7n+QXbt28fDDD3Pf7t2UlpYSiURIxOIE/H48Ho8xzUS21Ko8ntwgtsK2VMmTJ7Py56JnBZubRm76XS+WXWH0Cun6wpW2tJKWvZggPTxx96HpGpqmEU8kOH/+PN09PUiyzMpVK9m+fTs7duzgnnt2sGPHdpqbm/B5PUyMj3Ols5ORkVF6rnUzPjpqzF3JUKgNpdroPYjFIoQmQ/h8ATweb8bqd9JKQK6CkCt5PgoyqgaxsWmGOvrQRqcpUwPUBCqpLq6iqqiSyqJKqooqqQtUUe4oRh+NMtrRT3hgHFWzjqkzwj3Dz2UkmIsIFCGjJCRCvaMMd/YjQknK3SXUFldSGSinoqiccn85lYEKqgIVFMt+ooNTDHb0kghFUDUjXiWRG9vmJ/N6nnBkhseSuT4pM3ncyJI53Epdz7WTG568Iza3T9JlwBCHQ8Ff5CVYGsDrdyMppCrO7Bg1JGV/hs6WfmZVVvB6Pbg9DkKT48TjUaOHLaXYpRFCcOXKFX72s5/x3e9+l5/+9CecO3cWWZaor69l1aqVNDQ0UFpagqLKlASDVFZWoKoOEokEsiSjyMZh9TeDm+PqDSJBhua9dLAySW77W6gUSm6mnE9uOdL1P9vdRm5aSVxfhAkBmD1swhzGM5SshTuWt5fWUjRyr98FOBxOamvr2bHjHvx+Hx63C4/bjdfrp7y8goqKcirKy6ioKCcYDOJyuZAk44SEHdt3UFlRgSzLGUtAzEZRNnoQJAS6liSZSFDk9+N2e1CN2VUokoIsGX/nFRQU1Cxx4kBMJwj3jZIcmabcV0pJUSkBbwC3w41TdeJSnbgdbvxuP2VFZZR4SyCsM3xtED2cwIWKU1Jw5Pq3rERGlRQckgMVheRUjNHuAdQ4lPlKCAbKcLv8uBxunKoLp+rG7fQS8BRTEiijyFPM9ECIyMAExHQcsgNFzvXDEFVWUPNcX/qiokoOVMlhxJPkwCGpqJKKKhnPtFgy0+/ZRM0SVVJxyA5U2YFDNsJlXc81O7c4DEFFVZx4PF68Hg/xeBRdT5qqT7oFtZRHWZaZnp7m0qWLHDjwOj/60Y/4q7/6K37+859z4sQJxsfHkWUZRTFUpxUrV3Lf/Q+wadNmnE4nsmwsILpZSGLGpIvbicbo9DBvvX+AUxdOsP3eTWzZvhmHQwVznygrkiVx+3TNVIQtJF1MSwuxMivmyrVMMt9WZkOwWAHIIefZ5vVnAXExr1sYhuYyUpAbhTCPP4VyPeFxyC7+4aXf8t3/+r84efI0Dz60m//z//4TVjbXgypSJxUUgizLaLrGxfMXOXaolTUr1vPog48TLCo3KjJzKO9uQdd1QhMT9Pf3I8kKZWVleDxuQzk2q0dhJpkuBMlkkumpKQYHB5mamsLj9VJVWUkwGMzZN9J43ddFnLb2s7z65q8oqvGyZ/9uSoNlSLpRlxn5Shj7S6V8y4c1xGYMY0qAS5eJ9owydaUPR0Kirroep+pCkR1I5hxFYQQcSTfCFI9HGZ4YYSAyRklLNf7qUnSnnHXaouldVjYV5n+S+cJmGkldT12Y+TXfbeMlxPQj0w0r62W5m0keO5ixokoKclxnum+E8fZeqvyllBSVoTpcqZ4ogWT0wli/hU44Ps21/qsIr0RxYw2uyiAJSTfCmEFm+PWMeCBPUC2zmXZmQ+SxT47dQt3J9x2EsS2Q6U522lgRP8PSdSMyXurzIzBSwEqLmXczyb2fyVz+SLKEQNA/2Mvrb7yCU/byyX3P0lK3EUk4MvrtjHoxEonw2muv8ed//uecOnUSp9NFeXk5jY2r2LhxI1u3bmPz5s00NTVRVlaGLEnGsGgySSAQQFHVOcN6o9gK23UgmCcH5SNPprxe8iVZIQ3sdYW7EDLKe+rnXP7kmJ+Led1i/rgtyI1CmMefQrme8DhkN7/5+et897/+Ba2tp3jw4d38uz/9Y1a1rFjWCpumaYyPjwPg8/lwuzNWhd1CdF1HSyYRSIyOjnL58mWGhgZnlDVjqFM3zGvGfkuSJKGqqvF2nTEx0FDYdIRI0tN3lY9bjxAo97B+0zr8voAxKoOU1eQYtdzM8m1g1n2WwibAg0JRHKpkDysq6ygOlpLUBbFYAkVVUR0O4okEQtNxOx0okhHGiakJzl1r50qoH6XYi+6QSUpmqM0XwhnzfMyJ4lkKmxl8K5pm3DPJvG9cSLtlRUGWGcn8nScq8tnB6IDGIWTcQsInFKqcRTRW1+Px+NGRjcUlsRi6LvC6PaiyklIaNT3J8Gg/5zovMi4n0YvcJOX8da2FpZSQkYIZj2emVmFF3bI/mxsWc7mVGdLZ3ZKQchRx6771/432EKXiJEehzcYIkTHUOzM8CyHXj8zfkiQhJMHYxCgnTn6MpKns2rSXuvJVSEJFZAwyyrJMIpHg2LFj/OxnP+Py5cspN9xuN2VlZaxatYrNmzezY8cO1q9fz8qVKyktLcXlciLLyk2vN22F7ToQXEcOW6TGHvJXIoVklOsKdyGYwcmsHOb0J8f8XCyGW/O6USiLlIbXEx6H7OKVX7xhKGwnTrLvod38u39/AwqbpnHxgqmwNazn0X2PU1xUhiSMHqJC8tNiEI1G+fDDD5FlmbVr11JTU5Nr5KaSWZasZ25tbeXFF1/kxIkTM8paehg6ey6OochlmjV6zIyFBTrh8CQDwwOoHoWS0hIcqgPM85ENXw0Fz3BdzGg0rWtW8yYLQNcpcjjZ1byOp3bvYeu6TUiqk0g8ybXeXgTg9nqYDofxOF3UVJTjUlUUWWYqGuboudP84Fc/o29qgjjC2PsqIyT5coDx5DMR5n8LyTa5blnKU75r6Qs5imDGLVmAquuUe/3cv2UbT+7Zz8qqOlTVgSYkIrEYvX29xKIxVtatoNgfMCxKhkvhyBQ/f/XXvH3iKL3hELqqIHLOsLaCIyTjh+V/di5Jk07fubFyVS65dnN/ZyJIG8jnFqRvpNyRrDxl3syTBhazupmH+eLFikdD8vl2fWT6J7DKtCAajzI0Moiky1SV1hJwF5s6RDqFrHI8NDRER0cHoVDIcCejXLvdbkpKSli1ahXbtm1j37593Hfffaxc2WArbEtaYcslXzrlGMxn5HrIl2SFZJQZtvJZmWGocDKKfX63LUw/5jJiUWhw5nJr3vBYFOBZIc7MR15vch3OMeRQXLz68pt897/8BSdOtGYrbMoCFDZz0rGu6ymFbW3DBh7Z99htUdimp6f53ve+h9vt5vHHH2fNmjW5Rm4quWVJkiQ++OADvvOd7/Dee++hadqccZF7L/1bICRjA3CBRkJPEI3HQZFwuhRks6GUMhQCgakIzIGEYVDSQdIFJS4XT913P1/77OfYuWUHSWQi8STHTp7kWl8PCU1DlhW2bFzP6pUr8ThUFElmOhbl0KkT/Pvv/TcudF8jqmsIc/iIOXtGli6SACWRpCZYzOeefJIvP/Mc9VU1xlBXLEHfwCCnzp5hcmKCe7Zuo6mhAY/LjWyu6oslYvzwJz/mxdd+w8X+bnSHY86ImONWFvMkKSySW4XkH5H6z3ArmRBoCWOFs6pKOByKofnmCVCeS3Mi5rFjBXWeIC+IGf6ZjieFTiyeACHhcXhwSs4ZOoSlOMZiMcLhMMlkEvLUEbIsU1RUxOrVq3nqqaf49Kc/zfbt21GUJaSw6bpONBpFVVUcDsdNCtjNV9gKetjryESCHEuL1BuTj3xJdj3pkXLFsrpIYZ4RF7lkVBi3gsUMz8yYz08hbmWSFcY84XHIbl59+QDf/a9/wYkTJ9m331DYVrasAEWfXWGTst9fhdXDJtJDordLYRNCMDExwZ/92Z8RDAZ5+umnWb16Naqq5hq9pZw7d45f//rXnDlzJmvlZyZWGbTu5TNjFCiBRoLxyWGu9V3D5XVQWVWOy+lKr2jLtJLPGRMBZh+c0cOmCAkfCptqG3h42y62rd+CLikkkTh57hxvvvsunVevsnrNap751Keoq6jAKYMqSYSjUU60nePHr/2acS1KQgFdMuawZTNHgDIp0NjNQlg9bJqg2Olmc2MLTz3wEPUVtciKyuDwCK1nznD46MdMTk6ya/sOdm7dRl2NsdkpQpCMx/nlgVf44FwrQ4lpcDtNhfvGKCRqCvVjLrd0zLn0SLO4aCjkQoAkZCQBXZ3dXLrYSTgcoaGhlk1b1uLyGOUvt50xlMHMSmr20Bh5tTDSpwJY4c70I21qLgwXMn01f5snw4RjYa71XkMSMg2VzQS95chmXWdpuZIkoWlJent6OXv2LCMjI2n3zbhwOp1UVVWxadMmdu3axe7du9m8eTNVVVVLS2GLRCKcPHmSiooKVq5ceZMq1VuosM0Vr7mVaAEIZuazhbpRKPmS7Hoyyoy4uI7nzkdWXOTjJsdPLosZnsV0K5Pc/JNr3yG5eOVlc0i09SQPPnw//+5Pv01Dc72psOXZByxPvhAYE3FTPWyHW1m74vYpbN3d3fzZn/0ZgUCAT3ziE2zcuJGSkpJco7eU8fFxrl27xvj4WNYcKStOjPJn3cjeniAXSRYkidJ57RKHjr5PsCLAlm2bKPIXIVnbsGVZyPk9A2OVsHU2pjMhkEcjBHUnq1c043H7iWkah4+foPXMGcZCIcpKStj3wP2saVyFz6EiA1PhKS71XqF9vJ+iFZXgVkiio0vC2O0gFZB0gPIF1TKae++WI4GsgwMJJa6RHJ1ihb+ClRUrcLk8TExN09Z5hUPHPiYUCrF75z1sXLOWkuIgDlUFoRGenqT14hkmnTpqZRHCraSGqW+EeZM0T9zOxlxu6UBqglo6exqYv4UkQEjIKEhJePPAu7z0979maHCEhx7ew1e//jzFJX4kyTqKzbJnOCHQU8PyBsb33OtWCcl2JY31Gpl5hJOOjkx6tXXmq6YQRvkzrhnTD6xFNaQG8TMfVzddMBS2kYlhDh37EJIye7Y9xqqqNSjCYZRlS2GTJeKxGIcPHebv/u7vOH/+fMp/r9dDbW0dGzduZMeOHWzduoWWltVUVVXh9/tRVXXpKGxCCEKhEC+//DLNzc3s3LlzwZOD02+kzJHt7hCFzbywUDcKJV+SXU9GmREXixTmGXGRi+nxXEYWk8UMz7xucX3xmOVunvCokpPfvPQ63/tv/4tTp06z/9E9/Ls//Tb1jbU3prBlzGG71YsOdF2jtfUk3/nOd1i1ahXPPPMMLS0tBALm3KLbhK7r5nFdub2WOQmUcX3W+JJ0EnqY85dP8upbv6Kitpg9D95PabA0tdl65ky2+ZAAYR3uLkmoSUGoo5/JK0OUuIuoqawjmdA5c/ESI6EQsupA15LUVlXRtGIFPpcD9CQjE8N0jfbjWlFKeUsduBS0VP9aZljmDpcVE/MNxd0KJAFOSYZogsHL14j1jLGytI7iQBkaCiMT45xvu0Q4Emb9mtVUlVfgVB0okoSmxekf7GEiMUWgsQrfinKSZp9EbmrDvNGSIrXwdz4KUHrncitrgn9mNs35bqWvLBREAv7+xV/w3f/21/T1DvA7n/sU/59/9c8pLS8yplmkLKbT15jbmDnvzci7lrokmTZS+QJrZUh2QCTJsJOpsBkFQk7ZnqGwIRuLWoQxZGusADXczM25xvFQkrkfmmBgtI/X3n4Vkiqf3Pcc6+q3oQinGT4jnLIsEwlHeO3VV/mzP/szWltb8fl81NXVs379WrZt28a2bdtZs2YNNTU1KUXNao+tofWbScE+WEc26OaByOFwmP7+fsLhaXO1VH50XWdsbIyrV6/S39+XGhe+o5mjYNnc4dzEtE8kkySTGkhG5WDs+bNwPyXrLdyq3hZof7HQNI3+/n5UVaWuro6amhocDkeusVuOLMu4XC48Hm+OeEyZed3tducXl3Hf6XaiqgoOp4zbo+JxOfB4nLg9TlwFitsUj9eJ2+vA6XHgCrgJVBbjCnoYnR4nNB1CCJ3a6mo2rVvHto0b2bh2HeWlpSiKQlLXCU1PMjEdQvEolNeW4S5y4/I6cXuduL0u3F43Lq/LFKd5z4Hb68CTIdY1l9eB27MExOvE6XHiLvIQrCpFOGB8aoxwZApVligtKmZdcwtb1q+nurwCt9OJIoGmJQhNh5iIhPCXBQhWFeMpcuP2OXD7nHjySSq+jPjJJ26vE7fPkBn2M8TtS5vPdaMQt9y+dFjc3nQ+cXudeDyGZF03f7s8DlSnDJIxHC47ZFyedJq7vA6cXidObzoPGnnWinPLPSMve8zrHlNS170uPF4jzqzvaTtmnvY48XhceDxOvB4XXo8bt8eVkeddZpjNPOrLLBMzy5Lb6zLseJy4PS5cHieqU8LhVIw9Fl1ePG43HndGmXa58XqN30VFRbS0tPDQQw/xhS88z1e/+jWee+55HnroIdasWUNJSUlqapglt4KCFTZZlikvL6eoqIhYLEZHRweHDx+mu7uHWCyW0jJFzmqpWCxGV1cXR48e5cyZs8TjiQxX7zAyXy2WAakstszCvaS5kXKbkQ65zgghiMdjJBIJJCQcDhVVTe+WvyBSwwCWLD66Pnuvn0UsFqO/v4+6ujqamppwuVxZdclSwarT5pLZEWi6bopmShKNpPnRzI9xbS5J2RAJNJEgIeIkRAJHkRtvVZCkCwbHh5iKThIIeCgLFhH0e6ksC1JS5EfX40xMjTMUGiFCnKLqUpzFXhLoJESCpEiSFEkSIokmDB8TJEiSICkMSZhi/U6aYdG4/ZLEiJMkSTxBH/7KYib1CMNTI0xNj4MWp6w4QHVZGS5FQWgJ4vEwE1OjjE4OI/lkfFVFKD6n+ZxJtDxixZERP+l0yf2YMZcVr5mSeW0utzLTPuV3xt+kFbY8ecYKQ5YbpjtJPYmma8YBaQJ0YeTNpCXCzGt6MkOMPJzy00r/DCk0T+gigS409JRbmvlXJyl083emZKZDOgzW02Y/u/Fbt37rSXRNM0Q37urmvoq6MBZt6eZQazAYZMeOHTz77LN84xvf4Etf+hKPPvoIa9euIRgMzpgOtiQVNlVVqaiowOl0Mjw8zJkzZzh8+DA9PT1EIhGi0ShTU1MpmZ6eJplMEo/HGRsb49q1a1y9evWO7WHLbP4ssdrfueR2kxtmm0Vg3k0jZzIzHTJziYSm6UTCEWKxOLKi4PG6cTidC64ojCEIU6xJ7wsJaAHous7ExASDg4NMTk7mGVo0lKBwOMLw8DCNjasoLS0lFAoxPj6+4Ge62WS+Rc8m+ciXByTz+ERjCEmYq0Rza4XZRWBuF2JKEg3dpeCpKqJkZSURKcrAWB/jE0NEwhPEI5MkYlPEoiFGRwfoH+5ligie2iDBhkokl4KQdXRz/pqQdISko0vGNYFI3TPuG2J9tzLQ0viY4ZYFskelZFUVruoAIW2KvpFeRiaGiEWnScTCxKPThKfGGRntZ2i8l4QjTtmqStwVAXBaw3VGjFvPnhsH832s9JphLycOC3Er9cmxm+lGKn/k+egZJ9di1TFmvjXeN9L2jQpBALpRT0iWZOXCGc+TG565PqT8sV7qjJovkdAITUwxNjLB1GSYZNIY2sz7dFaapEOeMmd9S4uFVVZn3hNCoCgqq1ev5gtf+AJf/epXefjhh2lubqaoqDg1/Dn3C9rNpSCFzaqUYrEYk5OTjI6OEg6HCQaDVFdXI4Sgvb2dI0eO8OGHH3Lo0CGOHj3K8PAwLpexU7DP5yMej9/Wh70t5LbE2a2yzZ3KoqRvuqwkEhpTU9NEIjFUxWEeQu4osARnYrh5M7OgEILz58/zy1/+kldffZXu7m4SiXiWGWuKhcvlpqmpmdLSUoQw5pHcCWQ0A+lmQZIQkjVr5/pjX5hKlKWgJBUdfA6K6sqoaqnHU+4nKsXp6u+i9ewJTp0/Rd/YAFNaGHeZl7LGGoobKpGKXCQVw7X0pHIsFS2jcTX8nOuT3QDePrHCnlQEatBDWWM1ZasqcQRdhOKTXO5q56PWo7R1tTMYGiEqx/FU+KhsrsZfW4rwqiRlSwHKdT0t1r25yDU7m1j35yPXXj6ZzTzmKlpFgCokFCGhCnAICYcARTeuO5BwCBkVCVU3zClIyEJCyjrOKTMP54bCkKyXwzxi/Eu7JYSgt6ePX//6Nf72hy/y7tsHGR8LpfwRUrZYzF+SrDDNbVIIgazIVFRWsmXzZlpaWiguNhQ1436ujVtPwbWjqqrU1tZSVlaW6jmrr6+nrKwMp/mmn/umKYTA6XQaczicTnRdu+0aKsybbjY2SwpJkpiammJoaJjp6Sk8XjflZeU4nQ4jK8+Rn43GdC7MynCRy2RfXy9vvfUm3//+9/nbv/0RH3zwAQMDA6lhUlmW8fl83HvvvTQ1NVFaWkowGKS4uDjXqWWN0VRkx+0cyXVd6BLoqozsd+GrKaWkuZaS5loG4iHeOf0xx69cQKkIUNxURbClBl9dCVLAUNZ02ewVMd3KbXbT14xm1uxzWZKC+VeXjNWQuirhKPLiry2jpLkWV00JHRNDvPbRQbqmR1GriiluriPYWIunqhTJ40Aohv1Ub9RiJ9Z1kJses5Gbdlbek8BYUSxJOAU4kzrOeBJHJI5H0ymSoVgGT1KgRjQcMR1XDNxJGbeu4sI4c1Qxz9gwjrgytgUxZOZB8wUJmAsLzEUIukRfzwBvvP4eP/v7X3Pog6OExqctX7OeUhK5Ym2RYzxvbpykL2bczYjQzN5yh8OBx+u9iduXXT8LUtjq6+upqqpCVRVisSixWIxIJIKiKFRWVtLY2EhzczMtLS2sWrWKQCCApmlMTU0xMTHB5OQkoVBojkUKUipyU/FkxriVDCLnOBIjATKlAGbm6mzJItv9Qj5ZdgSZa6Kz/SgwuMsNiYyhNnMPxlS6iZSJeSVPbOY1Mdd1w7c8lUWGZNqY+2O4PyMtZ5N5sMKX36yEhIwsq8iSTF9vP13d3UyFpykOFlFXX2f0sGHkLcn8m+u/8Xy57mZi9pCYBU5i5ovX9RCNRunu7ubw4cO89NJLfP/7P+BnP/sZR48eZWxsDEmSKCoqYv369VRUVOD1evH5fHi93lyn7iCMREn3SN3I6krDYiq5JQldkRFeFWd5EUmfi0tDfbxz8igft19g0qHjrCnFURFA+JwkHZCUrZ46g7mybWYw82SzJYUwB9p0TEU24EYtCxB2ybR2tPPOieOc67tGzO/AW1eBWlaM7nGiycYWENbWGFkrL5ck2bVe9lUJFRmnkFESOkTixMenmOobYfRKL0PtXQx3XMObgK1NzezeuJm6olJC3cMMXe5h6HIPo539TPaMEhuZRp9OoCYlnELFgYqCobSRdVpAbn05+2dm2I3wT09HuHa1j/ZLPfT3DpOIacipQpKd82aq7NnKWiZpWxmvT1mG0+FfyhSssFm7+wYCAUpLy6irq6O4uBghBKqqUlZWRn19PQ0NDaxYsYK6ujr8fj+aZvSqFRUVUVFRSTKZnONtXkaWZCTJ+KvIhsiyYoqKIiuGKAqKYux9Iivm/dQ1FUV1oKgOVFMU1YGiOFAtUZ2oqjPLTH5RjT1WVMtdQ6zr+cSR9deBoiimvyqqLKNIktE+pvPpgliMBvWWkjozUTKz3Mw5QLNJKu2lfGLkk1mvm3klbS6/KHmu5RVZQZFV1IWKkiOykQcVxYEqG/kqlS8VBw7VgVN14lDdSCiMjUxw/NhxOtqvoAtBTV0NzaubcblcWXnLYdrN/qviUFQcioJDUVAVI04cZv5UZAlFllEVBYnrXMSQg6IoyLJMMplkfHycc+fO8dvf/pYf//jH/N3f/R2//e1vOX/+PLFYlGAwiNvtTpez1OHpdxJSdpNh1n9Wr9D1k7ZvzedJyqCpClf6+zl5oY1TFzs4damD8x1XiEqgO1Q0c5NcY2aTFZbZXE5/zxfSfNduN+k5mUaPoC6rhDWNzt4+Dree4uKVXo6dPc+1oSGSqoLuUI14y1DQcuPjeik0fgoxl20mM3Uyr0rIQsahyygxgT4aJdwzxkTnIBMdg0xeHWa6e4xI/yTx4Wnqg1U8uWc/v/PkJ9mxdhNyOEl0aIpwf4ipnnEmuoYZ6xwkdGWIcPcoYjyCIypwagqKLlun2t6AGKTKhBBoiSR6DPSEntoNONt0mqxr+QxYCOO/9BC+RdqS9W0uZ243yre//e1v516cCyEEDoeDoqJiKioqKCsrSzUcsiyhKJaCZeiCloJWVFREfX29WUG7kMxzuyw3DdEJR6fouNrOwFAfldVllJeXAxJaUkdLClN0NE0nmdRIJpMkE0niiSTJZJKEKda9RCJBPJEkHk+QjCeIJxIk4kkS8QTxeIJ4PE48liAei6ckFo0Ti8WIxeLEojGikRjRaJRIxPweiRENx4hFokQsCaclHDauRaMxYrEEiXgCXdNB143uWwkwFRIzH81LbibKVWxuPfkDbRQsQz2zFJ30nnlSRk+bML7r84gQ5vfclXnmtblEGH91TZ95bxbR55JCwmu+2htht66Z9jUdTRNommbmZyMf65pGMqmjJTSSSQ0toRGPJpmaDNPfM8Cxo638w69f4dzJi7hdLnbdv5OHH3kQj9dNIh4nmTDKQDKpkTTztpbQSGbm9Vg89Tcei5GIJxgcGOLa1W4CnmKqKmtAYOT3aHSGRCKRvJJrzjLb2trKxx9/TF9fH7quMz09zeDgINeuXTM3pR1HliUcDidOpzNr08nbk59vFgJNJBga7aOt4xy+YhcrV63A4/ZlHTy9MKzmKzuejOEqhfB0nLcPfMBvX32X9kuDxBMJ/EV+1qxfQyAYQJIxp6BnT/jOdTnXl8y/S1Gyw2hclVCQJZXe7kHePPAer/zDm4yPRolrcWrqqmloXIHP70EnPeoz87SH/OT6n08WQq7dXMk2OfOvhDnnTAN9OkFsZJLpvjGme8ZIjIaRppM4EgpeyYNf9RNw+CkvLqOhdgVNDauoraoh4PbjUVw4ZQeqLkNMkJyOEQ+FSYbCiGgSSTfrdllGUjAXneQsPC9EzDBbP4QQXOm4yofvHmF4YJw1a5rY++BuyqvKQNLQM1ZHWVWEMBxJuZeL1WM2OT3J5Y420GTWNG6iorgWBQeYR/UtVG4XBW2cCyCETigUIhqNkUwmU8OasiynHiLtkvFFkiQ0zVCcrCNedF1HliVToUsrbRISAp2x6VE++Ohdzl06yboNLaxe04yiOBBCQujmMlxzLzg9d3m9uXze8BuzodXQTS1BEpZ9s7FHgK6n3AGzcRWmO1ajL4xrljsIwAyDFQ6rjAthZF5ZkVAUFafTgcvtxuf1EPD7KA4GCAaLcPv8ON1OJNnaE2uOZBCz5sfbSP4tGySklIImIaPrgkQiSSyeIJFIkNQMJUXTkujJJHrWY8+Mg7maNCPJZtrJJZW2CzAvrDTNivjCCmvKhKlYGkvHjeOjkomkMTU688FTedp4CdE0jempKAP9w3S0d3Dm9FnOnr3IxGCI2pU1PPWpx3j8iYdxOsyd2IVRPnVTQRV6et2UkR+NvIowy42ugwR9Pf1cPHeZqtJaNqzbgtvlMyZE5cltuq6jaVpquw4rHoQQMyoxXdc5dOgQBw4coLOz06wbjOeVZRmPx0N1dTUbNmxgz549PPjgg6xZsyZrgu9yx0pdgU5Mn+Js2zFeeePnVNYXs2//A5QEy1MK28zYXihGRlWEgiRULp5p53v/5fu88qu3GB+aQnUqbNjSxP/x//1n7HvkfoqDXjSippIiZgwm3Xh4bg9WuI12XTJGbHCQiCT54N3D/K///kPeeeMwWhxcPpmnnn6E3//Wl9jz0L0gJ83lCoWqa7cTs4xmBNR4WlA1iE9EmOwbZXpgAkdc4MaJz+PB6XDhkNMjTZJkzT0yy7LplsCoqywxOj7ixBMxphNRkk7wlAcoqi3FWeIhoehoEmgZClUhGPPYDP8lSUZL6rz9xnv8hz/+DudPdfKJTz3M//tf/++s3dyCkOJokpFfF4KhVwh6h3p59Y3fIBIOPvPwF9mwYgcOPIBIKXXLgYIVtmg0yuuvv87FixeJRCLIspzREGY7kfnbmmRsKWuJRCLrUFWrYRQ66CSZTkzR2X2ZvsEeSkqKKCoqQpIUBLJRsZiKGbrZyJkdnEYvho4u9FQPDimlTk+ls3XPuG2YsYybJtB1w07arGku87mEoeylOlite7ow3jRkGUVSUFQFh9OBy+nA5/NQUVFKQ0MDq1qaWbthDbUrqnF7HOizKEBg5NGll6VmCa+QUCWVZEJnfCxEf18/fX39DA+PMhmaJDwdNnouzT3FUoqzlW9ETosxS+7MazYfpjLDPHbS6Wh+N5X1XObV17LylfUiYeRDTTN6vYS551EqT2b4l9Q0hK4TjSQIjU8zNjrBxESISDiKSAoCJUU0rKyjqqrM7CUxA2Qqheajms+cVtZSLxspZVEQCUeZmpjG7fQQ8AVRZDU1ZJ2LVVaFpfBlkKmsWWZGR0cZHBxkeno6bzyqqorf76euro6tW7fy2c9+lv3791NVVZVrdFliPXGmwvabAz+nakUx+x56gJLixVTYjIZJEgrRqQQ//+k/8IO/eIHTx9sgCZICRSVenv/Ks3z1G19g3cYmhJxAE3Fz+wXuCIUNM+yZCpsquejq6OEnf/dzfvC/XmCwZyKVOM3r6vny1z7HV77xHMGKIjSRRJdmqdeWFIaSYz2HBMhCwqFBbGySkY4+kmMR/KqXYncAt8ONEBKKqqAoDhRz2ki65jWrRSGBZNQj46EQSBJerweXw2l20iSJxaOEIpNMa2GUYgeljVW4S/0kVGNO5MySPjuZChvI6JrO22+8z3/44/9sK2yzUJDCJoRgcnKSP/3TP+XAgQOEQqGsN2Grks78jVmR51635rRlmTVqDDShERcxIokwsWQURZWRJUP7NlamWENqVlUnwFqoAGZrargnSUYyCNMPSc7Q5lMJJKVOLstsdCSM5feS6aTZzhn3ZMzjLkj7hZR+UUk/DgC6ZiiRmpZECA2X00lxsITq2irWb1nPQ4/tZcv2jQRLis2ejzzJsQwUNiO+JZIJnYGeIc6evcDF85fo7Oikr2+AydA0kekY8VgcTTM3YNS0nJ6mTBfNS6ZCnYUZGZKR/DMRqf+Mn+ac+rmyejoPWXnSTMiM65lf87mUup5SjtL5DzPfWj3ARlgMM5n2jP2OjN7k1BQAzXoACVV14HSpGMXPOE/PcsF6znTeN4ffs6IkXVat4ViH4sCpupClbIUtXy9abm9aLpbbkUiE6elp4vH4DAXPQpIkqqqq2L17N88//zyPPvoIlZWVsyTq8sLKHwKdmJji7MVj/ObAS1Q1BBdVYbPsSigk44KOtmv81//4Xd585SBjA1MpQ7JDZss96/mn//xbPP7UgwSCbuJEjBdTSdxhCptVx8toCYl3Xv+Av/6fP+at1z+EhJE4AvAGHDzy5AP8o//H19i15x6QdXTJGDlKLwbJV9JvN1JWKklIOJLAdIy+S1dJDoUJKn7KAqW4XB4kZM5fuoSkyFRVVxMIFBGNxJAAlzk9SUtqJLUkCFCdDk6fP4cQUFlZRVlpKS6HuSJd14gnokxMjTGeCCGVOKhduxLhd5JUjTqHAmMtW2GT0DXMHjZbYZuNghW2UCjEv//3/54DBw4wMTGRc4SM0VhAupLPrNgtL6xrqWN1LLMYbwtCEsSJEY5Nk9Rj+AMevF4PkiynJo+D0Y0rA6piuWEodbIsG4qZ5U+qgTGVLEky5lSllEDDb8n4YtqRDa0swx3JCCSSZEzQxhoGTk2GlIyhTVNxs3pWdE0QT8SJRiKEp6cJhSYYHR1jfDxEOBahNFjGffvu4bOf+yS7dt+Lx+c2el5yWeIKm5UukxNTnD/XxqEPjnDi6GmudF5lbHyURCKBQ3UaXfKqisOhoqhmPGcqADl5CAkkS3FaQASk7Ft5K8vu7A4ZaWeGI0MblEw3rXxSCFKqQJhKpw5Gr5tVqRkVhWSWB8t9l9OBohpzQI28qhr5TLbym4Rxarhu5F9FRcqYjqDIMrJZLgz3M55FmA8pgSxJTE9OMTYyRsBfTE1lDS6n1+iOsV54zBcu47uMqsrmooDZI8GK+7a2Nk6dOkV/f3+uEQACgQCrVq1ix44d7N27l927d9PU1HTHrBK1KtWUwnbpGL95/edUNSxuD1uq/kFhYnSa1379Fv/jO39F29mr6HHThGT0nBSX+fjSV5/ji199lvVbmtGIoYtkqpct083lioRkrlCXkSUHPVf7+dvv/4Sf/OhlejqGU3W+EMZIyOoNK/jCV36Hr37jixSX+RDm0ChIqb3YFqok3HyMVMcMmYKEIw6RnhF6L1yhSPJSVVSJ3x1AkhXCsTi/+PWv0CVYs3YtwWAJgwODSEhU1VSDEExMTDA1NYkiKVTVVHP63FkmJifx+/3UVFVTX1tLTXklDlkGoRGLTzM0OchIbIy69avw1JaSdEmpYdFCYsyomqTUS6KhsL3Pf/jj/7QICpthzuqSuasUNsw35ldeeYWzZ8+mtvJIN4yWE+nGN/cv5vwVY3Wn2SBZSo75QYZwcorOa+2MjA3Q2FRP/YpaFEVNN2BmBSSbypPVcyZJhtJkzY2TZMOMLBlmDH/M8MiGO0bQ8ihs5vJuyy/LnuGmjGTaN1tDI7mtBtKci4fZo5JIJszFCREmJibo7x/g8uUOTp46w9X2axSVBPjs5z7FF770edZvWkNSz3N01xJW2CQkZFllfDTEiWOnePWV33Lk4DEG+oZQVZXS8hKqqiuprCgnGCzG5/XhcrtwOB2oDiNdM/OIFd8p3WKOZ8+bcU3dxEwVU9kw72X6k0PeO1lKT7byXhhmCM0eN0v3tHrXrLyZetmQwOVyoaoqcuqFwVw+LxuVj+W/ZPaeSaYCZT624aZirrTGjMBMzOeQZYm+7l4unrtETWUd27fcg89XjIylkBkupsuxjKIYSpvIsxdFZnnXdZ0DB17nxRd/wtmzZ7PMeb1eamtr2bRpE/fddx87d+5k/fr1lJeXp/ZzvBOwYj1rDtuBX1C5omhR57BJwqiTkgmNtvNX+e5/+T6v/PItpoYjpgmjfAk0kOHeB7bztW99kU989hH8RU40kTBON8h0M+P78sKsq4UxPKzFJd468C5/9b0f8d5bH6HHjGcz6mijPPqK3ex9aBf//P/5T9h+7wZUNxiHFGG8WFl7Ey0prBQyyr2MhDOqM3rhGhNdg1QVVVEerEKRHCAkQpEwf/23P0QoMqvXrMXj8dF9rZtwOExdXR2arjM9PUUiHkdVVIIlJfQN9BOaDOFwOAgWF1NTWcX999yL1+lERoCUZGxymO7hLopXlFO6tgHNp6KZQ8qFxJiRFoAw6istCW8f+ID/8Cf/ifOnOhZRYcNU2P7h7lHYNE1jeHjYPGpGoCj5HjJdaWddtRq7VG9Cjhmz0kEWhCLjfPjx+1xsP8f2ezaxYdN6HKqaasjNkmTYTzWgVuIYile2n9bwZbqnD3PHcQlr2Mu0l1LSZskXpn9Gj5IVlPRzZD61lRmNyeZ6avL99NQ03d29fPD+IX7+s1/S0d7Flq0b+Ma3fo9nnnsaSc0Ip8UcSsvtw3hyWVaIhGMc//gkL/30l7z1xttMTkSorqlkw6YNbNqyiebmJqqqKgj4fXg8blSHw9yCxegNstzDUo6sX1ZyWRcKQBgDgWYeSV+Xr1cRMPNROqXndyfdX5H+m85SIqXwSBmKpeFP+lD3FDIpPyXLUmYlkxMckdE7ZpWxzP4TYcaFLEm0t7Xz8eFjNNW1sG/vwwR8QWQUJElOzfvLLD9G+Z3t+dPXNU3jJz/5Cf/tv/1Xjh49BoDT6aSsrIy1a9eya9cuHnjgATZt2kRVVRU+n29GnbHcSad8njlsi6mwIaOgMDI8xpuvvcd/+Y//i44LPWixdN0mScboBQKClQF+53c/xVe/+QXWbWxGkERIWlbxupHw3G4kc1sLocsM9I7yV//zh/z8J7+hp33YeOkx1tsYdbcAVGhsqeWrX/9dvvh7z1BSWYSQjZWiAmuKSoGVzy3H6D2ShYQjqjN8upNo3wTVpbUEiypS2/RMx2P8zYsvILucVNfUkkzoDA0NMTg4SLA4iC50PB4vJSVBhC4YGxslkUzgdDrx+33GKvZYnGc++TQBrxcFkGWd0PQI3YNXcFcEKN/UiB5wXqfCBhIKmibNorA1I6SErbCxAIVNZEw6vt7K1WhEcq+S3qFQFoyHx3jzvdc5de4E996/gy3bNhvz5VKLA6z5QVaxY0YiCqtdgxnVT7r45QuIgYQwu2oz3U0V8wylzhwKznFKsuYSWWFJ3wFkotEEVzq7+Iv/+Zf8+uXfoioKX/zK5/jf/vdvUVJebCx6yHRwSSpsRphUWeXCuUv89IVf8NJPf8XY6ARr1zfz1Ccf574HdrNq1UqKg0W4nS4kq1dVkoy33Lm6z0wWOiQ6W2bO7WhaGAV6niJ/viwEydzqxRo2vV6vhZSuiEwVNpX3ZUlGlqDt4mWOfniU5hVreWjfowT8Jcjc+CpNTdN44YUf853v/BeOHj1KIBCgubmZ3bt3s3fvXrZt22bu0+hDUQz/rrdOWaqkc4ClsB3NWHSwZxGHRI1tc9ovdfLi373EL3/2KpFJjWRMEJ02tiBSFAVfwIvT7QBVY8fuzfzu732Ox57cj+qQ7jyFDQUtITj28Wn+4n98n2NHThKbTiISEtOhMIlEEpdLxeNzIztk/EUedu/dyT/9379J89qVKE4FTWjm1AOr1Cw1JDB7CmUh4YzB1KVeRjv6qSg2ethkWUUgEdU1fvqLn4Oq4vJ4CYUmCYcjjI2N43a7kCWJ+vp6VjasZHp6mkuXLiJLUF1dTVlZGaHxCfp7e/n8M88Q8PpQJRAiwWhomN7RbkpWVlC8uhbd7zCPVC8sxownsAzL6JqcR2H7Q7OHzVbYsN7fC8HqHUsPZy5cjEo5j2TElzBX1+noaEInKTQ0YSy21oQpkkCT9AzJ/q1LOhqGJNEyRCeJQEOk7ucXw/9MJdVYNWoOawkdIQxT1nyiTBHmwcnGilXjr/UdNNxuBytXrWD79u1UlJcRmpjk6tUuhgaHMAayTAV2qdYVYFSNskI0muDUyTMcOvgRo8MTrFq5ks8/9wyffuaTbN+xierqMnw+F4pTRlYxNSc9HdsiObekzBUmYhbJTeGFiZFzChfL3sI/Wiqsps9Cm1W0fGJ+dGG4pQljab6WsUxfFxqabi3dT+dzgxvPcFY5cblcrFzZwKc//Wn+yT/5J3zjG9/giSeeYPXq1RQVFWVtkptZ1u48jIJ8s5oFoQs8Xg8bN2/gd7/8PN/8x1/j8889w9p1q1EdEsHSAE9+8jF+/w9+j29886s89PBeyipKjTppEdJ7qWDFrxDGi44/4Gff/j187fe/xLf+0e/z9Kc/QWV1OQJY2biCz/7Op/gn/9sf8OXf+wK7du/E4/VknG6QWR7mktuJ6b8EkizhLy1G8jiYCk8RjkyZA6YCVZIo9vuJR6OMjYwwPWUMf8oItEQCBQm/20Ox34/P48bjcuFzeyjy+ijyePF73AS8HlRJwuhg1wlHpgmFJ8GpEigrQVLV1DzahWC8j6dHAzCVbiMx06MbN8qd8kK44I1zbwZGrxkg6cQSYTq72ukf7qOmvpqKynIU2ZxzkFWIrL+zFJz0qucFk0raPLqlIbP4mYGZ37IkNYlVMpZYT01O0Xr8ND1X+wmWBNi2YzP1DXWpAGRan8u3QrPiXG4sDKOHTFVc9HX38to//JZDHxzC5XTz2OOP8MyzT9OwagUut5PUIsa0VaNSNONwvg8YBzHPJeYs41kl13w+ybVzWyUjZnLzUJYUkvbmC1BmWZEkCYRgZHiEnp5+SorLWNXQiMflM3o+U9l0XtfzouvGkIuiKOzadR/PPPNZdu3axcqVKykqKkJVjYUSluRjtuvLDx2NGEMjvVzqOI+/2M3KVQ143N5U6t3Ikxp1g3HaTGl5KS2rW9i8eRMlxUGudXXR3tlBeVU5n3/+d3j0iX1s2raWptUNVNWW4/a6kI01Jnm5kXDdDtKxafSZON0uamtrWL9+LevWrcHr8XDq1BkGBobZumMDzzz3NI88sZ+W9U00rm6gtKIYh1NFyAJh9q7N3fuSWyBvpWSGwKyPVQe6EISnpomFI8hC4FQdOGQVWZLwejyUFAepCJZQ5PVRU1VJbUUlK2pqaKivp6KsDI/Lid/tpqa8guqKCkqKi/F7PAQDAaory5HRCE2NMzw+TExKUFxXTqCmDOGS0VJ1fTp8c2EoZpZZCSFkrnZcMzbOHRylZU0Te/bvoryq1OwFTi90KxQr/abDU7R1XAJdYW3jZiqKa4yNczPMLAcK7mG72UiptBPmCjhh7CFl9jwYiaVnHD+c+T2PiDzXUvZyr80U8jTqQspVJWaXzM707OtG3wmSTmlZkJKSIMgwGZpibHQcXROZa8qzyS2zsxibk1z71yFCAl2SAJmuK920t3UyORmluqaCXffvZMXKelxup9HbmJWK2WmZmiMyh8yI/1wp9JNr73rcuGUfK45yc8/CRWQlfuZ1qzdr8Xu1JEli9erVPP300zz77LPs3Hkv9fX1+Hy+7Pl5dwupnsPFjWesFJYELo+TqpoKVjbXsrKljtoVFfgCLpAEDpdCRXUZKxqrWNlUQ92KKoLBwJzK2nIkK3fLAn/AQ+2KSlY21bKysYbqunJcbgfI4Am4qKoz46upipr6MtxeB5Jslb9MrMpvvmu3C4Eug+aR8dWWEagrQ3gkRqdGGRzpY3xihPLSEloaG9m4uoUt69eyY/MG7tm8ke2bNrB5/TpW1tRQEvBRVVbCmqZGVjetpK6qkvJgEZXlpdRUVRAOhxgc6WckNIxw6hTXlFBcWw5uB+I6XrDS6WW0umkXjG+Wkwt3+c5lydWeqYrN6hnImEcgZSRxIWJsrZApBSpr80ph5NpKi6EoeLwe/AE/qkMhGoszNTWN0HQjg5qrTJcqAkhqGteu9dLfOwQCautrWLt2NW6P0VBYjUk6zvLF4czYWZBY/tygLIYbiymLV0mJPL8Nsd4LFs8vA1mWqaurY8uWLaxevRq/3393KmopFjuGc5BAUiQUVUZVJRQJZIeEpJgKu6QjKyCrAtkBimqcxHIdbezywMrXioSiSiiKhOwwdqxJ9fhLGHECKA5QHMI8ZomMMpLr6NKMMLM0k5RBDbgoqisjsKIMqcTJpBRhODxCODmFLGs4nRI+t4OyYICy4gClwSKKA35cThVJaKiShs+t4FQlhB4jGp0iGpsiqocZjYwyKaaRilX89aUU1ZfjKPagKUZ7lo6z3LibC6unJjNuze8LceYuYcnVohLWuDY5GSA39axEXpqFaHaMMEuA0+kwVk2qDhIJjUgkYpzMMONZlyKCRDzO0OAIExNTuFwuqqurKK8sBwmz92xmqtkUxs2Mt1SJuUmeSJKE0+nE7XbfoYe5F46EoRgZWwuZ3JR4N3qGUr3Z5rxfY06WMQdXE3pqXmh6eOmmBOY2kdMWWHOPsZ7dnLNnKmWpvn9zfrLVzszeqsx+53Zjpb4mC6QiF576UgJNVXjqgohihbAcIRQfZ2J6hPGpYUJTY0xOTdA/2EdbZxvn2i7Q0dXByNgg46EhxiYHGQkNMDI5yHhkjIgUQQvIeGqLKW6swltfhlTsJqlizhu3XgAXmp/M+M6K1oW6cfewxBS27MKQO7Y8Mxmt+3MUoixLS6vAqaqKy+lEVRS0ZJJYLJreFX7pBDMPRk9kMpkkFJokEo3hcrsJlgTxeF1gLuSdmV42S4Ulnb3uMKxykFufLR7567XUa65kNOfGNBNzcUf67h2DFQvGdJj0byMODKUmbdYaTUnHU3Yvu+ViLvnj+rYjAQh0SRCXBUm3glrqo6ihgso1dVQ0VhOoCeIIutDdME2U0XiI1ktn+Pvf/JIf/P0LvHnoffpCQ4wnJpkmTNyloRQ7CdQGqWyuoaqljuDKShzlfnSvQlzRSWAcyq6nppYUnquMtDIsLMEYXZIsMYVtZlHJLULpVTwWlsnMIpoWCcncSNGQgnPTTSW9PYqsGMdvCSFIJrOP7VqKZFZsWjJJNBIjmdBQVRWPx41DVfPMAbnJ5CyqXUilAensct32lxlWxWrXkjcfgbVbslVuFjveMx3LrN8yFYvMHJ2e6C1m1JbZsvxIP2emQmbl+MxhO4F52gHWtApj6o1l2/iY5mbUC0svhgTW3GJDedIkga4AbgdqkQ9XVTGBhgqCLTUE19RRunYFwdV1jMhxPjh3mtc/PsKFoT68KyooXVtP6boGSteuoGRNLUWNFXhqSnCU+sCrojkgae2EgHG0WUbGWxgSRryLmeqyzUyWmMI2d1LNfje3qplNTGaWwNuCJEsosrlRqW4cai90a5+7PAHLDXceI/NyI3Yx7Bnl0zgkOJlMogsdRZFwqIq5sWquB7m/M67lPk+uLJTZ6tFcd/PJUiQ3jDccXkszXcx5cja3HusllKwXUkPNMNSVdGGwlBLDnpF9curEAjBs5P8s1K3Zya2zLV/Tv+YlpUBkqFsCZGH0vskCFFNkLKP5ClRBvt0ycmMkN+YzqwWBQJcFmoJxMLtLQvepiCIXcqkXR4Ufd0UxmkdhOBpmYDJEVNLwVgRxVwZxVhajlvuRgh40v4O4CxKKICkZr+PC7M3DGnLPCOdCsJ7BpjCWmMKWTjwrA2RmSMksi9INtF3Zmd50eyEOLCLGkUTGkVcCsg5CT6+aNX/PIYUyw95Cnzs9/SNVyenmCjirtzBjY/wcsqsTMpqMuaSgMJrhSpmXUpdTP69H8pGZ52aTxSA3LLPJwjBtSNY+R4sV2sXlztnSYxb+/+z9d5xc13nfj7/PLdNntmNRFsCi9w6wkyIlWZLVSRUrKpbVYsWylMTO1+mOv8nr93r98oudWHYSx5YTO4lLLEeiTIkURVKU2AESJAECIEB0LLbX2d3pc+89vz/OvTN3Zmf7LrAg97OvZ+eWU57znHOe89xT5yl2z7smdHRhogsD3Ttz1vurKIy+0iKUfMsyno2slbFfHq3wkfe+hLnUCtd/KUwvNe5KgapFZNVmQsUbn9GmITAQmAhMx0a3wLQdTKme6VRvL1OWV616NpsULQY0d7dOhWruypAItSepcLA1sHSJbUgcA0RAQw9p6AYIxwLLxpAOwYBJMBhAC+hIU2AbYGtq71JLqr0hVa+kW08nj36GkJNIeRm1MGnzutQwXZbezAo0e7jKwFOeoNSMf/m/VM8WXT3MNGifUSTce3x5MrOv7BuQHg/TsbKIuAGpWwD4Z/DcXPgby7e9sTZP+AftHAkjI0m6u3sZHBzBsmz3XbkX3L+biNI1M6mnM4MKSR3/VzKqwFem5lPXBdIBq+hgFS10PKN05j0yAtClQHeAnIVhOayqr6e9tY6GYAiZylEYT6MXJSY6WkUamAfviwSpNkkuFApIR2JgoKO7svdQ1siul9LiCq/s6AI0x8HOZAkBaxrq2NDSSH0gSH54DDudQ7PUCQpIcGS5V21iPPNEqWxWv1hGLSw5g21WVcTTPbdgZlc3TLJqGw/pGnDzU3qLC+FWNDErDmfuct5YrHLhL3e1aEmjPM9pKbFa2evzNoVX9OeQzNLHnDusVyyo4+3OnD7LyROnuHjxErlM1jVoVOPqRef5VerFv43C7BmpNpe8M5Jt23HTN7dwy1D+hVAGWzI5xpXLHfT2DpDNFMHR0TDKJ8JMAk2C7gi0vE1+eJx0zxCBrM1tO/fywfvuYXf7JkgVGbraS6Y3iRwtYFgC3Z3yIW6gmpoZlFwc26G/d4Crl68zODBCMW8jpEB3DU5XehPUkXBlYthAtkhucJTxzgEajQj37DvAB+65h22r15HqGSTZ0U+ufxSRsdAdr4ezXEcVVTC3jBuEJWawLblasqgoNVJCWWylFaK3AKaqr0J4RsE7Kz9vFcxlk8tlLADmK3YJOgJsSV9PHz9+9Ce88cab9PcPMjI8TLFYcPeeVI4ronMfKzNuYeqllJBKZ+jq6mVoMIntOAuQSCr46+8b4NmfvcAPvvcYJ197k8HeUaycRDgamjc068IzUDQEmiMwCpJM/yiDFzpJXu4mYZu87/Z7+OJDn+Y9t99LcyDB+LVBBs9eJ3m5FyeZwyi6Mi5hYWQ1XwhXr9q25Pq1bh595AmeeOxnnDt9gbGhcZyCow62L81rVKx7U4gEoEuJTBdIdw7R9+ZVkld6WZ9YwUceeC+/9LGPc8feAwTyguTVfvrPdpC+PgipIro7PL0g9vgy5oUlZrBN9c20yPD02HS0IFBfvJrXcLphl7+Cb1SPwywSVpOV6trrn88yk2nNXrzTu1zGwkG4/2aQ68tYQJTq8xwFrz6EBJnxNCdfO8mpN94kHmvg8OHb2bN7D7FoFCnKQ1+1IJh7/Pi8akIZBn3dfbz00stcudKBbTlVc6v89do3Z7V6oUSJPANDABLTMIhF4uSzFn/3vUf5k//yZ3z3r37A6y+fJjmQwilqaBgIqSOkBlJDkxqG1DAsQaovSf/FLopDGRrNOta3rGbz2vVsa9/AhlVraWtaxap4C3EZZrxziKErvTjjeUxboHt8TqmX/GlU/VrlxR8aGnqZtynDoey/qnfMkxUSBBqmFqCxvomrlzr47l99jz/+L/+dv/vej3nrzGXSozmErWNgqh43dxGKJgU6GhRskt0D9F/qQqRtVsVbaG9dx5Z1m9i6biPtq9exumk1KxMrMLKSgUs9DHf0IjMFDKlmSE5Ib3UylrGoWGIG281BZTGcnhYMsmyYSQDpGWnqPMepFO9c4DfPZEmB+k+EqHQlfMeFqbbCHWhx7TJHyvIB4o5U53FR2WU+MVQVtxRqObgKs3pV2zIWHQtbtJYxA8xlyx6vzggh0IRGPl/kyuVOnvnZ8/T09DGaSmEGAzS1NGEEzKqlPBMxew7KkPi2VZKSQi6PVbSIx+qoq2tE03Q3fC9uPy+ytFmvQKC56akmnUpqXdHCrh07MHWDl186yXf/4mH++x/9b/7P//wBx549QX/3CI4l0EUAQyhDRbcF9niW4Wt96FloijbRVNdMOBjDDIQwzBCmGSIYCBGPJGiqa6Y+1ECmZ4RsTxKyNgZGrT2kfJiYRiFVmrAl6WSGkcExMqk8UmqA7uq5WgH68soVsvB6CoVPVmiYuknbmnVs27qd1FiGp598ib/484f5zh/9L37wt49x6rVzjA9n0B0TQwTQMNClRljqpPuSJLuH0C2dFfUrScQbCYWiBAIhAq48wqEo8Wg9LfWtBC2DVNcwma4hQhbKaCstOPEKU+1ytozFwRIz2GoX57cdvERWrLTxVlzWcLeQqNDlanWnrmsYuoGh6yUydQNDMzA03zPDwDQNTNPEMEwMwyAajVFfX0d9XYJoJIqhmxi6gWmYtUn33xslMnRDKbtlLD7cQrasam8wfPV+LhDuRPx0KktP9wCrV69hZesKIpEwZsBUp0qUzl6qjXL/zdxQaqMl9Pb08Na584wMj1Jf34Cm6b5EaqXVnl6Pk46OiYkpgghpIC2JXXAmJatgEzKCbFy/gYP7DyEtuHz+Os/+9GW+/zeP8Zd//n/527/6O174+St0dfRRzDkERRDD0kgPjZMfyVAfjFMfrcc0w6CbOMLAERpoGppmousBQoEYTfFGwo5Jpj9JIZlG2N5iiqlkVe4V1NyP7FQyzeuvnOTlo6/y/LMv8dILx7h08SrS8fedVYVSWhGrYwgTU5joGDiWxCpK7KLEKYCdlzhFiAQjHDpwmPZ1G8mmCpx54yJP/+RFvvuXj/AXf/ZdfvC3j3L86OsM9g0jbY2gHsK0NNL9SZy0RUOsiXi0AcMMoRkBJDpSaKCZoBloukk8UkdjrBE9J0n3DiNSBXRHpZFSOVrGjcYSayHfIcXATaTAPbbG62GrcrK4I6KqV8uyLNKpLGPJccZHxkm5ND4yxvjIqPs7Vn6XHGc8mWI8mSKbztG2ZjVHDh9i//79NDY1MzaWYiw5XqLxqt+x0fK7seQ4YyPjjCfHyKaz2O4qt2UsMha3YC1jMnhir67sM4TSF0L1ZDuSA/v3sWvHNurrYljFIpl01u3lntpomzMDJSi9NTw0xMWLF+np6SUUCqNp5W1FXA2GLJkiJlZeMtQ/ysVzHZw49iYvv3CCl559lRefOV6mZ1165jgv/vwVjj73KhfOXsHUggT1AFZBMjwwxrkzF3nmqRf5/t88yv/539/nh99/nJeff43Oy92khtIk+0cJYJKIJAgGQhQth0wuT8G2sYF0Pk++WEAiEJpOOBihIVZPfixLZjSFtGx3CHBmstIQ5DJ5zp65wIvPv8zQwAhjyXHOnDnH8eOvk8sV3WHSiXkjEBgYSEswlkzTcaWbU6+/xSsvvcHRZ1/lpZ97snmFF599haPPv8pA9zCmFiRgBLEyNr1dw5x87SxPPPoMf/OXP+D//MX3eeyRpzjxymn6uoYYGxgjn8wSFAES0To0TSdfsMjk8thSUrAk6WyefNFGoozZRKyOsBHEGs9RSGXVHLmK746pytgyFgP67/zO7/xO9cObAeH+yxUyXO64RN9gL6vaVrJiZYvaXLZUQHyFpEoB3irFxxsGLeQsjr/8OqdOvolEsvfALm674wiBoFFjmdICpc4NRk1gtenv6+f8ufN0XbvOQG8vAz299Hf30N/drX57eujr6aGvp5f+nh56u3vo6+6ht6eP/p4+cqk0sUiY5pZGwpEA4+lR+nq76e3uprenh96Sfx9199DX3U1fdze93T30dPUwNDiEYRhEopGJB4XPIOkVTqrcz8D77DCDAGfg5IagFh9er+7Q4DA9nb00JprZsH4joWCkQgkv/hzKdwIktiwwMNzNhctnidWFWd++jnAoUsqdmUhZADo6hVyBa5c6OHXyFO//4PvYtWs70rG5fq2DzutdRKNRgsEwQ/1JXjn2Km++eZ6Ghjj3P3Af6ze2oQc0NTTp5u1M4i5DgFtCNCG4dPESZ958C90McdfddxEM6NhOEcdxlI5DDZ1JRzA+nOLC2csce/F1nn/2OC8+f5xXXj7Ba8dPceK1M4pePc3JV89wwqPXTnPi1TOcOnmWy5eu0tvVTyFfQDpg2w6ZTI6RoVG6Orq5dvU6vV09WJkcASnIDadoitTTEK9HNwOMpzIMDAyQyqTJ5rMMDg6iCUEkHHb1sUQTMDQ6DFGTUGMULaiXzmOdiLJpqrlzC3u6Bnj6qecY6B/mttuOUN9Qz6VLV+jtHeDggYMEggHAUVIsyV+Zcfl0getXOnn9+CleeOZlXnzuOK+89DqvHnuDE8dPu7JR8jjx2inOnD7H5YvXGBlKUsgXQYJddEiNZxnoH6Kjo4ur1zro7x+AvIORtyBjEQ/GaUg0ICUkR0fp7e+jYNkkx8YYHkkSCoYIBUMgJZqukc9nKBSzBGIhAg0xbKNKGDVlMzOoDxD3yl0VfPVyBy88c4zB/mG2bN3I3ffdTvOKxmnnZk4GT5+lMikuXD4Pjs62DXtoqVuFjlnh5lbAEjPYJNlChiuTGGxeJZkMk79ZmijkLF57+QSnT76JlJJ9+3dx5I7DBIJGaSm+KA1xLEDqfEHomkYmleXkayf42ZM/YaC7g8G+Lvq7rtPX1aGo+zq93dfp7eqgt7tD/XZ10ONSX8910mMjSCuHbWUYGxugr89zd40+1713X74u3/d1dXD10iXeeust4ok4q9asxgwEK+f7zCDpFU4WTqfUxgwCnIGTG4KaKk6ooY2hIWWwNS0bbIuIGgbbhpkbbKXZnRIMYTA+luaNE2e4du0a733fu1m5qpWrV67w3M+e5/TpMzQ1tVBf10ByeJxXXj7Om2fO09AY510P3Mf6jWswArrPYKtaSToDCG9Yxpa8eeZNrlzpoL19M4cOHAJp09/by9joOLrQCZohpNRIjozz0nOv8Mj3H+PHP3qSl4++xltnL3P1aicd17q53tHD9Y4eOjq86+4SdVzv4vr1bgb6BkmlstiWa/C4/Di2JJ8rMjo2TnJ4EKwCDdEoIc1kVUMrsUgMXTNJpsa5fPUq5y6e53pnJ6OjY9TX1dFQX6/6AaU6mmp4bARiJuGmOHrInNZg0wBdaBSLFhfOX+FnT7/Ali07uOeeu5E4nD37Fpl0ltuO3Mb4WIrUeBpd1wmYptqYRAry2QJnTp7lsUee4Ic/eJTnnnmJ029c4vLF6yX5dF7v4fr1bpe66LrezfDAMNlMvmLDdQDbkmSzeZKjowwnhzCRNASj1IeiNCQaiEZiOI5kOJnk9Jtn6ejs4npXF+lMllWrVhKNRACJJiS5XIZcIYMRCxJqrsM2PJ0y/14SgRpSZoLB9jKD/UMLa7BlU1y4dOsbbEtsSLQ8Z8ATofQRlOeBepXWTzOBP7y50kwhURPzq/2rSfeA5nLuJkpK1JCGdGf7C600IX9iGLMgNwp15wAOmtAo5HKMDA5g51Mc2beRB+7awf13bef+u7dz/z07uf+eXbz73t28+55d3H/nDt515w7uv3MH99+5nfvv2sb9d2/jPfdt573371B03w7efdd2Hrh7B+++ezfvvns3D9y1i/vv2sG7797BA/dU0rvv2ckDd+/hwO4NFNPDJIf6KBQKvk04Z5qrU8A3P3Y6ulGojncxqVZ8nmj9dWwZi4+SATxDgQskmnTJvU+lMvT2DVHX2EwsHkdK6Ozs5dy5SwwPjpEaSyujxt3OAVALjDSvU82354P7djJMKDeAwEEDCoU8Q0PDFAtF1qxcCbZkuHeYp3/yDI8/8gRnT18gn3HIpxxe/PnL/PVf/C2P/ehpzp+/StHOsmptI7t2b2D/wa3sP7Sd/Ye2ceDQdnV92KUjOzhwZBf7juxky/YNxOJhdSqMt684qgULRnTWrl/B7Xcd4v733MvOvTsIR4Ko/fnV+VORWJRAJMSps2/yzAsv4AiIJ+LoerkiSHceMf68mgLeIIiGwLKKjI2PkkqnWLtuHbFogp7OXsZGkjQ3NpLL5PnJo0/zk0d/zvlzl8ll8+jCwCkK3jp9kb/5q+/x8P/9Ma8df5PR0SSNzVG27VzP3oPbOHBkBwcOu3RkJwcO7+Lg4T2sXb+KUFgZHQhfa65BLBFg05Y27rn3du67/y7WrmvDNAPu0YcgNJ14XR2OgBePvcTJ06cIhALE4zFwfHvqeR0HXnPlWyKmMHn5mQkkvj0GPblPL/oZwN9++EvwrY0lZrBNbkVXK455w8vP2dIMUSqIlP1KnwFXEz7HUlbtezMfKgVejlkIcGwHadkkIgG2bVnNnu1t7N3Rxp4dbezcupotG1vZtH4Fu7atY8/OdezZvpbd29eyZ8da9m5vY8/2NezavprdO1azZ8ca9mxfw97ta9izvY0929eyYV0TjQmdhphg+5bV7N2xjr072ti7Yw17t7exd2cbe3asZevG1USCAscqIG3bx3NFAuaOanlU081ANQ+LRP4FXSWqOsJ1GTcGpV5jUf1mcgiUsaYJgeM4JEdG6B0YYHXbWsLhMAKJVSwSi9dx8OARtm3dQSwaVz0WpV5qf05Xl4aZw//pWSgUSKUzDA4Oce3aVa5fu0pXRxdnTr7J1YsdZMdzpMdzXDh7hR/+4HGOvfgGliW5/Y7DfPVXf4Vv/aO/zze+9VW+8c2v8o1vfplf++ZX+LVvfYVf+9aX+Ma3vsw/+NaX+Qff+gq/9o++xpe/9gXuvPd2QtFAuX0QEKsLsWPPJh785If42td/hS995Qu89/3vYf3GdkKxELlCFse2kFKSyWQZGx8nEonS3NJEJpsmnU6p4VupjBDLKiJxMEwD3dQnbYuq4biLtwKBAIapMzQ8wOkzp3j9tdcxdZ0D+/YxPjbOiVff4Pq1bsZGxikWbJCCocEkjz36JD9/+hV6ewbYuGk9v/SZT/LNb/19vvGPvsY/+NZX+NVvfoWvf+ur/No//Bq//g+/xjf/0a/yy1/6LDv2bMMMGooJAUKH+uYER+7Yw9/7wif4tV//Cp/74qe5857bWb9xHZga2UIO6TggbbKZDOlUmqamJuLxGONjY+SyWS84HMehYFvYSMxwEKnhloLy38JAhXMr9XTdLCwxg23qLFuo4nHz4KWgnMpymspfGeB+Dc/gK28+UF9OEkPXiYWDJGJBEvEAiXgYQ9MYGhii41onAVMnEQtTFw8RjwaJRYIkYiHq4hF1HwsSj4dJxCNEwwESsRCJRASkQ19vL92d3YQCIWLRCPFYhHgsTDwWJB5V4cSjYUxdmyCDZSwOvI/YZUnfJMxU8BJlskl1HmY2m6G3t5fk6Ajr168jHAljWUWymQwCaG5uxjRNdE1bNNUhETgIhGHQuqqVtrWr0Q0NoUMqk0ZoGmvXrWXDhk1YBcnx42qeWjqTYf/BfXz6s5/g45/6CPe9+05uu+sgh+/Yx6HbPdrLoTv2ceiOvRy+Yy+H79jHwSN7ad+wjvH0OKl0FmlDpD7I7oNb+NCDv8AXvvIpPvPLD/GBj7yXA0f2s2rdGqINCeJNjaRzWfKFnDLKgLpYgiMHDnH/PffStnIluqYhpYNAbU80OpZENwXhaBDdMKboPlDwPoYcHAzDYPWalRw8vI9sPsWFyxeIJiLcfucRtu/cQj6XQToOmzduYm3bWiLhCLlckUsXrvH8c0fp6upl7bo1fOjD7+fTn32I93zgXdx5zxFuu/MgR+7Yz+HbFR267QD7D+0jloiRzqRJZVJgwIpVddx21z4++ZkP84WvfJpPfvaj3PcL97Bt9xbqW+tJtNZDSCNTyJLP59SBVhLWrlrNvXfeze2HDtPS1Ijt2Egp0YWgWCiQLeZwAhqBeMTdgskz2Wf34TEjLHR4b0MsMYPtnYfSKIlU/8pfkFMbr/NFpWGkroWQSByEUEfCnDxxjueeeYmzZ88zMpxkeDjJ1avqOJw333yLkZExNaF4LM21a9c5d+48p8+c5dy5C6TTWQp5m77eYc6du8xbb13mjTfOcv16N5lMrqwIvT3bFqon/GZjKg2/jHc0ZjLMVglvGwVBoVik43on1zquUVcXZ+OWdgJBA9u2ALBti5GRIcbHkzjOYq22VoNhDmAGTHbs2sED77mf3Xt30thUTyozRjgSZNWaVTQ0NjI+nuLkidP09w3T1NzEXffexr0P3E37prXUN8eJ1YeJJEIuBQl7FA8SiQeJxcJIaXH12hXOnDmFGTbYsnc97//wA3z68x/nM194kF/82HvYf2QX8boI/UP9XLx6hd7BQXKOTd62SI6Pks1lCIeCrGtrY9/uXRzYu4+tGzdTn0iUei7HM+Mk00ki9VGiiRjo7gjHDOBIELrGypWt3HffXWzesoEVK5s4dNsBbr/zCA0NCTKZMcKRAKvXrKSxqZFAIEAmk+PcuUtcvnQdIeDgwX088N772L1vO80rG4jXR4gmQkTjLsXChKNB8lae1954nWtd10g0RTh8504+8tD7+Hu//BCf+txHeM8H7mXH3i00razHjJg4hkRETUKNMSxhM5IcxrEtEtEo27dsYd+uXezbtZtN7RsIBgIgJLZdJDk2Qk4WCTbGMeJhbG8fTtdYZVnd3XAsG2w3GeWVMm7h92rADexpKkWJN5dOkkpnuXatm7feusSli5cZGRllcDDJ5cudnDp1nuPHT3P61HlS6Tydnb0cO3qcl46+wpk3L/DiS69w7Vo3hbwkm3Xo7Orj3FsXeO3VE7z66hv09Q3hOO7cPG+I2GNitm3aQmAh41zIsJbxtsKse4+FWyc1jXyhwODwEFI47D+0h7XrV6O52661rmqhbd0qhO4ghY309l9YROiGzvr29dx+523s3beTRF2UQiGLFA75Qp6RkWEGhwa5du0ahUKRdevXsGPXFlaubgZN4ggHW9qKsHGqSGJjU6Svv5dzb51FajZ33XeIz3zhIT7/pV/iow99gMN37GNVWwuhiElvfw+vvvYazz3/Aq+ePEn/8DBmXYQxK83Q2CBSFmloiNPUWE99XR0rWpqJhkMUi3nG0qMMjQ9jBSG+qpFAIoIj3D0xp5Sja7y4H9rhaIjNWzdy4OAe9h3azc49O1i5uhWhQdHKIXSHVGaUTDaFbdtk0jk6rnUxPpanoSHGzl3b2LipnUDAwJZFLEeR7RSxZREbi4KVp7P7OucvnaOuKc57P/Au/t4XP8Fnv/gp3vehB9i5bwvNKxswQzqOsHCkhS1sLFOSaG0gWB9mNDvGyPgwpiloaWygLh6juaGB1uZmgrpOPp9heGyY4UwSLRYgsboJGTawBTil+dDLxtrNwBIz2NyulqWMWnOCqt3MEX6FLqsOg19o+L/2KyUuEELHNAJEIhHi8QStra1EozEEJroWIRCoI5vVOHbsFP19I3R39XHxwlXGx7KsXNnG4OA4589fI5nM4kgd24G6ugSxeIIrl6/T2TlIsejxsAAS9OXJnItPjXydM/z8LEF4c9iWcZMwmzKquR82mk5LawuHbjvAXffeRrwujCNsNFNjy/bNvPsX7ufI7QdpaW1BN3Sku+pxPvC0cTXhztkKBk3V6xMOgG7T0FxPLB4ll88yPDLI+NgoY8lRELByZRPNzfWYQuA4FhU1X+JaAX7BaBSLRdKZFOFogA999H18+Wuf4+Of+iAHb9vFytVNBMJq+yPLshgZGWFwYJArV65x+sw5xvM5Gta3ojeFSRaS9A/3MDo2xMj4KCNjI6TSKdLpcYZHBuhP9pEVeRraWwm11uOEdWy8VWCTwX3n7ZyL+tUDGrG6KHV1cYJhE4mDbgoaGupoaIwzNjbMeGoUy7HJ5XOMDI/g2JLGxgZaVzYTiYawsLGlhSMdHOlgSwfbsdW1XWR8fJgNG9t46NMf4Ytf/Rwf+Mh72LprEw0tccyQhiNsHLV6rTR6YWETbozRuLYFoz5A39gAg8kBkuNDJEdHGB1Lkk6PkU4nGR7po3e0FxHXqFvbTKg5QUF3sNwtABdERy5jTlhiBtstgokabI5wK5TX0+Sfw6bNZQhl/pCAEBrBYIi6unqam5vZuHEj8XicVCpLb+8QyWQGxzHp6OhlZDhFIW8TjcbYtHELe3bvY1XrGkaGxxkdTWEaAVpbWtm1ayc7d2zDcTRGRzPkcpZqiBYqifPOi4XKUxcLEcYiwZvDtowbi9muEvUaRQeJGTRZuWYVW7ZtYcXKZjRDHeuGJkjUxVi7fhWr1q4kFA0ifL0gi4XytHMHBwspbbZu38K73/sAd9x5O60rW3Ech3w+jyYgGg0RDBpI7ApDqLLxn1gBV7S2cO/9d/Phj36QPQd2smJlPcGIjtRtFa/jkM/lKRZsTDNIIBDCsh1sDcy6MC0bVtO0rhU76HCh8zKPP/tTvvfoD3n6hWd569olRotp9LogKzatItHWAhEDS3NX8U+rf90hQpdliURKx12dauNIGxsLM2CwYfMGPvCLv8Btdxxi1eqVGKZBsWiRz+WRtiQSChEOh9ANDQdH5btwVG+payZJbDQD2tat4UMfeT/v+8AD7Ni9mbrGOFpQ4GgOEi9+dQyYx6WNjTQh2pKgeeMqYivrGbVSvP7WaX7005/w/R//iGdefpGOvuuM2yliq+pYsXkN8VUNOCGdogb2hL1Bl3GjscQMtummeS4QpquHNxBCaCVF7jfapLN4PWzeSlW1hFor68+y5kTXDQKBALpuEAyEGRvNcPHCVVKpHNu27mTL5m3YtiSft5BSEAyGiCcSxGJxQqEIxYKFZVnouk44EiJRlyAWjyIEWJb6WrwZBukylnvYbhZK9XkOxV7TNILBIOFwGMPQEe7m2wg1PGkGTEzTUMYabiYvMjx14QCOkDQ01rNl62Y2bFpPIhFDSgfHsRFC6RNNE2UFMwWUGag2bq1rSLB2fRstq5sJx4Lopgaa6s0SQCFX4NiLRzn64lEKBYvVq1cDNufeOkumkCdYF6Nh3UqaNq+lGDP52Ssv8b9+8DDPnXmdbFSjecd6GrauJryqAS1iYmtqjt70XJbhma5+CCHUYgbpgAaJ+hhbd2xibfsaYokImgDpODiOMqw0XUfXNYSmttLww20RQEp0TaO5pYm169tobmkgFA6gGaLUy1erBZWooUxLSOyQjtkSp27TSuq3rKGnMMqPXvg5f/XYD3nl0lmM1fU0bGmjrn0FgeYYhAw1DApzK7jLWFAsMYNtcSfal+BpmoWiKSCo5U66++FUpraih809sqr8cpY0AdVhyZK8S2+8RgAIhkxisTDj40lOnjxJT08vo2OjJJMjDA0PMjDQh3QswEbXBYGAgWlqaJpE1zU0TaBpEtOEYEDD1EHXhSLNPXDeo0nhvqtO21Q0H8w0nJnEOdlzD9VhLBa58PJZeGXLz8sybix8+TIbeAZa9TMVnPeiKuN9qP10/vB25TJMg0gsTDgURDOE6k1zoWll3TIBJSVU5lCi9k8zTJ1AyMTQ1WkE3kkBOjp20eHales89/MXcBzJ1m1bOXBwP3v372X12lVoQRM7oCHiIYLNCUQ8TOfwEG9e7aBrPImsDxNd04jZFEVGdGx9bj3+5VarutIJNyUS3dCIxMKEwgEMXTW7svTPy1s3HFce3jPvV/XmSYJBk2DQUAZeyfnUjEtUD1lRk9hBDb0+TKi1nmxQcGWoj3Pd1xkoZAi1NhBcVYfeEMYOaVia11c3dfiLgclL8jsXS8xgW3wsRrGrFab3zP/rbWbp9SwLr6Li9a65jl2Ubheq1Lrr0L0K7lV2BVcpCIHt2ITCJuvWt7JxUxvZXArdkKxbv4rWlfUUimMEAhb79m2lpSXOylWNtLevobExhhAF1qxpZOOGlbS2xmlb08CGDSvRdYdw0GTLlvWsWd1MIKCpb3NPQwqqqqj6nflaLRezdF7CDP3VyusJmGFYiw1/mVvG2xWqEVfNqtc3VB4OwysHMy27s4YXslYZg3DUkK37TJT+le2S8gsmVJpKJ/70eWVaIz2W5eTrZ+jrHWbz5i3s2LGV9o3r2HtgD/sO7SMUC2NrYGkgAzrSNMhLSbrgkEcigwYiGMAxBZYGjiZxPB598c8EJYPLM6pL9pfSYFJdgtcfV71/sc+/WoimFqNpQiA0dS2EMii9Hj3HHTxVfWozUzpSqDQ6ugZBE8fUyTo2GbtIUQcRDUI4gG0oY80Wk530MHsZTQ4VkuqwUN3//tTMLGW1UPZZ3bbeqnjHGWy4xWMhaTJ47/y/NZ+VNFhVAfP3uM2SJpR4iTLR3F/PYMOLXwhVHISGLR0CQZ32Dau59123s3X7RlatbmHPvu0cPrKbzZtXsW/fJt7/vntoa2umfcMadu/exupVTeiaxdatbezZs5H165rZsqWN3bu3YhqCWDTEoQO72LSxjXDQACnKpxr4tzSp+q1O21Q0J7jRzTSsCe6qZe1754q+gqr9LxZV8+rn0c/yMm5dqHz0jLbyX+mrcNHhahK3VVc7O5ZrsnLh/bq75Psm6ZdrhYfydXV5ViTRhIa0JYMDSd44cZbGpla2b91Gc3M9wYhB88om1rS3YQSDSKHhINSsLiHVNsRqJ2KkEOUZX1UT6kt1ZhZi9NtsVORD2WiTeLq9KmzhC6D0yPdR7RmCpZC9P89kqw5QoVJ2pdDKb904pUuOJnCEwBbKRJ7Aoo8WAp5h6kFN15iYmokpmw6VnC8bbIuChSwKSw/VZWYqnbp4iw7KMlZfchoSDenoOI6G42jYjsCREAqFWLNmNe3t60nU1dPY1MCGTevUl2z7WtavbyMSiZCIJ2hubiESiSElNCTqaGpsIB6L0lBfR0tTExo6pm7S3NRMPBZDCB1pa9i2hmMLHAffTOnq6noLoVaWLbSWmwWqFa53cRNYecdjceqzV1vUIgTVq+VSVXSLE7tXyFSDX/WwdKka5ur3tag2hKsvBaChYVk2g4NDdHT0sGHDFppbmtF1gSMt0CSabmA7kMsVKVoWjlTmoseBmLDP5UQjYW7yqkyLxDsasDxWUFYFlUpB+VJ81Cork0tq4pOpoeLVfDJQfLoycHmdbahzgjc1Z5r0LkNhiRlstaZMvr3h7+nyY7EWHXiKUwjVm+Y4kM8WSY5kSI5kGBnJknRpZCTNWDLH2GiBsdEcY6NZ0uMFMhmL8bECo8kco8k8Y6N59zrH6EiOZDJfeq78Fkkm8ySTBcZGC4wm84yM5BgZyTGazDKazFAo2Eg5mTSWsaCY6ni0ZSwa5rPo4FaAauwXs4FV5poAbLtIOpMmm8/T2NRMKBxGIrELRax8ERzBUP8Ib546R9f1HqxisTqwJYWS7BZPeBNQ2gOzGjUfLhKEAGqfcPM2rSbzwhIz2N5hENrilsopPk+kdDBMDV3XGBga5ic/fYaHH/kJD//dEzz8yFP84JEn+cEjT/LwI0/w8CNP8IMfPsnDjyhS10/w/Uee4OEfPsnDP/opP/jRT3n4h0/x8I+e4vuuu4cfeYrvP/IU3/+7J91wn+DhR57k+488yfd/8ATf+8ETfO/vfsKTP3ue4dE0uhlA0/X5Ky0v3TOldxgkvvmU1S+XsYx5YDGrk1ddvc0r1J+6EwKGBgd54+QpTp44xVhyjJeef4lHHv4hzz37HF2dXTj21CdAePXB3+v0zsKyNljqWGIGm/aO6WGRUu3BVqsrGPfDY7J3M4Ff+Xjkt1EsxyYUCrFpy2b2H7mNeNNKtHADItyIFmlCizSjRV1yr/VoE1q0CRFuQkSaIdyEiDRhmQmsQAIRbUaLKRIeRZsg2gSx5hKJaBNatBkRbUSLNBBvWc2+2+9i/abNGIEAjlT7EM1FYVaneTZUbcfNlBDVXCxdiFIfxTJuGuZSsG8BVNcnL52lejIPSFQPlCPUZHvd0Glqqmdt2wouXzzHSy+8xBOPP81LLxxjsH8Qp2hx9fIVxpJjaGgYhoHwL2GS0u3dKdcF/93C1e3JA6glk3mo/NlDeP8qcq36Z0Hyb3JImHScaRnVWGIG2+IWjaUG6S0E8GppVdfSYkrCkQ5m0GTD5o3c+8ADHLrjHvYcvrsm7T58N3sO3c2ew/ew+9Dd7Dp8N7uO3M2e2+6lfft+9GgjWrSJ9p0H2HPbvew6cje7Dt/FTpd2HbmTXYfvUs8OqeudR9T97iN3ceCue7jrgXezbuMmDNNUexfdKrhF9Yy/cbpFk7CMaeFZTJ4mqdQoC57vEoRUm3z4VyerJrkGJk6zK6HWc691sJFohsaq1Su4777bqUuESQ6PkB7LEIslWNm6AhyHfC7L+nVr2bZ1C82NTeAbrlVcTmxv/Dz739XiZ3q44UvvuhIqzFrP5xbbrDExavB0wyTvFgeTDM0uYwKWnMH2Tso47wNP4M4n8BlsaiXRIkjDjRMJQhMk6uto37iJTdu2s2HLDjZu3cGmrTvYuGUHGzcrKt37aetONm7diTAiXLjUycXLXRiBGO2btrNhy3bat2xjg0ebt7Nh87YStW/exoYt29mwdQcbtu1k07btrNuwkXhdPUJzi+QN0lkT4MlnpnQLwitnKgm3aCJuZSyAyKuLYXWRLGmOqiPuqndt866raSpUu1XkrgAFX+yuwVJ9XaXWJoY1NRwkUoP65nruuud27rz7CNu2b+bAoQPcc89dbNmykaKVx7aKNDc10NjYQCAYcEcsfPwoJQs14i1fuwboDPjyUFMufuPUfem9K8OfT5PTYmCxwp0eXsyL0Na9DbHEDLa3NyYOcS5mFZweEldx6BqaYaKbBrphYBgmpukj794oU8AwKeSKnHjtJD9/6jmeffoFTr12mkLOwtA9vwamaWAYOoZ7bZoGhmlgmCaGGUA3TDQjgKYZNeSzjPliKpkqFemtS/M/W8atAYmQzgRSG1koY0QI0PzuUL/u+QSle49mXgLU5telMN04/b/u+nPVyEhltGglNxPjVuFNzkK5aXeHRQOC5pWNbN+9mZ17trB771Y2b11PPBHBKuawrDzJ0UH6+3sYHxtF08oGkvAd+aR6Bd20OC4ftfhz0zQzeDL3DFl/PBLNl+ZKWfrclsjbAcUTzkx5mDmk969qL/PJtcdCYeHT8nbGssG2iJi4lN2/SlM9Fxqqq+0Gl1uv2pdVt9twuz19ziQkkeqIGQkX37rAC8+8xKWzHVw518FLzx+j48p1NbnX/bL3ViKVpwd7n5rq3D21HLbMAbiyuMHyKMGvE2vRLYgJZc7dNd07XFo6KmEq/8v+aq3cWsaNh793RZMOmlNEs/JohTxasYBWLCCKeURR3Qs7j+4UCBkOsRBEAwJTFhFWDlEsIAp5RMH1X8hDMY+w8gi7gLAtcMtDNUp8OBJhWcpPMYdWzPuogGYX0KwChiwSMSEagKBmo9kFhKPeeXyX+S9AMQ/FAjoOmju0Wg1RMgJthFNEyDymViTgku7k0ew88ZDO9k3riAY0ZCEDVhbNKRAyHcIBCBtgUkRz8j5+igirgGbllZxK5Mm2iLCtkmFVGwLpOMqdXXRlVA5LK6r0C7uALosEdIewCUHdRncKUMiW8qlCRlYBzXb5c+wp4p8GVT2u0nF1dElXy0k3Xl4USGCSbT0WCovK/w3GEjPYFn/RQXX7OxlNhWq3k9F0EEIgpFBfUG6yvflbFfuw+WyY+VC1aKvfO7iTeieQOovOcfcT0jQdK2/x5E+e5tSJs2THCoyNZHjj5BleeP4oqfGMu6ea5m7IWA4fd48f9W3rN+O8oYfKIYhqHiejqVDtdjLyxzsZTRvZdJhhXs4U1f6mI0/+fltsNvEtY+4o6ba5CFyqIzR1x0LkxskN95Ed6iM31E9+aICCj3KDvURljsM7N/DJD93O+951kJaYRnFkgPxAL4WBPkWDfeQG+8gN9pMe6CUz3E8xMwbYkzIppASrQGFsmOxAL/nBXnJDPeQGexUN9ZId6MEeHWJF3OAD7zrIQx+8g31b1xJycmQHeygM9VEc6qc43E/BpfxQH9nBPvLJQUQhp3qgquKWrn7QpQ25NPmRAXJDfRSG+skP91EY7iM/qO4DVo479mzlngO7aF/RQMDOETct7rltGx/74EGO7G0nqhXIDHSSH+p1w+gnPzxAfmhQyXKwn8Kgkml+sI/cUB/F8TGEZbkGZbWMFMeadLCyKXIjA2QHe8kO95J1/eeG+sgN9pAb7CbkpDm0az0PfvB27rt9B41hyI94eaLk4afMUB/p4QGs7DjY1gT5zAb+aRHVkNK3JSbufMQp5hsuRZRbEXU3WXm+1bDEDLYbKNjqltifvzNFtd+5hOFCSnUoe+m+eh+26jjmQn64z9SmjuX9kxT5/9xn0j3/FI1sJs+ZU2d54dkXGegZUvrdgt7OAZ79+fNcOH+ZfKGo9nqTlI0EygfPl7VAqb9/6ryvTkutNE2Fan9zCWOhUB1/NU0tidqoDmMS8no8K+KZdWTLmAtcyc8ZAolwLMhlcDLjBB2bCIKIgIgQRIW6DklJa32M++88xK989kE++ZH3samtlYQhiCCJCY0YQvl1/QcdC5nNYGUzCMf2F8UqHgDHxslm0AtZwtImgiQiFIWRhKRNzBBsaVvJJz/2Pr70uYd41x0HWdWYIChtwkBYQARFUSCCJGAXsTLjSCvHZEewC0CTNrKQw0qnCFg2YSnLhCQsBHWmycbVrWxbt4bVDXUkTJ21LQ189APv4mu//BDvv/8O2prrCcoiYSEJC8VTGEVKppUkcjmsTArHKkwqG2XYSOxsGnIZAtJW/jUVhopDEsZmZX2U9953mK984UE+9oH72bx2JRFNEsJx4/TJVUDAtrCzKaxcGuFMblTPFI4zeYmsfl4rvbcSbnX+PSwxg+0GYarcm+qdH1O5m+rdBKiqIaXEcZxyTZlVGIsPKUHTdBxH0tnRyY8eeYwL565QyFquA8iMZTlz8k1efO4lksOjCDTVi+gPaLKWYCpM5X6qd+8UzEYG/kXJ1e+WsaQhQPXsODa6I4kGwsTDcWKhBPFQgphL0WCMxvpGtmzaxOEDB9m7aw8rW1YQjyi3iXCCeFj5SYQTJEJxYoEwptCQll3Z/VoDUjoIxyao6cSCYWKhOLFQjFgoRjwUIxaMkQgnWNnSyr7duzhy8ABbNm2mqb6JcDBKNBQjGowRCarfaDBOLBgnbIbAccDxeKhVsNWIBLaDsCFsevEniLq/sZBKX328gYZEA4logng4RktjM3t27uL2I0fYvnU7LY3NRIJRl/e4j1RaYuG4IveZqelIy0LaFkLUGrJVvW46gGVhCEE0ECIRSpAIJYiH4sR9cTTVN7B9yxZuP3KQPbt2sWpFK/FwlHgoRiIcV3lTohjRQAhDSrAsqNEDOVss4ijkksFcmpuljCVmsN0g8U6tj+aPGYYvBGpVpObOKXIcNa+L2vPfbiaEpmEYJqnxFK+9epInHvspoyPpiukO0oKh/hGee+Z5Ll24TD6XR3NXffrnT72tMcO8nw6LJaW3vfyXMOYve6UfBQINg4ARJmDGCJoJAhUUU8+DcULhOkKRegKBuEsxzNJ13PUfJWCGMTS1V9lUWzpI9+NNoGEaJsFA2PWv4gyYcZe8+BOEogmCoRhmIIphRDHMGGaJ4hhmTJERUUflleZS1WZEAkihjrszwiqcgEdRlcZgHNMN1zSjBIJRQqEY4XCCSLSOUDjhuoljGDEMXfETMGMEAl5aPB6jBAJhDD2AEFpZPjXYU3PsVMNqCoOAHiZgRl1y88WjgMtPpI5IuI5QIErAiBIwYi7FCRhxgkaMkBElaIQxNRNdLMzUoQkf028j+C2JGtl0y2KJGWxvE8ywFghNwwwEMAwDRzoUCoUpu6lvDpTi1DQNy3a4fOkazz7zApfOd+AUKienAhTzNmfeOMsLzx2l63oPQlYeaPy2xwIldWmVgWXcbEjUWY8AOO7cV3SENKBEpvrFREodKTUk7nMCIIIgAiBMECZCGAipI9DR8H6VMTCV0aaaeWU2CqEDhgqfAKDCVvEEkOiKF3Qc91eR4hNMBCaopQbu3CNq1oAJVUtoIHSkMAAdpIGUJrajUyhIbEcr8+Lypvgx1K8IYEuTbFYyMpLBKmrlNGCAdHmX6lqgoQlNncE5kb0KCCnQpECTGkLq4JKQRlWeaeBoSEdDOpV5WXar0iakjq5paLVksYwpMU123TJYNtgWCzUml1dD0zQCgQCmqePYNvlcAatowSQrpG4WJBKhafT1DnDs6HFeOfoqsjgxUQIQDowNZ3j6yWc48dobpFNZdPTFVTE1ZF1L3jcM/oWuc0m262fJpGcZNx3+YWyvLEzUEr5SItTU0oLlkCtYFCwHNeNCGUWVYQiE0N3VwyXvE+Fu9C3AXS7k8y9dEpoyztCx0SjYkqItsR3/SKsXuj+Wyt6e6nIvUPPDNNTii3IClC+JQGpqQ5Px8Qxnz11gdCyNZYNlSwpFR/GAhu1AoehQLDrkiw79gyO8/sYphpNjFC1LxeaetazSqyJT1wLNpVoo8eu+VtLxbc2BxBGKVyk0LAfyloPlgC3VMynUR245f9WvcPduq8jnZbyjsMQMttoTTSkV/EkUyVzg1wjVtEioDtowdELhEIZpYts2hXxeGWxVKLOmKnElTQx3oSE0QaGQ58SJEzzzzPNcv95T7aSUL1KqodGzZ87z4gsvcfnyFTVI4K6qko6ruRda5gteQKZANe+1aL7wp2cB0+Q4cropSstYJJQWEc0yPycUK+ENGfrLiG8BjwaWI+npG+C1E2/w/ItHeemlV7ja0Uk2m5+CgZkOkZVqu7oTylATQg0GCqGTLxTpuN7FsZeP89zzL3Hs5Vfp6urBtp3SNIlKqBR6IdfiQ4A7Hlt7oZImBIVikUtXrvHY409w4cJlLl65yvHXTnDslVe5eKWD8VSO8xcvc+zlVzn68nEuXLpK3+AIJ954kxdePMZLx47T0dlNoWiDKO+6VuLHF2UtHitRdlxdjYu2ZGAkyetvnOLFo6/w3PNHuXDxMqlMFqHpvlQtghJwsfRGcxYW/hIyv3RWhzS/0OaDWjXnpsIThffrL6olvVRDfDMVob/4T0XzhstnNfmhaTqRSIhQKIDjSDKZDLl8DmqaYtWGmvcFVh3qPDBJT5UQ0N3VzeuvvcqFC+eQSIwI6CEQXueZAE2HQEigB8Eq2Jx44ySvvvoao8lRNM0bSFGhVstF1IhXujzNGq6fGYdR5X4qquZ5OlIMLAAmyZtp07aMtwVUMfJqj9puR12pt/4/EFzv7Ob1109z9uxFOrt6+dmzz3Ll6jUKhQLCrYsqxHIM5dAnKbb+nmOfflN8uXELgS0lnd29vPTSK1zr6ObsWxd56ai6BsPbfNJfin0o39cu2hWl35387/GujOJcLkdv7wDDyVEuX+ngakc3Z89d4qWjr3LpSgc/+/kLnD1/iTPnLvDGmbNc7eikp2+InoERTpw+y6kzbzE4nATN8IXs40BUnkrjR6nOO5NoZwmaZjI8PMrJk2c4+cabdHX38sKLxzh77gKZTN41fKsxIaS3B5Z8svz57C+vtfN/sVGrZCxJ1Cz8TPZwflCVcQqapLKWMM1rD0JAXV2CWCKC48DYaJKxkVE0CZrQ1Pwv5XJmCa3B6oxpEggh3IUFDuvWtfH+D7yXz3/xE3zui5/ik5/+ODt2bSUUNolEg+zet4NPfPrjfPpzD/GJz32YO+68jfr6euzSnkEqIv91TcwgqdPCL7qZYCp3U727kVhEPiSo/hVfHPOfJP/OhNeYl9TEAoixXGc8g8ozztwrV2dJd/HS5asddHb3Ea9rYMPGzaTTWdKZrNo6SKge7zKD1Ypgiro54a2fEwBBLlegq6uXzq4e2trWsXLlKsbHM4ynMmi64TY7fqEo355ppN74/5fdle+l2mzbnT4iUOnRNYNwJEo4EiMUjjAyMkp3dx+Xr3Rw9txFevuG6O0fJlHXSCQaJzk6zsDgCIFQhDVt6wGdvoFBRpLjCM10OfAZbV7PnlBprkDpgbvaf4IDt44hGOgf4vLlawSDYda3byJftBkbT2NZNkxYDODdLUBBWmJQxbbc6y+E929hMf8ga2TmTcASM9iqC+o0WMRy7OmzmsQ0+TdDfgSS5hVNtKxoQmgwODBCx7UOrIJVmi8hpN9wqw1BqeTPnUoK3E9KQUkpaWxs5IF338/X/v6X+cY3v87Xv/GrfPXvf5l9+3cTDAWIJaLccddtfPVXv8yvffNX+eY//DV++Vc+z5HbDhOOhNSWJbOB0mvzw2z9e3FWk/duKaAWb7PAdIprmtfLmCG8lY5uLapEzYczhC+DZGloVJF067CD6q23LItoLE5zSwuxeJxwOIxu6Mqvt/FiBWrU/8ngLyhVTi3LIpfLYdk2DY2NNDU1EYtFCQYC6JoOFXN0K+OaSdEWuHZT6UQGb4qFxDAMorEYkWgEy3IYGUkyNpYinckyOjrOeCpLKBShvX0DbWvaMHWTfL5IfX0DmzZtoqmpGduR5AtF0PyLINx4vDydgkFlRFb6LEEI1QuYz5HL5wlHozQ2NRNPJAiHw5i6Ue3DJ59p8uQWhVeGhTt3bzEwv4/ParlX3984LDmDbcqacIMwv8ydeX5KAStaW1i7vo1YPMjQ0Bin3zjD8HASaUu1CqxkuJW7/ifQVO/mRQ648xwi0QgrV7Wyrr2NtevbWNe+lvUb1hGJRpBIzIDJitYWNm/dxJZtG9m6bRObt2xk5aoVBINmqemat2yXMS+o+UbVT5dxI7DwZV/phmpoQtDa2kIoFKCj4xrn3jqLGTBpamogYBpqrzOEq/49g0n6dK9/jlhtlGKuciKlQzBoUt9QRzBocv78Oa5cuUwiEaWxsc5tcdQZp3OC8MXpbX3k40HTBKZpousavb3djI2NEY1FWdHaSiQWwbKLxGJRotEIkXCYSDhIJBSkLh4lEg4SjYYJh0LoujIspZDuxuLutW/67ZQQlb3VJbgLN+rq6qivr6Oru5tzb51DE4LmxgYikRDYah+6Su/TxjhreNNU3pmYX8onGxJfbCwxg22xMBND0HOjyJtEW4s0dwd/6ajd/ydQqRuuMsxqktKhrrGejVs20bZ2LelUhtdff4PLF66QyxbQNN0NxzV2qg0qNx5v7zbpngc3HWbiZiKEq6jK/3P5PNl8jqJtoxk6ZtBEGBo2Ng42CFstGxWL0VjdQvA0/Iw0/TLefnANoDnVu8mgVmWW9Ykfkk0bN7B79w4SiQiFfJYjhw+ybm0bAdNUC3+q4GokN6RyeNUxlFPgXgmlDUp/Un28rV+/lv379+I4FpFoiP0H9rG+fS1Iy9VXZYNkplJRnYJKD+HxJL0rUTJy4rEou3ZsY0VLM1s2b2TVqhWsXbeaAwf2sLK1mZ07ttBYF6W1pZ6tmzewa8dmdm7fQiIWpn19G1s3baCpvk5tkOtjbtpqXJrjp47jU2xVGpRKRg6tK1rYt2c3K1oayefT7N69nc2bNxIOB0FaJW1bK0ZPbtV5cytigixrCnYxMJuIlISllNi2Q7FoYdkO9k1YtKF5jfxSIHzd+siyAeIpgrmRG1yJqt/XcjM5IUHaqudJOK49UoNwvI1wJ4bhkWU7mMEAW7dtZffe3QgN3jp3iZ/+9OdcvdKBXSyi65o7LOlg24ocjxwH6dg4UmI7TumAdttxSid0VpPnTv1OdFeWh3CpulYJNF3H0HU6rl+nu6+HbCFPMBIkVpcADRzHwZEWjrSR0kZKtSHwRLnXoHnl9dKjCZkuy0b9zSakVCypyva2k/3NJ1Stkm7ddJW+37iZFfn8CC8sR+kidRCwS7akLhZl+9ZN3H3nYe664xAH9+0mEYuAdHBsG+k4LkmQQpVJW5VNpDoaD3cj7wk8IN20eSrBc+fgSBvHsaivi7F37y7uuOswd9x1hM1bNxKJhrFttUu/Fx7e4oVSefTCr4xb6TaB4+olzyKSlPWTlCAdm7pYiDuOHGD/np3ceftB7rrzEPfec4T77r2NPTs3c2DvVhrrw7Q0x9myZS07d2xkx/aNxKIGG9atYsvmdTQ2xNQRVNJ2T1/wT01z+fHlh8e7Uv0e/+47PH2K684iEg6wccNa7rrzCHfefpCD+3fTsqIBTZOuzvTJvBSGxLEljrOQesTT6gpSKvl76alohxeBPB3kuLLxFyz1aKKfWVFFXfOicOXpy7/JyZW7BNu2SY4M8eqrr/L8iy/R2z+IbZfz5kbQEuthcwtLNXwZWBOTvCgNJyLQhFCbHmo6mqajazq6bmDoBoZhYhjGjMk0ArMg0yWjisxSvBs3bebuu+9m69atjI+nePqpZ/jRIz/mjROnSY2lEFIjYAYJmkECRhDTCBBwyTSCmKZHgRIZuvuuRAEM3ax0Yyh3hm66FMDwuVfxuHHqATShYxVthgZGOHnyND969DHOn78IGqxqW8matasRmsARyhD0DnWfNINqYRZOlzEf+Gqar/FdFv9Cwi9NXz3wC3428LyXulUk0jWQVCPvEjaaJkjEoqxqbaG1tZlEIoKuS3Xor7CQLqmvS/ejCnf4D8p9N7IcsXR1qkRi4xmhDhIVp8RW4WKh64JEIkpr6wpaV7QQjUYQmsSWRSyK2NLCwVJ+pK3CKTVM5SSXZeSNK1DqwXLHFdwPTwcHGykL6IZDU1OMxsYILS0JVrbWsbK1nhUt9TQ2xGisixEICIJBQSxqEoubxOIGmlYkHNaIRk0MU+LIfCldjrRxhPthW8mgy4XvWuCOMSieHFm+U+m0EJpNKGyyYkUzq1a20tiYwDQ1bFlUH7ooOSpSYZSND5TlUR3xQkAJuBSsrJHWhYIbVY02YgHjLCWk+rFrvU0DxZkyZ4WAbCbDiddf59lnn2dwaASh3dj+Tf3f/Jt/8zvVD28GBICQ5AoZrnRcom+wl1VtK1mxsgVd0131UdUB7F26v37RCQSapgw0XdPRNQNNMxBSA0dg2xLbcnBsiW3ZWEUb23KpWCaraGEV1XuraGMVLGzLVt2iBct976di6bpYsCgUixQLRYoFdV+ifIFCwaKQt9CFDo5gLDnGtatX6e8dYnBoiGQySXosRSaVJZvJU8xZFPJFirkihWyRXLZALpMnl827vwVy2SL5bIF8rkghVySfLZLPec/U84p32YL761KmQDaTJ5PKkhnPMpYcZ7B/mJ7ufq5evsaZU29y7KVX+PnPnudnTz1DV1c3bWtX8973vZu777uLRH0MKWz3U78Mf8VXw6NVeenHJI+XAhaMtQULaHaQUk3ulVIyNDhMT2cvjfFmNrZvIhyKVMyJekcPYy8IBAgHW+bpH+7m/KWzxOrCrG9fRzgcKdWBmUpZQyAcC7uQIZ/NoqFhWUXyhSz5YpkKVoGxVJqOzm4uXb7KwOAgEhshLIpWlkIxQ8HKuZSlUMySLaTIWDkcw8CIxkEzynW0qhxIu0ghPYa0i4BDvlggX8xRKGYpFnMUinmy+SzDIyNcvtxBR0cnmUwKIWzAIl/IUCh4bl2+C1myxSw5q0AwGkUEQkh3Ww0FxYuaAmdjFXIUchmElNh2nkIxS6GQIV/MUCimKVpZl3LYTh7LzjM2Ps7lS9e5fOUaY2NJNWVDsygWMxQtxVPB5alg5Ur8Faws+WKGTD6DJcCIRNADQZc3X31B9fxp0qaQGccpFnBsh6Jtky/mKvIoX8wxOjbOtavdXLpylaHhQWynAMKiaOfcdOQoFHPkCznyVo5sIU2mkEULBjAiUaRuqE12ZwivpLldGEhbcubUOV55+XXGxlJs37mNe++/k3As6FsN67lfDJ3lG952d0W4ermD5585xkD/MJu3buTu+26jeUUjUngf/7ODUAkglU1x4dIFcHS2bdhNS90qdGGW3UwDCSAlyZFhjh49RjqTY+euXTQ3N6tSMIt8mA+E45SW2tw0SOnuBK1LRsYH+OlzT3Dy3AkO3L6P3ft2YhqmWzW8rnBXgJ6M3BSUqrYQpflf+VyB9HiGVCpLNpsln82RLxQoFAoUiwVA4jheF7QKq/oLr8L29yaDSjXcOSGv3S5dN6hJi5hnwAh0dM0kM5bl9BtneOxHj9F1rQ9hQPOKBtavb6N9w3pWrllJc3MzkUgE0zTKZ+65X8b4pkoIoYYttZqFyMeRl1a/MymwbRu7aKnVXoU842MpxsfHGR4eoa+3j56ePgaHhshnCjSvaOA9732Aj378I+w/tBczqCMpIrF9gc7MYCu5qMX2UoA7fDNfVJTdGwxlsGlIafPWuQu8dvQEm1dv4z33v4+GumaE1Erl/0YpobcbpPT6DARoFgVnjFMXjvPoEw+zam0j995/Nw31zWpob0bNhYKGRLfz2KlhMskkplDnSiJVw+eFo+lBenpHeeH545w4cYqGhnre/4H72b51LWZA6TsPAjW/zrILWAJEJEGgrhX0oOtAFQZPC0ocKOTID/ejFbIENLVZbhkCNJNczuHyxS6e+skLDA0nOXRwJ3fedYDVa5qx7DxSOqU5c1Jt0IElJZaAWGMTWiiGrZm+zz5PVg6aU6SYHiU3OkLAAUMovaWEULlgQkqBphtIR6OjY5DHH3+ea1d62LlrPe961xHWb1iFY+dUumR5VahALWgo6VbpUHBsCIYJ1TWiBSPqxAJf7qn2CQynSC7Zh5MZV6ciiEDJjesQKQXd3SP8/KlXePPMRdasa+T++29n+/YNmAY40nLN0/JsNsuxKUqbcKIOM9GAowfxlo/4tPqk8PhDgiZ1nDz87V8/zH/5w/9BZ2cvH//kR/jn/+Yf07giAbo3vo57DJp/VfJCoTzlRhM6wtH42ZPP8+//7bc5c+oCH/jQe/h//uWvs333JhxRVPOiZwmBQApJ72APjz7xKLJo8tEHPsPOdQcxCYOUU9bAcmoljm1x+cIF/uzP/yeaEeLI7XfQunIlzc2NrFvbhmmojqXFxBIz2HANtp/UNNjAm2hbu4B6VVoIzR26G+balQ4uX75Kx9UuBgcHGRsdJZfLKYPNKoKU2O58A9wu+YnwqoSrGL1J/tXOoGTt1XznQnppBkCdUYeETCpLd2c3qZGsqisGGKZOMGQSiQWIRCIEAiEMQwfNXfjg8SJwu3kdEAJDN9QqKpd7L97puoEl7mIKy8ayLSzbJp/Lq57CooNjqRoWigbYsKmdu+6+kwfe/S527NxGOBZ0v4RsL6TKsN3eHS+nqlFyPfHV9JgqWTMJbyr/PswkqOlQM6q5BlwzsCngLgBxnGWDbbFQy2A7feE4jz3xA1rXNvgMNmXozFTKAonuWGhWFjuXBdtrUFVcamGiQNdDnHuzgz/7s//Dj374JG1tK/jNf/Lr3PuuQ4TCGrZddMNDFSB3CoMjNAiEIRBH6p6R4S9g6gNRkxbk0lDMoUmnYtshgUAzAqTGC7z0/Ov8/u99h67OPj724Pv43BceZOfuzRSsrDtJzitoSi3ZAIaBGYrg6AFsUb3jv5rrpmEhi3mcfBbNLiKqeKg22AwjgF0UnHz9PL/7H77D8eMX+IX3HeLv/+pnOHRkD1Yx5RoiYtIeKyklUmhgBhHBMI6merdqGmzYOLlxKObcDXTdfe9croQmkFLn3JvX+G//+S/52VMvs3vvar729c9x3/13YprgOJbbp6r8qPwBhEAPhiEQUTz4eJwOij/p9gLqyKLku3/1MP/lD/6Mzs5eHvzkR/jnv/0bymAzbGXEcnMMtjdPXeD9C2mwDfTw6JNzM9gkShcW81lOvf4a//W//hGRWD2JhkYKRYvtO3bw4IMfo7E+MW37Ol8sKYMN3WFkfJCnfT1su6p72NxK4YlY9TKpJKgVnDpWweHM6Td5/mfP88qx17h+vYvR5Dj5XBHHcifbe6u23GXbKrASS9NgaodenZ/alYKqkoqkLbEsy51MCghXHQhl6GiaMkbL5cvHeFWctXvXpobHieYtlwd0ITBMk0AgQCweo6mpkVVrVtG+pZ29+3azdetmWlasIBgOglDrQ2ul3DMscQu/l5t+lHxVv5gO0/R8SaYJ0414KiceJqasNmYSlh/T8lgL06S7Fhwp0TQNRzq8de78ssG2CKhlsJ06f5xHn5xfDxuAJh00abtGSnmykT/PTD3M6ZOX+K//+U/53v99kvb1jfz27/xz3v2+uwhFDCzXYFOeXR2I+uhz0HCEqY4tKaGy1GtSIqTl8lH5kSvQMfQA4+M5nn36GP/ut/8DnR0D/NLnP8xXfvVz7Nm3nUIxUzIGPEhXbmgaaDqOUOeCVkK4vXIOOA5COq7BWOXMB4HA0HWKecnxY6f5d7/zbY4efZMPffQuvvWPvswddx+kYKXdkYqJw79+KBlpSKHjuDrMH7XyKVyeLJVHSOXOKRsGQhPg6Jw5eYn/9P/7Y3782PPsPbCO3/gnX+c9738Xuilcg60M74NcgpKPpqsj/2YBL2UCDU1q2HmHv/2rh/nP3/5zOq/38tCnPsK/+O3fpLE1gdRtd2rLIhtsbtnV0dGqetjmZ7ApPtVoAnQPdPPjp+ZmsDlum5gaS/L8M0/zB7//hxw8cjtr12/g1Ok3aWxu5utf/1XWrFqx+Aab7S1zuIko9bAZMDKmetjeeOsEB27fz869OzBN022cXAVX1VA5joMQ6gBjuyh57eXX+b/f/T4vPfsKwwNJhC6JxWIkEgki0SiRaIRwJIRpmGqem64hdE2FoSylKSquKy7XqCm5co8TEaJsLEmmbvSEUIshVE+Yp7xrZIcvzNKDapS0VnmfrVLZmWRLoGoIwDQMDF1H1zUMwyAQCBKNRohGI9QlEjQ0NdLQ3EBdQ5x4XYxQOIhu6iDAkQ5yCu3pOBLNnaRZy5mkdtKmxTSGy7ThTuPfj2nDYnbheZhRuNWYYzxCEziOw/m3zvPa0ZPKYHvXL1C/bLCBp48mSbv/nXDnAlajlsF2+sJxfvyk6mG7511309DQjHRm18OG67asI9xfPwtCENBCnDl5kf/6B3/K9777OO3tK/g3//Zfcv/77iIY1SnaRRWn8DyXA5CuSTQdlCvf7PQSNEw9QHo0x7NPH+X//e1/T8e1Xj7z+Y/y1X/wBfbu2UHOziBFpcGmwpGu3i0PA06GMpcViS9L0yvDCExNx8o7HD96mn/32/+Rl4+e4hc/eg/f/I2vcsddhyk6WRxpuUbR1Gkv5es08PhTox7uM6E6GzShuQbbRf7j//ePePyxZ9i3v53f+K1v8N4PPIAIgC09g82fN971zPJoMggEmtRw8pLv/vXD/Ndv/zld1/t58JMf4V/+zm/SuCKOrVlIYbtFZLENNuEabIKfP/UC//7f/gFnTp1XBtu/+AbbFsBg6xno5sc/LRtsO9YdwpShGRlsNqBrGn09XTz540d59Ic/4stf+Rq2FDz98+doaGrmV7/+qzTUxUiNj6FpOqFQCNM0auqH+WBpGWy6ZHh8gKefe6LSYDPU5EBV1CoNNk8gmqYjHcHVy9f58z/5X/zkxz9leHCENW2r2Lt/N9u2baa1tZVoLE4oEiIQDGDo3t5qqvfKs3QE0xlsHgNuVpcMLoWS18n2H3PrsDL4XGvK1VWVhUd6gbj3pVRXufFeuYW08o3/89t37XepoIG7OENDaGrRhq7pmAG1yjUQMAkGg5hBE93QEAIcdzKodFdPTbZqxt+R6xm61S5LLqpfTIdpDBfJNGH6RTINpg2L6fmphRmFW405xFPuYbM5/5Y3JLpdGWyJZlUKSsVltqHfuvAbX1MZbPjk4n0oVqNssAGaXTLYvB62ssGmasHEEOaHgBbizZOX+KM/+A7f++6PaW9fyW//23/Bu1yDTfWweV9xJU4XBEIKDNdge84z2Dp6+KXPfZSv/YNfZs9kBtuCQcm0XKcFAddge+Xoaf4/v/17vHz0Dd7/0Xv51m9+jTvuPEyhwmBbaJRXvQqhpvSUDbYLrsH2c/Yd2MBv/D9lg82StaeVLAQE3hw2yd/81ff5o2//T7o6+3nwkx91DbZYyWDDzVPBYhps5R62xTLYuge6edxvsK09iCnDoCYTVHsuQbrD0bqmce7cWR75/vfp6erim9/8FidOvMHLr55g646dfPKTn2RsbJjnn32GSCTG7t27WLduHYahT2q01dId02F2fao3ALNNgnB7ujRNJ58rcOrEaY6++Ap9PQO0b1zPRz7xQT77xU/zkU98iPf84v3c+547uOOeQxy6fR8Hjuxh/+Fd7Du0iz0Hd7H3wE72HtjJngM7SteT0v6d7Nm/w6Xt7PbRrn3b2LV/G7v2bWfX3m0Tad82du3byq69W9i5dzM792xm595N7Nizme17NrF9z2aXtqjf3bVoUyXtKtO2XRvZtmsj2z2qdrt7E9t3b2aH737H7k1s272ZLTs3sHlHO5u2tbNhyzrWb1rD6nWttKxupK45TjgRxAhqoMsKY00ydeZ5ZVMZpVM6vSlYUvzUrt8Lgok6wvdghj2xbzeow8J76ezsnPYINcdxSCaTXLp0kXPnzpHJZCZVyNXSnCjbiU8WFrXCvxG1r3YcbhNa/XgBUTvsSrNHuRHeC5+bxUFtnibD4suIivBFrayqvr+pWBhmJoTiNUTTQLhGkuPYDA8N0T84xMrVa4nFEgwNDTM+Pk42k6G7q5PrV6/y3LPP8sYbJ+nt6yNfyNfQt/PDTTfYKpVdZVdvzUpU46EmNLAlY8NjvPH6G3Re7yEUCnHbnYf58Mc+yOHbD9K2fg31TQki8RDBiEkgpGMEPdIwAhp6QEMPCPe3FvnfCYyAcJ8J9AA+EuimQDfV6vhapJsCzQRhSJf81969R9Xv/c+r3YIwRAVppqao6loYQj0ruVX+0QFdgiZxNGWYOULtJGRJG0ta2O6+QJWqcPLSWf6aUL+eTz/NCXP2WIlZBTOV46neTYKSF78g5hDOzFBeKabi8BnctUa43rZQApDSoauri+eef57nn3+e3t5eLMsCd1sg74PQo1wux+XLl3j22Wd5/vnnGR0drehpq9Rn5RXj+OuHP58XCaqXr3YktZ8uDFTYrmxrv5z4fMEwTciytuAnPlk4VNvyM4lrJm7mCumVDbcXuPKlt/CufDvR0QJDUmr3S/FWRFp6OCdepFThuUlzn/kWGEqfPKozS7lGCLAtC9t2iEZjbNy0CcMMEAyHMU2DbCbN4EAfyeQI6XSKeDxGJBKpDmhBcNNPOsBfgHwFRpH/2hN+1b2b4XbRZqh/kEtvXSCXybKmbQ379u1l0+aN6KaaZG07U5Htkv+6mtx3soomuPNRtdsKP27c7gkGZbKxbcv9VeTIWlQ+3cBx1G7Mtch25IzJsiWW7SiqkI+32/g0+TMN4at71e8mfT4Vzdb9QtACx1lOeJmkVAvpqt3Ol0pKb0J8E+vm250AisUiFy9e5KmfPs3Lr7zK5ctXGB9PkclkGB8fJ5UaZ3xcUaGQJ51O0dvbw/nz5zl37hzj4+PuiSblMCviwbv2lZu5lPNZUimPPRvR48FfvhaBVNhe4ytL5c1f3BYz/slI/aPSGJCVfFX7WQiqTquK0+vWKvfyeLP2avlZWPLrcFmVMT65uPeLJZcSuakvRS39jKj88rud4H9Sck/EUIEg3Sk7Xr10SidzTHcCT1k+LS0t3HbbbezevZtgOMyOXbs4cOgQGzdtIJGIUywWaG1dwZ49u1m3bi2BYLBiKlA1JsY1Pd30HraFgCY0bNtmeGiE3u4+kJL29rWsXd9GIGRil3bCVhPFhDY9qYlytYiq0j1/SDEZqTjVegZ/zaqO35vntgBU41E1ebH7ORE+bmaM6rDfDriF0uEXu3D/3ULszxvel3M6nUI6Dhs2bKCpqYnR0VHefPNNXn75GEePHuPYsWO8+upxuru7MQyDdevW0d6+HsNQ6lNWNTJlKGm+k2Q6GWYig2p1MGeaLDt8EFX3SpdVhrQQf6XAKyLz9X6WFKjac+1GoMyXjzGBqhBSXXuceNJQ7mvIeh5UCxPrknLpn0ozH5oYfiVqvZcSdF1n3dq13HnnnbRvaCcUDrJjx3Y+8IH386533UdjQwMD/X2YhkahWCCfz2Hb9oSsny+WmMHmzCmBQqgetvHRcdKZDJoGzc3N1NfXgzvv5EZDuhO8pyPclaKT0VwmJi5FeF8ajrdlyTJuCsoK6e1RruaLYrGAVbRobGritttvp61tLbbt0NPTw+XLV7h69SrXrl3j+vVOxsbGMU2T+voGEnV1FUOm08Ot78uYGtXfx7Ogmt+yE1DOq8pcU3dq2yS3eXe/nMUcyeNlQukQaq9Ly7KwLbUa1NB1NG12zfHMy14ZgvIuAgiBrhvougDpuMN+tjLoJjOQash9XuTjTUpJsejyIJRM9NIG8O5iwzlQNWo8Aleetm0zOjpKf38/+XzeJ2NBMBgikUgQCoXQNI1IJExTUwMN9fUEQyHCkQjZbJ5rV68xNDQE7uKl6l4yj+aC2ZWQRYfalawWqguO9wxV7rAsi9R4ikI+j6YJ6uoSxKJRt3CWa3NpKfpcqSLmySFcvqbDDJxMg6o5SRV8VqHazUxpNpjEvadYVAVwH1bHM1O62ajmp5oWEosV7uIFe8tACI2iZZPN5chmMoyPjZFMJqmvr2fHjp0cOXKkRAcPHqS1tRXTNMlmswwPD5NMJhkdHaVQKEyigGWF1ir1bFTpMsHERmZKqvZbRRWQlDdAraZSePP4qzZSoGLLD3/xVT6Ui2p/JZr3n0L1vULlvL7ylTIGNDSG+0fIjufQhTYh5Nn+aS4BVfLRcByHbCbD6NgYUkpC4RDBYABNEy6PtcpTGUITJIfHGEuOl7ZKmg6aJkiPZ9RWV26HQCQWwQwGKBQdxlPjpLOZEu9lg7VWOalRnuZCUhkhAnVcZHIkSSabQ+g64UiYYDBAJpMhn80hHbUzn1e+ZkSyfA1uT51bzqohhMCyLC5evMjDDz/MI488wsWLF8nn8xiGjmFUGtVCCHRdQ9MEsViU/fv3c//9D7B7zx6ampsxDKOyF3MBsMQMtsrE+TO2dO86qXgGWEVlsBULRQxdJx6LEg6H3I8lNXFQlev5F7aJT2qTYOKkZT+Vvhzm/Vcdcw3MQNFPRtPojhJm5r6sxavjmSlNHX4lJJ6nKTDdex+qeZmM5ovq8ASzS/dUkChdPIFRN2veGVBfvoZhUldXRzQSYWR4CMexicVirF+/jm3btrFt2za2bt3Kpk2baGxsxHEkI8kkqVSKYDDE4OAA2WwW1VmuBFqu36rR93LQ++8NfgmhFLCG0k3ezkKTkuunulxMIIEyToTj5rMDwinFpZfim9ijPytC/eoVpCk9KwBvQ15wP8bVn4aGjoZe+tNKf+rcl7mR36/uv/d4cRdPIVDbigip+JEeRxqhYJCAYSDkxDDnSkomLk9Cx9RMMuNZrl3toLunGzRoXtFCvC6BpmsVm4xPCglmwMAwjZnbBFLtsxkMBlTaDUFzSyN19QlsC3q6+7hy+SqOo7Z3MoSu0l+j7SpthyWUfOdESFc+OprUGE2Oc/78RUaGxohEojS3NpBIRDAMiWEItaeyJieGI0AIOSmpeFzDUGrlvJmQJgFAX18fTz/9NH/+53/On/7pn/LDH/6IM2feZHR0FKDUs+7JFAnBYJD2DRu57Y472LlzJ40NjeiucVcdhz+u2eKmG2z+L9PqrkJ/OXR1UAWU5a9aGdu2yeWyWJaFpmuEwmHMgOmGpwy2moHMFiUNNEFN1qSp/mpMWpsDVTPowv98MjezQVVmeGLwUwV8D6SUSHdIVE2kn+B69pgBP7ONpdpvLbrpmAMT1WmQ0puZ6z1zG1bvuedvIfJpCUNKSSgUZPPmzRw5coTW1hXU1SUwTZ1AwCQUChEOhwmFQmr/QdNECEE0EmXLpi3ceeedJBJ1athGc400TfOROydWaMp4Exq61DB8hor33zMYykZMjT9R9qWJKvKFI9ywBAK00p7eyliTapd7TXrhGGhUkXSp+rn3zvsVLmGgSwNd6ugYbrgq7V7fhhCKLx0DAwO9RKaPvHgq0zMb8v9p6OhSV6ag0BCahnRVs3StYOXHwMBEkzoNdfVEQhE0qd5Uhz87KqfTwECTGliQSmY4d/o8x148Tn/vEIlEgC1bN9HY3KgMS7fNmqqySymJxiJEouEZ11NHSkLhIPFEVPnRJCtWrWDdujZCEZ2Oa108/8yLXLl4jWwqj5AaujDQhIkhTAw3nwxMlSJhoLmnC9WkmfxJDVmQJIfGOPnaKV57/Q1GR1OsXr2STZvbiccjhEImoaCJoeklQ2sCTTCTfT22QkMXmsoLoepR2X2l4aRpGsVikc7OTl544QX+8i//ku9850/4i7/4C5588inOnTtHMpl0h21VnZdIEIJwOEJLSwt1iToCprd37MJC/9f/+l//TvXDGw3VUACaJFfIcKXjEr1Dvaxas5IVrc0lS9Urv9W2l6EZpMbSvHHiNK+8fBxNGNxz793s2ruDYCTgO4ql3EM3HyxAEApuL9NioILHeTIs8QQ+CarCr+nep1Tm+nXhoWb4NwLzlON8MSH6CQ8mhyczKZVykTgMDQ3R09VLY6yZjes3EgyGwT3f8p0AKdUwUSKRYO3ataxatYpoNEqxWGRsbIyxsTFSqVSJ0uk0uVwWTdNoaGxk1arVxONxALLZLOl0usJ9KpUmlR5nLD1MZ89Vzl88i6kbNDe0YFuCTKpANp0nk86TSedIp3JkU3my6VyZUpWUcZ9nUorS7m8mnSU9niWdypJNF+i82sdrL7/OxQtXSMTDHNx/gKbGRnKZPONjGeXWdZ/yrsezpMd81ynftZ98z7OpLBmfn8x4jmw6z+jwOBcvXOP5514mNZZiy+bNbN28hWg0yvjoOJlUlkwq76Oc+yzjuy6nc+aUJT2ursvyyJMay3LtSjfPPfsK/T0DrFu3mp07tlNXV0dqLK3iG88pv+O5Kt7mSl44iq/RkTQDPUOcOnmOJx7/GT/76fOMjmbZvWcrH3voF9myfSN6QFeb+FYX1hqo7uCYDqrNLBuEEolpBBkaTHL9ag+dXT0kkyPKqNF1pA35nEU25ZbRVJ60m7+ZtCfrjJtXfvLeuWVlEsqM5xgbTtPd2cfJ19/ksR8+xbGjr5FLF9lzcDd333WHOj0glXbLl8qfmuTWhQoa98pYjsHBEc6dv0gxJ1nT1E5Qi6qynyrX2XQ6XVpw9NJLL9HZ2cn4+Bg9PT1cvHiRy5cvMzg4iGVZGIbhfqipDeTLGba4DZMoFoszz/FFgvSdJZocH+Tp55/k5FsnOHDbfnZXn3QglU3sN9iCZpCe63381Z//NX/8R/8dwwjym//sN3jwlz5KvDlC0cqX4lLzCOYn1AUzGBbbYPMCd+U017imTW9V+JO5l457EsJi87NYWMT8mgkm6IRZ8OPJTDrlkw4uvHWB146dYNMqdTRVXaIJIf1nSM7fuF7q8Bo871fTNDo6Ojh+/DgdHR2lPdaqG0b/fa3J4uobVCA1h6JI0Tt4hbcunCERi7F542bC0YTPOC6HVa2dvJ7p0r37Uro8eI2vI8s8GZpJX9cgL71wjDdPX6CpOcZ7HngX6ze0YZi6aqrdM4mVOqzMYy+cWnkvSxOpFZ+acD+CfX40TadQsLh8uYOnnniG5OgYe/fs5vY7DrN6zQosK++mQK/SGtI9ubEyzbOCN6wvytdCqLM8uzoHePLJ5+jq6GLbzg3cdddh1q1vw5HuDvrSz89CQm0jkUlnGOgf5NLlq1y6eI3k8CgrVzfyhS9+hod+6UOsWt+Co9k4ju3m88LyUipbPvFq0uD8mav8n7/4Pg//7aOMjKRZvbqFrds30d6+noaGesyAia6p4wfLcNQiQelMOBfWQ3WdmQAJqfEs3d39XL7cweXLnSSHkxiGwaHDB7jt9gPU1YcAq2ZZVBDuQFP1e7c8uj28yXSSNy+9icBgz4ZDrEy0oUmjgnchBIVCgXPnzvHMM8/Q2dlZSoOuq+OmGhsb2LhxI4cOHeauu+5iz549rFq1klAopBasLDJEoVCYRqqLD89gEzqMpAZ4+rkn1dFUt+1jl3uWqDfpkUkMtu6OXv7yz/6G7/zJf0c3AvyTf/abPPiZjxJvDFcZbPMXakkhzBezaHBni1qZOte4ZpReX1pqua8+mmo+uVArbTcK04lhMVEr3TPlx8sTdZ6rmidz3jXYNq/exrvve+870mDz4BkiQgiOHj3Kd77zHV588cXS0MfcoAw2SyuSt7Pksll0oRMOhzB0HeE2NN5EeIFn/JRDkO4otRBqeMc7q1e6PEvHcy5LwwcaGoVckbFkilwqjxEUNDXWEQwG3DjLBccpNXb+2usx4D2Xvl/vWkFDuOcvu3G7MrSlJJvNMzw8im1LopEQiUSMQDCArFi1X6E1FgQ1QxKQzxcZGR6jmC0SjgWoq4sSDAWV+5JQ5prXflRxIEEisW2bfD5PKpNB13Ta29fxvg/cx0Of/DDrt6zGCAtsvA3JWSBeKiGoZE/HoJCxOXXiLD965Eme/Mmz9Hb3oWk6kUiYYMAszVergFCFs+Y2Y+67Ke01ocq1Zdnkc3ly2Tz5XEEd3GlAIhEjkYiqTd3dMlfNggf/R0zpmXsjUHuRFh2LbCELCKJGjJAIu7ZA2Zf3YZbJZEgmk+Tz+QqjUwhRMtwaGhrYsGEDDzzwAB/84AfZv3/fDTHY9H/1r/7VkhkSFRrk8hkud1yif6iXlWtaaVnRrL5gvQyoyBX1o2s6Y8kUJ19/g9dfO4Fh6Nx5953s2LWNQNjAdryDdHFLiu92Dpin9zIWLKCZYS7RSWamN/z5Uise4Q7HqUZxEkfLWDR44pZSqpVoUjI0OERvZx8NiSY2rHOHRBegftyq8Mrn9evXOX78ONeuXSttCSRrLMufjLzNOB0HHGlRlHmKToailUXTHHRdDUnbjsRxN+N2HKdEakNPFY4tHQpFi9GRMUaGRkkOjzOaTJHKprBtC0faSM+vbbtkAZJg0CQaDxKJhtB0cNwNux2nvPm2t4G34z2voKmeW4pXX1gqvPLG42gQjoSIxkIEQyYIieNY2NJPdtW9hS2LNZ7NhFRYEzcYt3AcG4QkFAoQjYUJRUyEjpsOL13etTVP8sIoYjsqPWBjBjTq6uNs2LieO+48wgc++B7e/Z67Wb9hDWZIx8FGznFrq5nAU+PV04IM06SuLsHKVStY0dpMPBEjGDIQVfnlVFDRHbq1sJ28upZF9dwpqjx0CsiS2ypyijiygNAczIBOOBwgFo8Qq4sQqwsTDOugOco/tpLNBB7cvKac19KX57ZTdld08mSLaRxsTBFAxwDH3Uisqv5alkUup/ZRq4bjOBSLRUKhIGvWrGH79u1s3bqF5uaWaqeLApHP5xerfMwY0nf4+0hKDYmWetj2qCFRVdgmHxLtutbL//6zv+bP/vR/YgRMfvO3foMHP/1RYo1hivYiDIky72CUkVr9bBExU+Nr1nAF4gVdKx5VGZTh5k30XAxWllEbXp6Ue9hszr91kdePnWDTcg9bBa5cucILL7zA5cuXkVN2E0wFgRQCKWwskWYg2cmVq+eJx+KsX7eeYDCK42gqU9wPGL9mUr8aRQeuX+vi+LHjdF7pQWjQtLKOLds20LZ2LYm6BAEzgCa8jQtwtzFQ9UyFo95UpEXgzmUs9/CVGKm4r4aseC6E28NW6tJw30k1Xiq89DleLD4evKAErv8q/mSV+xLcZbPVfrzApCfTksIpdcOU+/bVOcjgxe3596XBDy+s6ms/vOfSU+wefxJD0wgEAsQTCZpamlm9ZhVtbatoaa3HMDUczcIRtnvAOqj1qzXimAc8UVeKWagFIVIjny3QPzBMZ0cPvd19DPYPkUllsGwLZ9KVq+qjY0IuuXk3df3xFumU91orZ7zyp2baeXHXCqtc7v0o91oLHCRj2XEuXDmPRoDta/ewIrYKzXGnB7h+hLsP26VLl3jxxRfp7u6u4N8wdBobm9iwYQMHDuzn0KHD7N69i/b2dhobm0ruFhM33WCTXu8agOaQTA3y9AtP8cZbJ9h/2z52uwYbKGPLK8blgicJmCG6rvXyF//jr/mz//4/0Q2df/LPfpOPf/pjakjUzpUr4yR7sMwGEwQ21+DcgObqfTYo8bwYkVWlozour7fB62UrLaf23C1jUVCrnCqDTeBIhwtvXVRz2FyDrT7e5DZo5Zx5pxlsUkpyuRzJZJJsNlt6Nnt4+29IiiLN5etnePaFn9LUVM+R246QSDS6Blu5mfL5dHWURjpr8/ijT/C97/6Ayxev0raulfseuIM777mDtrY1xBNxAqaJQCvxKSgPjypMwr+gxkYB5Ua21hCPlA5CaBUNonCf4/op+y+nSkp3llH1M0GJP+kaOsqFKPPiF447PFx6X5G28niv4sM747Vaul461JNy/roxK0bdZwplXj27rPK94lU999xKlCErhEQTmhpOC4cIhtSea6apIQyQ6pRmdRaPkBPM7YWEmlpU9Qyt1JHhOGBbkny+SDado5gvuNNZJpYhN9eQsjIXPKi2vbZfANyhVmU0Vr8sQ+VP7XBKT4SbcVVOhFCmed9wP8+88HMMEeY9R36RDa3b0KTubl6v3GqaRj5f4JlnnuFP/uRPOH36NACGYdDY2MiGDe3s3buXAwcOsn//PtrbNxCPxzEMo+Y81sWAyOVyE6VwgyGrFh387IWneOOtk+y7bR+792wv97BNYrAFzRBd1/r4iz/7a/7Hn/45uqHzm//sN3nwlz5GvGHhe9g8VBSWuaBG5VlMSObB61RwBeEFXSue6jlsC5cLy5gMFRXbFbZnsEkpOX/+Iq8fO8mmVVt5933vWe5h80G6wyMzTX+50XcbbVQGSOFgkeX81ZM89tQPiNeHedf999DU1IJ01FQPr0cMX53Q0HCkRl//GN/+T/+FRx7+CdKRfOAX7+fzX/o0W7ZvJBgw3Z3gy1NGFJTBVrsZrUZl+vx+1Bv/e/VW+MqW0se+Xoqqdx78Bp7/2cTQy8+m4n5yN6KCq1ppUBL3+KkVRiWfVPGqQpj4Hve557ZClq7hOMGm8PaFk7baG84nheo45guBYt4fajkWr2dSjWJJd2EJpTmUPk8TUEuCfkNrMkwZaBVqh1V6IqjJpEDg4NDV181jT/6ISKCeD9/zCbau3o1wDGzPr5RoukYum+fxxx/nd3/3dzl9+jSRSMTtUTvAHXfcwb59+2hrayMej2OapjtaMZGvxcKNMQungRDu7nfVzyd54GWdp1Qlbve7pquwhHDnV6jKsOi4cfl1y0LTRIluRJYsw4VqJ2qg+sVER15vwWzo7QLh7qkmamx4ORPSXD0khIau6RhGAMMIkC9msEQeRy8idQt0C6lbSL0IehHpkmNYWE6B/v5uLl2+yNhYirVr13D7XbexbddmIjEDIwDCsJVfo5K8sKciqVtIo4jjI2lYJXIMq+Kd43suDQsM139VmOXrcnome6bS7vmzQbeRLnn3tWhyN+V4yuGX4yzLeiK/fqr0U8nrZO+r40V3SiQ1B6nZ2MLGERaOsLCFWmLgSN/w7IR6ucCoMhhLbSnS7d1zcIQ7Z0zYSM2VtzYVeemrJJV2OQWV5TMvMhzQ5YT4peaociJsbKdA0c4TDOqYARNN19F03T2pQEdoap9EVXc1otEoW7du5ROf+AT/+B//Y37913+dD3/4w+zYsZ2GhobSnow3Wudp1Qr3ZhKyfP4mrkHmSNWl6XjuUL+OVNMz/d8kuNMHJBLHUURVHMrPxDM9q6mat1qkInPjcCa+n5ZmwMdCkie7BSf3b8bxVLl/O9KENPuo2u1iUa18KA3roOqbR6rKqZeqSE/0u0yzI6/nTMcgZMSIhuKMZ9JkC1kcqc5LVO2z6tFwhFq16QgBQsN2JP0DwwwODIENa1avZOPGdiLhEFJIHOHgSEV2Bfn03BRUq3zMiWqEPXfyNoyYD1WHebPIqbr27koa0HcPUooSIVUP16JQlaxsiUuyRI70OJ7PX7U85kvV+ex13DCxTEq1eAfpYDtFcvksuUyOaDRBIBAEhNoKx9N5uFvVaIK169fy0EMP8Vu/9Vt8/etf5z3veQ8bN26krq4O0wwgXCU6Mc7FpyVlsEmvNLkZ4P16Bc1xyV/4HLegSekeGaEJ1WC5q60mFFZfoZ2Uqt3OlJwaz6aj6rgXk6rjXmiabTzV/L1NiOp01qIa/hacquOUaki0zIPbUHjkuIaevz7OEtX1+Z1Ck8nAcSQSjUgwSkN9E2NjY4ymxihaRUC6eaF+lW5TDYmDwHYgncqQS+fRdahPxKmLx9A05cfrmZnYsLnvavC5kFRdVpapFtXOh8lkN9nzhaDJwq5lXC2YMX+DyJ+2CoWHpJDPM5ocJZsp0pBoImSGJvj3wtA0nfb2dt7//vdz//33s3nzZurr6wkElKFW7edG0xIy2FzFRVn5eY0OpQbOc+c1OGVlJ71Jra5HWcrESjcVfmuRF98syR/IlOHfLKrB84LTbOOq5vHtQG7aqE5rLar2u9BUHZ9LpekCLqOVyrncwKiPHlmqjzPBxHr9ziB/+stbdEik4yAdCAbDNDU2k81lGRoeIp/PKX3lflR6H6KqZ9TLQ0GxYOFYDpoA0zQwDHV2ZGnrEHfj0gnk6r+ZUHVaZkPVYS1TLSr3hHrk9QCpLVy8bVwmynehaSJv7ruq8uMwkeebSxP5npAGn5JTqk3ptnQ2w+DAELo0aapfgWmEcNz9CyVunZOq3gohiMcTtLW10dTURCAQqFGvaxvhN4KWxBw2BcWQErantNz/1Yz7n3v+qiZpOtI3TDmxKZvYivkzu9rtLMiLs9QdOB3ViH9RqAavC06zjauax7cJTVrmXOPohqW9RtyyQsE56vQJPC9+f76aWV3/pqB3KvyKvIxyXptGkMbGZgLBIL19fYyPp3zlxBvccX1J6fOq3LhT4tw8dHzhT8jm6uxbxjKmR3X5uUXLUIl1CSCwHYdkMslg/yBNdc0017Vg6AGcksHsq3cuCXf+6lS6rfr+RmEJ9bC5TZknB1/DU3ZDqdHxqOTBnQuCexirFx4o5VfyXx1nNVWFP2tSkU18vkzvDPIZRrWoVDamcLPYJNw6Yts2UjoYhlGayVE94bna7zJNT5VQs7wN3aChoYk1K9cx0DfIwMAgxWJezSKq8O+qLLfnzGs4vVyRFQb3cv4s0zLVIqTqwslms/T395McGaW9bSN1kUZ0YSCre+ZU5aphc9Qmry7eaFpCPWzKsvUm9FHxJTkNPKWmuWFQHmuuboAWG6V5xDOk8ifBMt42cFdiLcVs9VZD2bbasVsiCYaC6LpSBd5nzjIWEBI0YRCP1LNt825y4xadnV2MjCeRmlSGWUnu/pLjXfvvl7GMZUwNt/0HhoeG6Oy6jm1LNq3bSiSYQKCXOn/8dcrbH1St7q6kitBrbB9yo7C0etik2n1G03SQGlbRxpFKmQmpaKL1W25k1LJctyvTVke2THDrfZU6U9CEOG4ALVT81WmZbZjV/iajan+LRdXxTkfV/m8WLUQPWnXaalG1n8nIN/wuhMCyiuTzOXAgFAyhefVmmeZEfvjnupTnskkCepAtG3awonEV3Z29dFy7hm1baiqH7+u+8kvfF7DbvlTHvUzL9PanCVWjsj33kSMdpCbJ5jNcunqZ/r4B2latpW1NO4YIuufvlt2rB2qItFzvKsmP6nc3kpacwaYbJpFwjIARIJ1KY1u2EmKFgCeSdLtAvR41R7or4kBtCChVt4eQEuGUDcDJqDr8yaia/6l4rEXV8c4m7mqaMl0znC83wd8kVO1vsag63unohs4LXEyaKi/96Z0J+cJCOggpsQoFCrk8UjoEg0GE0N0tBeSyUbDA5A29GMKkJb6avdsOU8w6vHX+PL19vSVLTLqy93QVpU1O1Ua8ausBL9yJ2bxMy/T2JG+Lk/K2J2Xyv3cJtSfb1c6rXL50FZMIu7btJxFpRBOGZ595Xz+lOqWuqzt5lhYtKYPNth0M3aQ+3kA0HCM5MkomncGxZSlTvMbEP/5c2sKjZAK7K+Gk+rJVWxnMoVdiGvLzUE1TvZuWZsujm65p45wu3Onez9XtXGmucczV31KhGfLvyPJ+g+WVTr7yXh2WI5EO2LZFMpkkmRzFNANEI3HVze8qLTUhd2J8yzRXUos7kDoBLcL2jXtpW9nOQN8IJ0+eIplMlhsKT0d5H/uuoeYpNunm8cQ4lmmZ3uZUqhtVJKVrG6ja4kibvv5eTp44QTaVZ8uGnWxatx1DBJC2u32RY+M4ag5vbaoR/xKgJWWwSUeiCYPG+iYaG5oZH08xPJykaNmlr84K9+VvU5BqONW9c90owavGzGeBLySVePBRtZvFJN/eb64YlulG58FNI1UP1Ipob+HxNOUdST6fp79/gLHRcerrGqlL1LlTCSrDXaaFJJC2QDg6zfWr2LPjME11q7hy8TqnzpxmbGwUKS13Sw6vwXA/Uj1zzc2fiptlWqZ3BE1W5lG7Tbv1wrEtkiPDnHj9BD1d/axZsZ692w/TEF0Bjqg08txfL6yJdXbp0ZJadOAd5VJX18jK1tVIR9LX208um0VK6RsaqPJG9cRA5Ur5WXjU4uFmojwQvIx3LmZaIiXj4+MM9g9iWw6rVq4mHour8yiXsWjwPi+F1DEIsGX9bg7supNYqJ43Tp7irQvnGRsbxZG2e0L3ZFrGbaSWsYxlVLR8lm0xMjLMm2fOcu70BVY0rmH/zttY27oRjSAC95xkz8st2Gjq//Sf/tPfqX548+Ae5WLqFO0CPf3dJMdGSNTVEY1G0XW1aaRSWOWDmQ3dIJ3KcvbMWxw//iqWbXPoyGF27t5BJB7Gsq0FzZvF1peLFf5ChruQYS0klipffiwkj1JWruv0PlJqlXeBwLYsrl3toONaJ9FgnL079tPcuBJdmNXOlzFHTPah6N8n0jBMorEYpmnQ29dNR+dVNEMnHIkQDATQNZ1iQXLp/FVeevEY2XSWnTu3cvDQPuqb49jSckvSZIbdMpbxdsFU5Vutsi7aBQYHB3jzzBlOnThNY3wldx6+ly3tuwgbCYQ0SlpR2Q21zrSe+GSpQf+t3/qt36nudrt5BEhliDlIMtk0Xd1d2HaRaCxGJBJRvWzexHK3F03TdFKpDG+dvcCrx1/Dtm0OHTzIzl3bicTDFO0ieIp0QpyLR3ONa2K370Q31e6rn82VFjKshaDZ8lMtt9n6X2iaa/wz9TfdvEVV8JXKcxyHgYEB3jr7FsWsxeb2bWzbvIugEXLPLpzof5kWjkpzA93+NkM3iUVjxGJxBgeHuHTtEmPjSQxTJxqNImzB5YsdvPTCy2RSWbZv386Bw/tINMWwZLEqfCbEt0zL9Hahsj5UUz88464HNyUAAA3lSURBVMrBJpUd49LVC7z26nEuX7zC6pZ13HXkATa17SQWrAOnvKBKujrRU43e9065/vivlx7pv/Vbv7WEetgUJKDpAsPQGEmO0D/Qi5Q2kUiUcCjsOipLXBMamVSO829d4rXXXscqFjl4YD879mwnmohg2UV10PJUhvos4Csvk0IsUFweJo1zFvFMGoaHhQxrITALfqbCDeG1Fibhf1p+JvE3KaQyANQWQkLtiF+qH6Bp6iNnZHiEs2fOMjwwQtvK9ezatpemhlY09GkYWsZs4Je9H56pJqUEKdCEwDQDxKJx4vE42XyW3t5uuro6SY2nwBZ0dQzw8tFXSKdz7Ni5jQOH91HXEseRRf/x16UYlmmZ3q4khABNTX+yHYtUKk1HxzVOvvEaZ8+eJZ8usnHtVg7uuYMNq7cRCzegC7O0e4SqlpV6rlY/21KGGBwclNUPbx6UIpNC4mCRzo3z1uVzvH7mOLlimjVrVrNx00YamhoxdB3cr9aAEWCof4Qf/eAJ/vi//Qm5VJavfPXLfPKzD9G6toV8MYvQvG09JuTZ7KHYnDychYrHgxcfVWG6ZVlUP6+CwP1qmIpnZsH3ZPwsJNxSOSN+poLbu+TW2RuHyfifiezcfFBHEU0C6f1TvdHupTLO3FcCZcDZlsXI8DAXz1+is6OT5oYW9u08yKb2bYTMGEJqav7opAwtY6bwvoSrN9esMNYEanNvAGHjyCKpwhid/Ve4dPUsnT1XKeRzBPQw1y708Xfff5yx0TQf+dj7+JW//1k2bF+DRR6Bt7H4dAVqGcu4dSHdc02tYpFsPkcqlSI5nGSgf4ThwWHy+TyJWD3tqzexef12Vja3ETET6AQADdy6pnrmlF7FaxJELa1XrbSXDkR/f/+kbcLNhBQOliwylhrl7MVTnL14hlwhTevKFbRvaKeluZlAIIAQAsMwGeob4Ud/9wR//EffIZfO8KWvfIlP/r0HWbmuhXwhh+YabCxAVpQMgEkgcRvc6hdzRCmDagU4w3ikx9dUjmconyn5WUjMkJ/pMF1+LRpq8D8T2blt+lROVDhuz1oJQiA0VwEJ1auWy2YZGhyg41oH3V291EXq2L1jD5vbt1MXawJHr9i/cBnzx1Q9bCCVwe45EdId2LGxZJ6RsQE6e6/Q2X2V7u5eTr16jqeeeJ5UKsc99x3kIw+9n7WbW7HJg3DPgS3lnfpdzsllvF0gASkdLNsil8synh5lbHycXKaAtDSioTirV6yjfc1m1rSuoy7aREBTCwyEVMYa3scR5QawssbcOhB9fX21tctNREmx4WBLi2RqhPOXznLh8jlGx0eoa4jTvmE9Lc3NxGIxwuEowwNjPPrDJ/njP/oTMqk0X/rSF/nkZx9k5bpWCsVs6Yt3oTJoOqFN6FmZJ6aKb6bRTBWGh4UMayEwU36mwo3itRZq8T8Tfmr5q4A3z8K9VUOhAgRIx6ZYKDKeStHb20dXZxdjI2PUJxrYtXUPG9dvpi7aiIZaaCDcr9BlLAymNdiqX6C6VCUSR1rk7TTp3CjdPd08+nc/4a//6rsMDY6xd/9W7rzvCI2rolhOzi0EXhgT86/Uk7uMZdzSEO6ekzaOtNANnfpEI20r17Fm5TpaG9YQDzdg6EF0aaJr3jCoqhXqg8a9r+qxuNWqiOjt7Z2oP24wJio4da/Um4MjbbL5NJ3dV3nz/GmuXr+MbsCq1StZ29bGqlVryKYtnnj8Z/zxf/sOqfFxfvmLn+dTn3uINe2ryBfKBtsylvF2gXTcoTep9hRypIPt2GTSKQb6++nq7Ka/fxCkxtpV69m7cz+rW9cSDkbR0QFtuXfthqOWwYY6BB7c9zZCk6TG0zzyyKP8/u//Pv39fTzw7nfxoY++n/qWKNncOI5t+8KqzEPv+bLRtoxbGQIQukEoECYcjVKXiJOIxQmHo0SCUXQtiI6JLgw0dAQamqZGDcomm4L0GWy3arUQPT09tfXHDcREg60SajNJSb6QZnC0j46uK1zvukpyNIlAkkjUIR2Dk6+f5eGHf0A2neVTn3mQjz70YVatayVfzC0bbMt420FKibQl+UKefDZLJpNhfHyc0ZERcrk8mmbQ1NDM2jXrWbt6PY31LQSNMDqG26vGLay63q5QBp2ua2QzGR754Y/43f/wuwwNDfHxj3+EX/7S52nfuIaiXVBj5zXMv5KxVvPtMpZxK0EAGrpuoGsmhq5jaDqaZiCEoSamCc2di+bqMolrsE3Ubbe6HSC6urpuWp0WonKpbdXb0sizLM3VsCnaedLZFCNjg/T19TEw0Ec6k2FkeIyTJ87w86d/Ri6X59777+T2e26nYUU9BStXEeotnmfLWAbgtteOxLKKWJYNSHTNIByI0FDXSHNzC81NLTTWNRELJTCMgJrbgUBIr3apmrWMG4XpvvA9g00nm8nwwx/9iN/9XWWwPfTQQ3z1a19m85aNOI7K71rwG2zTYTo3k/O5jBuN6fJqobD08lyo+bmyeoN8dTqLcJ3g6UT31CPvz+vTVu5UGLVtjqUP0dnZedM5n1p4EtwlvSqvHBwkRatAOpNibDxJKpWiq6ub5559nh88/ANS6TT33X8Pd95zBw0r6skX86XQalndy1jGrQgBaJqGYRgEzAChUJBIJEZ9vIH6RAOxaIJwMErADLhbd2judjNeHVg21pYqdF0nk8nw6I8e5Xd/73cZHBzkoYce4mtf+ypbtmx25y/OL++mVLsulj9ulwZk6d+NwdLKd4+ZsgBkafV/2VIrGWaujqs22JTzJZWwWUNcv379BhaD2pjaYMM12CrvlRmnDnp1HIuenh5+8vhP+OM//mNGx8b42Mc/ygc//IusaltFoViYUNhnkm9SqrJSUVy8cGo99z2bCp57X1mDyrI3Ae5UpZpxeM893mqGM9O2ebJw3Hj9YZZ4qpJnLf4nw1T5MNP03lBMwo9fFjcKQoCmawTMIKFgiGAwQCAQJBSIYBoBNDSES4D7sVLN/TKWIkoG26OP8nu/93slg+2rX/0KW7ZswfH2KJgDvKozvd5VDdzNqmo3G0sl3bPJr4WB6hxZKukvo5Ib/51EKj3s3k/WMXPLG2wdHR03NU+8IdGpBakyw39fzg+BrguGBgd5/Cc/4dvf/jbJZJLPf/7z/L3PfoYNGzdQtCy/Z+VrquhclAqAz23JQKnxfCZhevC7rzZ6atVLzyCojhcfn5636nA85yVDZwpMFk4pXt/CtBthsE2a3ptgIDEJvzeNHwkIiaZpaGjg7u9VXkzgd6c2ap0gzGUsSWiaRiaT4bHHHuM//sf/yODgIA8++CBf+cpX3B62ah+zg9f4TxeOcDdjfruhPBWnVtq8EZ1a7yoxdTgzxfTxLUw808PPwlT83HhUFtTqYitleS9K8PRgbSytdM0O4urVq9Vpv+GY75eDrukMDg3yxBNP8Ad/8AeMjIzwhc9/ns9+7rNs2rwJy/J2BH9nYyZyXrDCLNVXz2RYsHhmmK6Fwkz4vpH8UFOFT3zCDHlfxtKArmlkslkee+wx/tN/+k8MDg7y8Y9/nC9/+csLYrB5mK6svl3LzHTpZoZpn0k4M8F0cS1UPDPBdLwsRcxUPrdi2vwQly9fnllKFxEzFfZk0HWdoaEhnnjiCf7wD/+Q4eFhPv/5z/O5z32WTZs2uROyFaS/i+idhJo7Ok/EfPPCw0wqxkLENZN4FhLT8Xyj+VnG2w9SSrXowDXYvv3tbzM4OMjHPvYxvvSlL7F5s5rDtlzW5o6FqsfThTNTzDS+ZUyOmeTFrS5n/Vvf+tZNP0t0JoKeCkIIstksly9f5ujRo+RyOfbs2cPu3XtobGzAcbwjXBTmG9+tiJkW0xspmxsZ10LhVuR5GUsJAu+LUVStVpNu+ZKAJgRFq8jFixc5dvQY6UyGbdu2c+DAfhobm3zhLWMuWKh6vFDhLGP+eCfkxZIz2KazgKvdel+a2WyWK1eu8PLLL5PNZti1axd79uymsbGxwmB7J2RqLcwm3bNxOx/cqHgWGrcq38u4+RBCIoQGVM7ddRwHx3FK0wg0ISgWi1y4eIGjx46RyWTYtm0b+/fvp6Gx4Z05SrDAWKh67OXjQoW3jLnhnSB/cf78+SWZSk1TiqxWHlRnjKZpJJMj/OxnP+fb3/42AwMDfOpTn+Jzn/ss27Ztx/ItOqj2+07BdIbwMpaxjMWFbdtkMmlyuTyRSJhAIEihUCCTyRCNRgkEgwhNbQJquPuw/fjxx/mDP/xDhgYH+ehHP8qvfPGLbN68qaZeXMbNx1zbl2X9vIyZQJw7d25uJWwR4H2lOI6DZVkUiwUCgSAAllVE13UCgWDF14wQwjXYkjz77LN8+9u/T29vHw8++CCf+9zn2LlzJ7ZtV3wFzbVS3coQt/iGgctYxq0Kr95lMhkuXrzItWvXWLlyJY2NjYyOjjI8PMzOXbtoWbECXdfBnZeby2Z5/CeP84d/8IcMDQ3xkY98hC9+8ZfVHDZHbQ461cKeZdw4zLdtWdbPy5gJ9G984xs3fUjUgyqsknw+R29vH1evXiUYDJJOp+np6XW/TCNomnesTrk7ulAo0NnZybFjLzM2Nsa2bdvYs2cPLS0t2LZadDCfCnWr452a7mUsYynAtm2SyRFOnXqDo0dfoqenl4GBQTo6Ohj6/+/tWwYFBQUGXl5eBiYmJob//yFHtfz+9Yvhzt07DKdOnWT4/v07g5q6OoO+vh6DoCBkSnS0sTZ4AKx8paScpUTvKBgZAADar2zuSJmnIwAAAABJRU5ErkJggg==)"
      ],
      "metadata": {
        "id": "NFLCKi99dId9"
      }
    },
    {
      "cell_type": "markdown",
      "source": [
        "![not_4hafta.docx - Word 7.07.2025 23_02_52.png](data:image/png;base64,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)"
      ],
      "metadata": {
        "id": "gS92bYise8to"
      }
    },
    {
      "cell_type": "markdown",
      "source": [
        "# not: yukarda text_vectorizer tanımdladığımız için tekrar burada tanımlamıyorum."
      ],
      "metadata": {
        "id": "RybxN6HDlZGl"
      }
    },
    {
      "cell_type": "markdown",
      "source": [
        "**text vectorization + embedding + LSTM + dense sigmoid**"
      ],
      "metadata": {
        "id": "VwnJUQdJwQf7"
      }
    },
    {
      "cell_type": "code",
      "source": [
        "# Text vectorizer\n",
        "# text_vectorizer = TextVectorization(max_tokens=10000, # En sık geçen 10000 kelimelik kelime hazinesi oluşturur.\n",
        "#                                     output_mode=\"int\",\n",
        "#                                     standardize=\"lower_and_strip_punctuation\", # Küçük harfe çevirir ve noktalama işaretlerini temizler\n",
        "#                                     split=\"whitespace\", # Kelimeleri boşluklara göre ayırır\n",
        "#                                     output_sequence_length=None) # Her bir çıktı dizisinin uzunluğunu sabitler.None -> her cümle uzunluğunda kalır.\n",
        "\n",
        "# # Eğitim cümlelerinden kelime dağarcığını öğrenmesi için:\n",
        "# text_vectorizer.adapt(train_sentences)"
      ],
      "metadata": {
        "id": "DgSEjShmocPq"
      },
      "execution_count": 32,
      "outputs": []
    },
    {
      "cell_type": "code",
      "source": [
        "# embedding layer i oluşturalım:\n",
        "\n",
        "# kodu her çalıştırdığında aynı sonuçları almak için:\n",
        "tf.random.set_seed(42)\n",
        "from tensorflow.keras import layers\n",
        "model_3_embedding = layers.Embedding(input_dim=max_vocab_length, # kelime sayısı\n",
        "                                     output_dim=128,  # Her kelime 128 boyutlu bir vektörle temsil edilecek.\n",
        "                                     embeddings_initializer=\"uniform\",\n",
        "                                     input_length=max_length,\n",
        "                                     name=\"embedding_3\")\n",
        "\n",
        "\n",
        "# Create LSTM model\n",
        "inputs = layers.Input(shape=(1,), dtype=\"string\") # giriş olarak bir string (tweet)\n",
        "\n",
        "# Token dizisine çevirelim:\n",
        "x = text_vectorizer(inputs)\n",
        "\n",
        "# Embedding'e geçirelim:\n",
        "x = model_3_embedding(x)\n",
        "print(x.shape)\n",
        "\n",
        "# 64 boyutlu gizli durum vektörüyle bir LSTM katmanı oluşturalım:\n",
        "x = layers.LSTM(64)(x)\n",
        "print(x.shape)\n",
        "\n",
        "# Çıkış, binary sınıf tahmini:\n",
        "outputs = layers.Dense(1, activation=\"sigmoid\")(x) # Çıkışı 0-1 arasında bir olasılık olarak verir (binary classification)\n",
        "model_3 = tf.keras.Model(inputs, outputs, name=\"model_3_LSTM\")"
      ],
      "metadata": {
        "colab": {
          "base_uri": "https://localhost:8080/"
        },
        "id": "hxv4rJ-Sg5UT",
        "outputId": "9ed9e5e1-4a86-4216-f045-2fab11a0f490"
      },
      "execution_count": 33,
      "outputs": [
        {
          "output_type": "stream",
          "name": "stdout",
          "text": [
            "(None, None, 128)\n",
            "(None, 64)\n"
          ]
        },
        {
          "output_type": "stream",
          "name": "stderr",
          "text": [
            "/usr/local/lib/python3.11/dist-packages/keras/src/layers/core/embedding.py:90: UserWarning: Argument `input_length` is deprecated. Just remove it.\n",
            "  warnings.warn(\n"
          ]
        }
      ]
    },
    {
      "cell_type": "code",
      "source": [
        "model_3.summary()"
      ],
      "metadata": {
        "colab": {
          "base_uri": "https://localhost:8080/",
          "height": 312
        },
        "id": "cHhjDUz1g5LP",
        "outputId": "3392e7f4-a4db-4b69-ab6a-28b272338ccb"
      },
      "execution_count": 34,
      "outputs": [
        {
          "output_type": "display_data",
          "data": {
            "text/plain": [
              "\u001b[1mModel: \"model_3_LSTM\"\u001b[0m\n"
            ],
            "text/html": [
              "<pre style=\"white-space:pre;overflow-x:auto;line-height:normal;font-family:Menlo,'DejaVu Sans Mono',consolas,'Courier New',monospace\"><span style=\"font-weight: bold\">Model: \"model_3_LSTM\"</span>\n",
              "</pre>\n"
            ]
          },
          "metadata": {}
        },
        {
          "output_type": "display_data",
          "data": {
            "text/plain": [
              "┏━━━━━━━━━━━━━━━━━━━━━━━━━━━━━━━━━┳━━━━━━━━━━━━━━━━━━━━━━━━┳━━━━━━━━━━━━━━━┓\n",
              "┃\u001b[1m \u001b[0m\u001b[1mLayer (type)                   \u001b[0m\u001b[1m \u001b[0m┃\u001b[1m \u001b[0m\u001b[1mOutput Shape          \u001b[0m\u001b[1m \u001b[0m┃\u001b[1m \u001b[0m\u001b[1m      Param #\u001b[0m\u001b[1m \u001b[0m┃\n",
              "┡━━━━━━━━━━━━━━━━━━━━━━━━━━━━━━━━━╇━━━━━━━━━━━━━━━━━━━━━━━━╇━━━━━━━━━━━━━━━┩\n",
              "│ input_layer_1 (\u001b[38;5;33mInputLayer\u001b[0m)      │ (\u001b[38;5;45mNone\u001b[0m, \u001b[38;5;34m1\u001b[0m)              │             \u001b[38;5;34m0\u001b[0m │\n",
              "├─────────────────────────────────┼────────────────────────┼───────────────┤\n",
              "│ text_vectorization              │ (\u001b[38;5;45mNone\u001b[0m, \u001b[38;5;45mNone\u001b[0m)           │             \u001b[38;5;34m0\u001b[0m │\n",
              "│ (\u001b[38;5;33mTextVectorization\u001b[0m)             │                        │               │\n",
              "├─────────────────────────────────┼────────────────────────┼───────────────┤\n",
              "│ embedding_3 (\u001b[38;5;33mEmbedding\u001b[0m)         │ (\u001b[38;5;45mNone\u001b[0m, \u001b[38;5;45mNone\u001b[0m, \u001b[38;5;34m128\u001b[0m)      │     \u001b[38;5;34m1,280,000\u001b[0m │\n",
              "├─────────────────────────────────┼────────────────────────┼───────────────┤\n",
              "│ lstm (\u001b[38;5;33mLSTM\u001b[0m)                     │ (\u001b[38;5;45mNone\u001b[0m, \u001b[38;5;34m64\u001b[0m)             │        \u001b[38;5;34m49,408\u001b[0m │\n",
              "├─────────────────────────────────┼────────────────────────┼───────────────┤\n",
              "│ dense_1 (\u001b[38;5;33mDense\u001b[0m)                 │ (\u001b[38;5;45mNone\u001b[0m, \u001b[38;5;34m1\u001b[0m)              │            \u001b[38;5;34m65\u001b[0m │\n",
              "└─────────────────────────────────┴────────────────────────┴───────────────┘\n"
            ],
            "text/html": [
              "<pre style=\"white-space:pre;overflow-x:auto;line-height:normal;font-family:Menlo,'DejaVu Sans Mono',consolas,'Courier New',monospace\">┏━━━━━━━━━━━━━━━━━━━━━━━━━━━━━━━━━┳━━━━━━━━━━━━━━━━━━━━━━━━┳━━━━━━━━━━━━━━━┓\n",
              "┃<span style=\"font-weight: bold\"> Layer (type)                    </span>┃<span style=\"font-weight: bold\"> Output Shape           </span>┃<span style=\"font-weight: bold\">       Param # </span>┃\n",
              "┡━━━━━━━━━━━━━━━━━━━━━━━━━━━━━━━━━╇━━━━━━━━━━━━━━━━━━━━━━━━╇━━━━━━━━━━━━━━━┩\n",
              "│ input_layer_1 (<span style=\"color: #0087ff; text-decoration-color: #0087ff\">InputLayer</span>)      │ (<span style=\"color: #00d7ff; text-decoration-color: #00d7ff\">None</span>, <span style=\"color: #00af00; text-decoration-color: #00af00\">1</span>)              │             <span style=\"color: #00af00; text-decoration-color: #00af00\">0</span> │\n",
              "├─────────────────────────────────┼────────────────────────┼───────────────┤\n",
              "│ text_vectorization              │ (<span style=\"color: #00d7ff; text-decoration-color: #00d7ff\">None</span>, <span style=\"color: #00d7ff; text-decoration-color: #00d7ff\">None</span>)           │             <span style=\"color: #00af00; text-decoration-color: #00af00\">0</span> │\n",
              "│ (<span style=\"color: #0087ff; text-decoration-color: #0087ff\">TextVectorization</span>)             │                        │               │\n",
              "├─────────────────────────────────┼────────────────────────┼───────────────┤\n",
              "│ embedding_3 (<span style=\"color: #0087ff; text-decoration-color: #0087ff\">Embedding</span>)         │ (<span style=\"color: #00d7ff; text-decoration-color: #00d7ff\">None</span>, <span style=\"color: #00d7ff; text-decoration-color: #00d7ff\">None</span>, <span style=\"color: #00af00; text-decoration-color: #00af00\">128</span>)      │     <span style=\"color: #00af00; text-decoration-color: #00af00\">1,280,000</span> │\n",
              "├─────────────────────────────────┼────────────────────────┼───────────────┤\n",
              "│ lstm (<span style=\"color: #0087ff; text-decoration-color: #0087ff\">LSTM</span>)                     │ (<span style=\"color: #00d7ff; text-decoration-color: #00d7ff\">None</span>, <span style=\"color: #00af00; text-decoration-color: #00af00\">64</span>)             │        <span style=\"color: #00af00; text-decoration-color: #00af00\">49,408</span> │\n",
              "├─────────────────────────────────┼────────────────────────┼───────────────┤\n",
              "│ dense_1 (<span style=\"color: #0087ff; text-decoration-color: #0087ff\">Dense</span>)                 │ (<span style=\"color: #00d7ff; text-decoration-color: #00d7ff\">None</span>, <span style=\"color: #00af00; text-decoration-color: #00af00\">1</span>)              │            <span style=\"color: #00af00; text-decoration-color: #00af00\">65</span> │\n",
              "└─────────────────────────────────┴────────────────────────┴───────────────┘\n",
              "</pre>\n"
            ]
          },
          "metadata": {}
        },
        {
          "output_type": "display_data",
          "data": {
            "text/plain": [
              "\u001b[1m Total params: \u001b[0m\u001b[38;5;34m1,329,473\u001b[0m (5.07 MB)\n"
            ],
            "text/html": [
              "<pre style=\"white-space:pre;overflow-x:auto;line-height:normal;font-family:Menlo,'DejaVu Sans Mono',consolas,'Courier New',monospace\"><span style=\"font-weight: bold\"> Total params: </span><span style=\"color: #00af00; text-decoration-color: #00af00\">1,329,473</span> (5.07 MB)\n",
              "</pre>\n"
            ]
          },
          "metadata": {}
        },
        {
          "output_type": "display_data",
          "data": {
            "text/plain": [
              "\u001b[1m Trainable params: \u001b[0m\u001b[38;5;34m1,329,473\u001b[0m (5.07 MB)\n"
            ],
            "text/html": [
              "<pre style=\"white-space:pre;overflow-x:auto;line-height:normal;font-family:Menlo,'DejaVu Sans Mono',consolas,'Courier New',monospace\"><span style=\"font-weight: bold\"> Trainable params: </span><span style=\"color: #00af00; text-decoration-color: #00af00\">1,329,473</span> (5.07 MB)\n",
              "</pre>\n"
            ]
          },
          "metadata": {}
        },
        {
          "output_type": "display_data",
          "data": {
            "text/plain": [
              "\u001b[1m Non-trainable params: \u001b[0m\u001b[38;5;34m0\u001b[0m (0.00 B)\n"
            ],
            "text/html": [
              "<pre style=\"white-space:pre;overflow-x:auto;line-height:normal;font-family:Menlo,'DejaVu Sans Mono',consolas,'Courier New',monospace\"><span style=\"font-weight: bold\"> Non-trainable params: </span><span style=\"color: #00af00; text-decoration-color: #00af00\">0</span> (0.00 B)\n",
              "</pre>\n"
            ]
          },
          "metadata": {}
        }
      ]
    },
    {
      "cell_type": "code",
      "source": [
        "# Compile model\n",
        "model_3.compile(loss=\"binary_crossentropy\",\n",
        "                optimizer=tf.keras.optimizers.Adam(learning_rate=0.01),\n",
        "                metrics=[\"accuracy\"])"
      ],
      "metadata": {
        "id": "nPfUfg2piBd2"
      },
      "execution_count": 35,
      "outputs": []
    },
    {
      "cell_type": "code",
      "source": [
        "# Fit model\n",
        "model_3_history = model_3.fit(train_sentences,\n",
        "                              train_labels,\n",
        "                              epochs=5,\n",
        "                              validation_data=(val_sentences, val_labels))"
      ],
      "metadata": {
        "colab": {
          "base_uri": "https://localhost:8080/"
        },
        "id": "uAr1kVkYiEiS",
        "outputId": "f75e3379-c246-4b81-ef25-3efb36f61d69"
      },
      "execution_count": 36,
      "outputs": [
        {
          "output_type": "stream",
          "name": "stdout",
          "text": [
            "Epoch 1/5\n",
            "\u001b[1m215/215\u001b[0m \u001b[32m━━━━━━━━━━━━━━━━━━━━\u001b[0m\u001b[37m\u001b[0m \u001b[1m10s\u001b[0m 35ms/step - accuracy: 0.6668 - loss: 0.6086 - val_accuracy: 0.7533 - val_loss: 0.4833\n",
            "Epoch 2/5\n",
            "\u001b[1m215/215\u001b[0m \u001b[32m━━━━━━━━━━━━━━━━━━━━\u001b[0m\u001b[37m\u001b[0m \u001b[1m10s\u001b[0m 33ms/step - accuracy: 0.8493 - loss: 0.3692 - val_accuracy: 0.7743 - val_loss: 0.5489\n",
            "Epoch 3/5\n",
            "\u001b[1m215/215\u001b[0m \u001b[32m━━━━━━━━━━━━━━━━━━━━\u001b[0m\u001b[37m\u001b[0m \u001b[1m6s\u001b[0m 29ms/step - accuracy: 0.9203 - loss: 0.2122 - val_accuracy: 0.7690 - val_loss: 0.7310\n",
            "Epoch 4/5\n",
            "\u001b[1m215/215\u001b[0m \u001b[32m━━━━━━━━━━━━━━━━━━━━\u001b[0m\u001b[37m\u001b[0m \u001b[1m11s\u001b[0m 30ms/step - accuracy: 0.9512 - loss: 0.1336 - val_accuracy: 0.7572 - val_loss: 0.7730\n",
            "Epoch 5/5\n",
            "\u001b[1m215/215\u001b[0m \u001b[32m━━━━━━━━━━━━━━━━━━━━\u001b[0m\u001b[37m\u001b[0m \u001b[1m8s\u001b[0m 38ms/step - accuracy: 0.9678 - loss: 0.0931 - val_accuracy: 0.7585 - val_loss: 0.9196\n"
          ]
        }
      ]
    },
    {
      "cell_type": "code",
      "source": [
        "# validasyon setinde ilk 20 tweet için tahminleri alalım:\n",
        "model_3_pred_probs = model_3.predict(val_sentences)\n",
        "model_3_pred_probs[:20]"
      ],
      "metadata": {
        "colab": {
          "base_uri": "https://localhost:8080/"
        },
        "id": "yDePtk0ckOqe",
        "outputId": "4efd6aed-a6d3-4b8b-f2bb-59f54367f88e"
      },
      "execution_count": 37,
      "outputs": [
        {
          "output_type": "stream",
          "name": "stdout",
          "text": [
            "\u001b[1m24/24\u001b[0m \u001b[32m━━━━━━━━━━━━━━━━━━━━\u001b[0m\u001b[37m\u001b[0m \u001b[1m1s\u001b[0m 16ms/step\n"
          ]
        },
        {
          "output_type": "execute_result",
          "data": {
            "text/plain": [
              "array([[0.0107625 ],\n",
              "       [0.97179866],\n",
              "       [0.99884766],\n",
              "       [0.40379867],\n",
              "       [0.9969878 ],\n",
              "       [0.99873155],\n",
              "       [0.3787395 ],\n",
              "       [0.99883705],\n",
              "       [0.99782467],\n",
              "       [0.42015988],\n",
              "       [0.00101155],\n",
              "       [0.8551034 ],\n",
              "       [0.0010089 ],\n",
              "       [0.10210315],\n",
              "       [0.00201931],\n",
              "       [0.00197908],\n",
              "       [0.0397468 ],\n",
              "       [0.00957046],\n",
              "       [0.46994615],\n",
              "       [0.96534395]], dtype=float32)"
            ]
          },
          "metadata": {},
          "execution_count": 37
        }
      ]
    },
    {
      "cell_type": "code",
      "source": [
        "#  0 veya 1'e yuvarla\n",
        "model_3_preds = tf.squeeze(tf.round(model_3_pred_probs))\n",
        "\n",
        "model_3_preds[:20]"
      ],
      "metadata": {
        "colab": {
          "base_uri": "https://localhost:8080/"
        },
        "id": "gRu7Cf0wiJPq",
        "outputId": "a1eb257a-bef9-4f66-cf8f-769439fa9040"
      },
      "execution_count": 38,
      "outputs": [
        {
          "output_type": "execute_result",
          "data": {
            "text/plain": [
              "<tf.Tensor: shape=(20,), dtype=float32, numpy=\n",
              "array([0., 1., 1., 0., 1., 1., 0., 1., 1., 0., 0., 1., 0., 0., 0., 0., 0.,\n",
              "       0., 0., 1.], dtype=float32)>"
            ]
          },
          "metadata": {},
          "execution_count": 38
        }
      ]
    },
    {
      "cell_type": "code",
      "source": [
        "# LSTM modelin başarısını hesaplayalım:\n",
        "model_3_results = calculate_results(y_true=val_labels,\n",
        "                                    y_pred=model_3_preds.numpy())\n",
        "\n",
        "model_3_results"
      ],
      "metadata": {
        "colab": {
          "base_uri": "https://localhost:8080/"
        },
        "id": "811sEEq0iWyu",
        "outputId": "dfedb5f5-b00a-4518-86b1-19d4f500444e"
      },
      "execution_count": 39,
      "outputs": [
        {
          "output_type": "execute_result",
          "data": {
            "text/plain": [
              "{'accuracy': 0.7585301837270341,\n",
              " 'precision': 0.7593999956661763,\n",
              " 'recall': 0.7585301837270341,\n",
              " 'f1': 0.756605147545421}"
            ]
          },
          "metadata": {},
          "execution_count": 39
        }
      ]
    },
    {
      "cell_type": "code",
      "source": [
        "new_tweet = tf.constant([\"Earthquake hits central California, buildings damaged.\"])\n",
        "prediction = model_3.predict(new_tweet)\n",
        "\n",
        "print(\"Prediction:\", prediction[0])"
      ],
      "metadata": {
        "colab": {
          "base_uri": "https://localhost:8080/"
        },
        "id": "gSNagAWoiiLV",
        "outputId": "bbed0988-0902-48dd-c45f-97d4bf841566"
      },
      "execution_count": 40,
      "outputs": [
        {
          "output_type": "stream",
          "name": "stdout",
          "text": [
            "\u001b[1m1/1\u001b[0m \u001b[32m━━━━━━━━━━━━━━━━━━━━\u001b[0m\u001b[37m\u001b[0m \u001b[1m0s\u001b[0m 46ms/step\n",
            "Prediction: [0.9994566]\n"
          ]
        }
      ]
    },
    {
      "cell_type": "code",
      "source": [
        "fake_tweet = tf.constant([\"Hurricane alert: buy 1 get 1 free on all sodas!\"])\n",
        "print(model_3.predict(fake_tweet))"
      ],
      "metadata": {
        "colab": {
          "base_uri": "https://localhost:8080/"
        },
        "id": "JWwWewhTiaTa",
        "outputId": "7ad914bf-1c4b-434f-8aef-da14431f95a9"
      },
      "execution_count": 41,
      "outputs": [
        {
          "output_type": "stream",
          "name": "stdout",
          "text": [
            "\u001b[1m1/1\u001b[0m \u001b[32m━━━━━━━━━━━━━━━━━━━━\u001b[0m\u001b[37m\u001b[0m \u001b[1m0s\u001b[0m 44ms/step\n",
            "[[0.04517843]]\n"
          ]
        }
      ]
    },
    {
      "cell_type": "code",
      "source": [
        "# modellerin başarı karşılaştırılması\n",
        "all_model_results = pd.DataFrame({\"baseline\": model_1_results,\n",
        "                                  \"simple_dense\": model_2_results,\n",
        "                                  \"lstm\": model_3_results})\n",
        "all_model_results = all_model_results.transpose()\n",
        "all_model_results.sort_values(\"accuracy\", ascending=False)"
      ],
      "metadata": {
        "colab": {
          "base_uri": "https://localhost:8080/",
          "height": 143
        },
        "id": "Wq8R5wDYgnVU",
        "outputId": "ada77519-54a8-4f91-a441-5ddd8349ace2"
      },
      "execution_count": 42,
      "outputs": [
        {
          "output_type": "execute_result",
          "data": {
            "text/plain": [
              "              accuracy  precision    recall        f1\n",
              "simple_dense  0.803150   0.807025  0.803150  0.800897\n",
              "baseline      0.792651   0.811139  0.792651  0.786219\n",
              "lstm          0.758530   0.759400  0.758530  0.756605"
            ],
            "text/html": [
              "\n",
              "  <div id=\"df-4a264dab-2a43-43a4-ad07-218fb5ed8104\" class=\"colab-df-container\">\n",
              "    <div>\n",
              "<style scoped>\n",
              "    .dataframe tbody tr th:only-of-type {\n",
              "        vertical-align: middle;\n",
              "    }\n",
              "\n",
              "    .dataframe tbody tr th {\n",
              "        vertical-align: top;\n",
              "    }\n",
              "\n",
              "    .dataframe thead th {\n",
              "        text-align: right;\n",
              "    }\n",
              "</style>\n",
              "<table border=\"1\" class=\"dataframe\">\n",
              "  <thead>\n",
              "    <tr style=\"text-align: right;\">\n",
              "      <th></th>\n",
              "      <th>accuracy</th>\n",
              "      <th>precision</th>\n",
              "      <th>recall</th>\n",
              "      <th>f1</th>\n",
              "    </tr>\n",
              "  </thead>\n",
              "  <tbody>\n",
              "    <tr>\n",
              "      <th>simple_dense</th>\n",
              "      <td>0.803150</td>\n",
              "      <td>0.807025</td>\n",
              "      <td>0.803150</td>\n",
              "      <td>0.800897</td>\n",
              "    </tr>\n",
              "    <tr>\n",
              "      <th>baseline</th>\n",
              "      <td>0.792651</td>\n",
              "      <td>0.811139</td>\n",
              "      <td>0.792651</td>\n",
              "      <td>0.786219</td>\n",
              "    </tr>\n",
              "    <tr>\n",
              "      <th>lstm</th>\n",
              "      <td>0.758530</td>\n",
              "      <td>0.759400</td>\n",
              "      <td>0.758530</td>\n",
              "      <td>0.756605</td>\n",
              "    </tr>\n",
              "  </tbody>\n",
              "</table>\n",
              "</div>\n",
              "    <div class=\"colab-df-buttons\">\n",
              "\n",
              "  <div class=\"colab-df-container\">\n",
              "    <button class=\"colab-df-convert\" onclick=\"convertToInteractive('df-4a264dab-2a43-43a4-ad07-218fb5ed8104')\"\n",
              "            title=\"Convert this dataframe to an interactive table.\"\n",
              "            style=\"display:none;\">\n",
              "\n",
              "  <svg xmlns=\"http://www.w3.org/2000/svg\" height=\"24px\" viewBox=\"0 -960 960 960\">\n",
              "    <path d=\"M120-120v-720h720v720H120Zm60-500h600v-160H180v160Zm220 220h160v-160H400v160Zm0 220h160v-160H400v160ZM180-400h160v-160H180v160Zm440 0h160v-160H620v160ZM180-180h160v-160H180v160Zm440 0h160v-160H620v160Z\"/>\n",
              "  </svg>\n",
              "    </button>\n",
              "\n",
              "  <style>\n",
              "    .colab-df-container {\n",
              "      display:flex;\n",
              "      gap: 12px;\n",
              "    }\n",
              "\n",
              "    .colab-df-convert {\n",
              "      background-color: #E8F0FE;\n",
              "      border: none;\n",
              "      border-radius: 50%;\n",
              "      cursor: pointer;\n",
              "      display: none;\n",
              "      fill: #1967D2;\n",
              "      height: 32px;\n",
              "      padding: 0 0 0 0;\n",
              "      width: 32px;\n",
              "    }\n",
              "\n",
              "    .colab-df-convert:hover {\n",
              "      background-color: #E2EBFA;\n",
              "      box-shadow: 0px 1px 2px rgba(60, 64, 67, 0.3), 0px 1px 3px 1px rgba(60, 64, 67, 0.15);\n",
              "      fill: #174EA6;\n",
              "    }\n",
              "\n",
              "    .colab-df-buttons div {\n",
              "      margin-bottom: 4px;\n",
              "    }\n",
              "\n",
              "    [theme=dark] .colab-df-convert {\n",
              "      background-color: #3B4455;\n",
              "      fill: #D2E3FC;\n",
              "    }\n",
              "\n",
              "    [theme=dark] .colab-df-convert:hover {\n",
              "      background-color: #434B5C;\n",
              "      box-shadow: 0px 1px 3px 1px rgba(0, 0, 0, 0.15);\n",
              "      filter: drop-shadow(0px 1px 2px rgba(0, 0, 0, 0.3));\n",
              "      fill: #FFFFFF;\n",
              "    }\n",
              "  </style>\n",
              "\n",
              "    <script>\n",
              "      const buttonEl =\n",
              "        document.querySelector('#df-4a264dab-2a43-43a4-ad07-218fb5ed8104 button.colab-df-convert');\n",
              "      buttonEl.style.display =\n",
              "        google.colab.kernel.accessAllowed ? 'block' : 'none';\n",
              "\n",
              "      async function convertToInteractive(key) {\n",
              "        const element = document.querySelector('#df-4a264dab-2a43-43a4-ad07-218fb5ed8104');\n",
              "        const dataTable =\n",
              "          await google.colab.kernel.invokeFunction('convertToInteractive',\n",
              "                                                    [key], {});\n",
              "        if (!dataTable) return;\n",
              "\n",
              "        const docLinkHtml = 'Like what you see? Visit the ' +\n",
              "          '<a target=\"_blank\" href=https://colab.research.google.com/notebooks/data_table.ipynb>data table notebook</a>'\n",
              "          + ' to learn more about interactive tables.';\n",
              "        element.innerHTML = '';\n",
              "        dataTable['output_type'] = 'display_data';\n",
              "        await google.colab.output.renderOutput(dataTable, element);\n",
              "        const docLink = document.createElement('div');\n",
              "        docLink.innerHTML = docLinkHtml;\n",
              "        element.appendChild(docLink);\n",
              "      }\n",
              "    </script>\n",
              "  </div>\n",
              "\n",
              "\n",
              "    <div id=\"df-e7b5f52a-b170-4afb-a895-35594eeddd5c\">\n",
              "      <button class=\"colab-df-quickchart\" onclick=\"quickchart('df-e7b5f52a-b170-4afb-a895-35594eeddd5c')\"\n",
              "                title=\"Suggest charts\"\n",
              "                style=\"display:none;\">\n",
              "\n",
              "<svg xmlns=\"http://www.w3.org/2000/svg\" height=\"24px\"viewBox=\"0 0 24 24\"\n",
              "     width=\"24px\">\n",
              "    <g>\n",
              "        <path d=\"M19 3H5c-1.1 0-2 .9-2 2v14c0 1.1.9 2 2 2h14c1.1 0 2-.9 2-2V5c0-1.1-.9-2-2-2zM9 17H7v-7h2v7zm4 0h-2V7h2v10zm4 0h-2v-4h2v4z\"/>\n",
              "    </g>\n",
              "</svg>\n",
              "      </button>\n",
              "\n",
              "<style>\n",
              "  .colab-df-quickchart {\n",
              "      --bg-color: #E8F0FE;\n",
              "      --fill-color: #1967D2;\n",
              "      --hover-bg-color: #E2EBFA;\n",
              "      --hover-fill-color: #174EA6;\n",
              "      --disabled-fill-color: #AAA;\n",
              "      --disabled-bg-color: #DDD;\n",
              "  }\n",
              "\n",
              "  [theme=dark] .colab-df-quickchart {\n",
              "      --bg-color: #3B4455;\n",
              "      --fill-color: #D2E3FC;\n",
              "      --hover-bg-color: #434B5C;\n",
              "      --hover-fill-color: #FFFFFF;\n",
              "      --disabled-bg-color: #3B4455;\n",
              "      --disabled-fill-color: #666;\n",
              "  }\n",
              "\n",
              "  .colab-df-quickchart {\n",
              "    background-color: var(--bg-color);\n",
              "    border: none;\n",
              "    border-radius: 50%;\n",
              "    cursor: pointer;\n",
              "    display: none;\n",
              "    fill: var(--fill-color);\n",
              "    height: 32px;\n",
              "    padding: 0;\n",
              "    width: 32px;\n",
              "  }\n",
              "\n",
              "  .colab-df-quickchart:hover {\n",
              "    background-color: var(--hover-bg-color);\n",
              "    box-shadow: 0 1px 2px rgba(60, 64, 67, 0.3), 0 1px 3px 1px rgba(60, 64, 67, 0.15);\n",
              "    fill: var(--button-hover-fill-color);\n",
              "  }\n",
              "\n",
              "  .colab-df-quickchart-complete:disabled,\n",
              "  .colab-df-quickchart-complete:disabled:hover {\n",
              "    background-color: var(--disabled-bg-color);\n",
              "    fill: var(--disabled-fill-color);\n",
              "    box-shadow: none;\n",
              "  }\n",
              "\n",
              "  .colab-df-spinner {\n",
              "    border: 2px solid var(--fill-color);\n",
              "    border-color: transparent;\n",
              "    border-bottom-color: var(--fill-color);\n",
              "    animation:\n",
              "      spin 1s steps(1) infinite;\n",
              "  }\n",
              "\n",
              "  @keyframes spin {\n",
              "    0% {\n",
              "      border-color: transparent;\n",
              "      border-bottom-color: var(--fill-color);\n",
              "      border-left-color: var(--fill-color);\n",
              "    }\n",
              "    20% {\n",
              "      border-color: transparent;\n",
              "      border-left-color: var(--fill-color);\n",
              "      border-top-color: var(--fill-color);\n",
              "    }\n",
              "    30% {\n",
              "      border-color: transparent;\n",
              "      border-left-color: var(--fill-color);\n",
              "      border-top-color: var(--fill-color);\n",
              "      border-right-color: var(--fill-color);\n",
              "    }\n",
              "    40% {\n",
              "      border-color: transparent;\n",
              "      border-right-color: var(--fill-color);\n",
              "      border-top-color: var(--fill-color);\n",
              "    }\n",
              "    60% {\n",
              "      border-color: transparent;\n",
              "      border-right-color: var(--fill-color);\n",
              "    }\n",
              "    80% {\n",
              "      border-color: transparent;\n",
              "      border-right-color: var(--fill-color);\n",
              "      border-bottom-color: var(--fill-color);\n",
              "    }\n",
              "    90% {\n",
              "      border-color: transparent;\n",
              "      border-bottom-color: var(--fill-color);\n",
              "    }\n",
              "  }\n",
              "</style>\n",
              "\n",
              "      <script>\n",
              "        async function quickchart(key) {\n",
              "          const quickchartButtonEl =\n",
              "            document.querySelector('#' + key + ' button');\n",
              "          quickchartButtonEl.disabled = true;  // To prevent multiple clicks.\n",
              "          quickchartButtonEl.classList.add('colab-df-spinner');\n",
              "          try {\n",
              "            const charts = await google.colab.kernel.invokeFunction(\n",
              "                'suggestCharts', [key], {});\n",
              "          } catch (error) {\n",
              "            console.error('Error during call to suggestCharts:', error);\n",
              "          }\n",
              "          quickchartButtonEl.classList.remove('colab-df-spinner');\n",
              "          quickchartButtonEl.classList.add('colab-df-quickchart-complete');\n",
              "        }\n",
              "        (() => {\n",
              "          let quickchartButtonEl =\n",
              "            document.querySelector('#df-e7b5f52a-b170-4afb-a895-35594eeddd5c button');\n",
              "          quickchartButtonEl.style.display =\n",
              "            google.colab.kernel.accessAllowed ? 'block' : 'none';\n",
              "        })();\n",
              "      </script>\n",
              "    </div>\n",
              "\n",
              "    </div>\n",
              "  </div>\n"
            ],
            "application/vnd.google.colaboratory.intrinsic+json": {
              "type": "dataframe",
              "summary": "{\n  \"name\": \"all_model_results\",\n  \"rows\": 3,\n  \"fields\": [\n    {\n      \"column\": \"accuracy\",\n      \"properties\": {\n        \"dtype\": \"number\",\n        \"std\": 0.023328594271169553,\n        \"min\": 0.7585301837270341,\n        \"max\": 0.8031496062992126,\n        \"num_unique_values\": 3,\n        \"samples\": [\n          0.8031496062992126,\n          0.7926509186351706,\n          0.7585301837270341\n        ],\n        \"semantic_type\": \"\",\n        \"description\": \"\"\n      }\n    },\n    {\n      \"column\": \"precision\",\n      \"properties\": {\n        \"dtype\": \"number\",\n        \"std\": 0.02875753235858876,\n        \"min\": 0.7593999956661763,\n        \"max\": 0.8111390004213173,\n        \"num_unique_values\": 3,\n        \"samples\": [\n          0.8070248087120978,\n          0.8111390004213173,\n          0.7593999956661763\n        ],\n        \"semantic_type\": \"\",\n        \"description\": \"\"\n      }\n    },\n    {\n      \"column\": \"recall\",\n      \"properties\": {\n        \"dtype\": \"number\",\n        \"std\": 0.023328594271169553,\n        \"min\": 0.7585301837270341,\n        \"max\": 0.8031496062992126,\n        \"num_unique_values\": 3,\n        \"samples\": [\n          0.8031496062992126,\n          0.7926509186351706,\n          0.7585301837270341\n        ],\n        \"semantic_type\": \"\",\n        \"description\": \"\"\n      }\n    },\n    {\n      \"column\": \"f1\",\n      \"properties\": {\n        \"dtype\": \"number\",\n        \"std\": 0.022561684768905573,\n        \"min\": 0.756605147545421,\n        \"max\": 0.800896883884174,\n        \"num_unique_values\": 3,\n        \"samples\": [\n          0.800896883884174,\n          0.7862189758049549,\n          0.756605147545421\n        ],\n        \"semantic_type\": \"\",\n        \"description\": \"\"\n      }\n    }\n  ]\n}"
            }
          },
          "metadata": {},
          "execution_count": 42
        }
      ]
    },
    {
      "cell_type": "code",
      "source": [],
      "metadata": {
        "id": "gYFKfdslfR9Q"
      },
      "execution_count": null,
      "outputs": []
    }
  ]
}